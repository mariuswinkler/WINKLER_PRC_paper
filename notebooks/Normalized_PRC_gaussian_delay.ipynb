{
 "cells": [
  {
   "cell_type": "code",
   "execution_count": 1,
   "metadata": {
    "execution": {
     "iopub.execute_input": "2025-03-28T04:09:38.016253Z",
     "iopub.status.busy": "2025-03-28T04:09:38.015845Z",
     "iopub.status.idle": "2025-03-28T04:09:38.615819Z",
     "shell.execute_reply": "2025-03-28T04:09:38.615095Z"
    }
   },
   "outputs": [
    {
     "name": "stdout",
     "output_type": "stream",
     "text": [
      "📢 Using parameters: C=0.01, sig=0.12, itr=20000\n"
     ]
    }
   ],
   "source": [
    "import sys\n",
    "sys.path.append(\"..\")  # Ensure project root is found\n",
    "\n",
    "# Import configurations\n",
    "from configs.plot_config import apply_plot_settings\n",
    "from configs.math_functions import F, gaussian\n",
    "from configs.parameters import *\n",
    "from configs.filenames import *\n",
    "\n",
    "import matplotlib.pyplot as plt\n",
    "import numpy as np\n",
    "import os\n",
    "\n",
    "C = float(os.getenv(\"C\", C))\n",
    "sig = float(os.getenv(\"sig\", sig))\n",
    "itr = int(os.getenv(\"itr\", itr))\n",
    "\n",
    "print(f\"📢 Using parameters: C={C}, sig={sig}, itr={itr}\")"
   ]
  },
  {
   "cell_type": "code",
   "execution_count": 2,
   "metadata": {
    "execution": {
     "iopub.execute_input": "2025-03-28T04:09:38.649234Z",
     "iopub.status.busy": "2025-03-28T04:09:38.648823Z",
     "iopub.status.idle": "2025-03-28T04:09:38.661870Z",
     "shell.execute_reply": "2025-03-28T04:09:38.661241Z"
    }
   },
   "outputs": [
    {
     "name": "stdout",
     "output_type": "stream",
     "text": [
      "✅ Opened ../data/WCM_GAUSSIAN_delay_itr=20000_dt=0.005_tau=1_sig=0.12_wee=20_wei=21_wie=16_wii=6_ie=1.5_ii=-0.5_E0=0_I0=0.npy\n",
      "✅ Opened ../data/PRC_WCM_GAUSSIAN_delay_itr=20000_dt=0.005_tau=1_sig=0.12_wee=20_wei=21_wie=16_wii=6_ie=1.5_ii=-0.5_ZE1=-5_ZI1=1.npy\n"
     ]
    }
   ],
   "source": [
    "output_dir = \"../data/\"\n",
    "\n",
    "lower_bound = int(30/dt)\n",
    "upper_bound = int(80/dt)\n",
    "\n",
    "params = get_params_for_filename(param_keys, globals())\n",
    "filename = get_filename(\"gaussian\", \"WCM\", **params)\n",
    "savefile = os.path.join(output_dir, filename)\n",
    "data = np.load(savefile, allow_pickle=True)      \n",
    "tt, synEE, synII, EE, II = data[lower_bound:upper_bound,0], data[lower_bound:upper_bound,1], data[lower_bound:upper_bound,2], data[lower_bound:upper_bound,3], data[lower_bound:upper_bound,4]\n",
    "print(f\"✅ Opened {savefile}\")\n",
    "\n",
    "params = get_params_for_filename(param_keys, globals())\n",
    "filename = get_filename(\"gaussian\", \"PRC\", **params)\n",
    "savefile = os.path.join(output_dir, filename)\n",
    "data = np.load(savefile, allow_pickle=True)      \n",
    "tt, synEE_PRC, synII_PRC, ZE, ZI = data[lower_bound:upper_bound,0], data[lower_bound:upper_bound,1], data[lower_bound:upper_bound,2], data[lower_bound:upper_bound,3], data[lower_bound:upper_bound,4]\n",
    "print(f\"✅ Opened {savefile}\")"
   ]
  },
  {
   "cell_type": "code",
   "execution_count": 3,
   "metadata": {
    "execution": {
     "iopub.execute_input": "2025-03-28T04:09:38.663805Z",
     "iopub.status.busy": "2025-03-28T04:09:38.663484Z",
     "iopub.status.idle": "2025-03-28T04:33:01.704625Z",
     "shell.execute_reply": "2025-03-28T04:33:01.703897Z"
    }
   },
   "outputs": [
    {
     "name": "stdout",
     "output_type": "stream",
     "text": [
      "3332\n",
      "0\r",
      "1\r",
      "2\r",
      "3\r",
      "4\r",
      "5\r",
      "6\r",
      "7\r",
      "8\r",
      "9\r",
      "10\r",
      "11\r",
      "12\r",
      "13\r",
      "14\r",
      "15\r",
      "16\r",
      "17\r",
      "18\r",
      "19\r",
      "20\r",
      "21\r",
      "22\r",
      "23\r",
      "24\r",
      "25\r",
      "26\r",
      "27\r",
      "28\r",
      "29\r",
      "30\r",
      "31\r",
      "32\r",
      "33\r",
      "34\r",
      "35\r",
      "36\r",
      "37\r",
      "38\r",
      "39\r",
      "40\r",
      "41\r",
      "42\r",
      "43\r",
      "44\r",
      "45\r",
      "46\r",
      "47\r",
      "48\r",
      "49\r",
      "50\r",
      "51\r",
      "52\r",
      "53\r",
      "54\r",
      "55\r",
      "56\r",
      "57\r",
      "58\r",
      "59\r",
      "60\r",
      "61\r",
      "62\r"
     ]
    },
    {
     "name": "stdout",
     "output_type": "stream",
     "text": [
      "63\r",
      "64\r",
      "65\r",
      "66\r",
      "67\r",
      "68\r",
      "69\r"
     ]
    },
    {
     "name": "stdout",
     "output_type": "stream",
     "text": [
      "70\r",
      "71\r"
     ]
    },
    {
     "name": "stdout",
     "output_type": "stream",
     "text": [
      "72\r",
      "73\r",
      "74\r",
      "75\r",
      "76\r",
      "77\r",
      "78\r",
      "79\r",
      "80\r",
      "81\r",
      "82\r",
      "83\r",
      "84\r",
      "85\r",
      "86\r",
      "87\r",
      "88\r",
      "89\r",
      "90\r",
      "91\r",
      "92\r",
      "93\r",
      "94\r"
     ]
    },
    {
     "name": "stdout",
     "output_type": "stream",
     "text": [
      "95\r",
      "96\r",
      "97\r",
      "98\r",
      "99\r",
      "100\r"
     ]
    },
    {
     "name": "stdout",
     "output_type": "stream",
     "text": [
      "101\r"
     ]
    },
    {
     "name": "stdout",
     "output_type": "stream",
     "text": [
      "102\r",
      "103\r",
      "104\r",
      "105\r",
      "106\r",
      "107\r",
      "108\r",
      "109\r",
      "110\r",
      "111\r",
      "112\r",
      "113\r",
      "114\r",
      "115\r",
      "116\r",
      "117\r",
      "118\r"
     ]
    },
    {
     "name": "stdout",
     "output_type": "stream",
     "text": [
      "119\r",
      "120\r",
      "121\r",
      "122\r",
      "123\r"
     ]
    },
    {
     "name": "stdout",
     "output_type": "stream",
     "text": [
      "124\r",
      "125\r",
      "126\r"
     ]
    },
    {
     "name": "stdout",
     "output_type": "stream",
     "text": [
      "127\r",
      "128\r",
      "129\r",
      "130\r",
      "131\r",
      "132\r",
      "133\r",
      "134\r",
      "135\r",
      "136\r",
      "137\r",
      "138\r"
     ]
    },
    {
     "name": "stdout",
     "output_type": "stream",
     "text": [
      "139\r",
      "140\r",
      "141\r"
     ]
    },
    {
     "name": "stdout",
     "output_type": "stream",
     "text": [
      "142\r",
      "143\r",
      "144\r"
     ]
    },
    {
     "name": "stdout",
     "output_type": "stream",
     "text": [
      "145\r",
      "146\r",
      "147\r",
      "148\r",
      "149\r",
      "150\r",
      "151\r",
      "152\r",
      "153\r",
      "154\r",
      "155\r"
     ]
    },
    {
     "name": "stdout",
     "output_type": "stream",
     "text": [
      "156\r",
      "157\r",
      "158\r"
     ]
    },
    {
     "name": "stdout",
     "output_type": "stream",
     "text": [
      "159\r"
     ]
    },
    {
     "name": "stdout",
     "output_type": "stream",
     "text": [
      "160\r",
      "161\r",
      "162\r",
      "163\r",
      "164\r",
      "165\r",
      "166\r",
      "167\r",
      "168\r",
      "169\r"
     ]
    },
    {
     "name": "stdout",
     "output_type": "stream",
     "text": [
      "170\r",
      "171\r",
      "172\r"
     ]
    },
    {
     "name": "stdout",
     "output_type": "stream",
     "text": [
      "173\r"
     ]
    },
    {
     "name": "stdout",
     "output_type": "stream",
     "text": [
      "174\r",
      "175\r",
      "176\r",
      "177\r",
      "178\r",
      "179\r",
      "180\r",
      "181\r",
      "182\r"
     ]
    },
    {
     "name": "stdout",
     "output_type": "stream",
     "text": [
      "183\r",
      "184\r",
      "185\r"
     ]
    },
    {
     "name": "stdout",
     "output_type": "stream",
     "text": [
      "186\r"
     ]
    },
    {
     "name": "stdout",
     "output_type": "stream",
     "text": [
      "187\r",
      "188\r",
      "189\r",
      "190\r",
      "191\r",
      "192\r",
      "193\r",
      "194\r",
      "195\r"
     ]
    },
    {
     "name": "stdout",
     "output_type": "stream",
     "text": [
      "196\r",
      "197\r"
     ]
    },
    {
     "name": "stdout",
     "output_type": "stream",
     "text": [
      "198\r",
      "199\r"
     ]
    },
    {
     "name": "stdout",
     "output_type": "stream",
     "text": [
      "200\r",
      "201\r",
      "202\r",
      "203\r",
      "204\r",
      "205\r",
      "206\r"
     ]
    },
    {
     "name": "stdout",
     "output_type": "stream",
     "text": [
      "207\r",
      "208\r"
     ]
    },
    {
     "name": "stdout",
     "output_type": "stream",
     "text": [
      "209\r",
      "210\r"
     ]
    },
    {
     "name": "stdout",
     "output_type": "stream",
     "text": [
      "211\r",
      "212\r",
      "213\r",
      "214\r",
      "215\r",
      "216\r",
      "217\r"
     ]
    },
    {
     "name": "stdout",
     "output_type": "stream",
     "text": [
      "218\r",
      "219\r"
     ]
    },
    {
     "name": "stdout",
     "output_type": "stream",
     "text": [
      "220\r"
     ]
    },
    {
     "name": "stdout",
     "output_type": "stream",
     "text": [
      "221\r",
      "222\r",
      "223\r",
      "224\r",
      "225\r",
      "226\r",
      "227\r"
     ]
    },
    {
     "name": "stdout",
     "output_type": "stream",
     "text": [
      "228\r",
      "229\r"
     ]
    },
    {
     "name": "stdout",
     "output_type": "stream",
     "text": [
      "230\r"
     ]
    },
    {
     "name": "stdout",
     "output_type": "stream",
     "text": [
      "231\r",
      "232\r",
      "233\r",
      "234\r",
      "235\r",
      "236\r",
      "237\r"
     ]
    },
    {
     "name": "stdout",
     "output_type": "stream",
     "text": [
      "238\r",
      "239\r"
     ]
    },
    {
     "name": "stdout",
     "output_type": "stream",
     "text": [
      "240\r",
      "241\r",
      "242\r",
      "243\r",
      "244\r",
      "245\r",
      "246\r"
     ]
    },
    {
     "name": "stdout",
     "output_type": "stream",
     "text": [
      "247\r",
      "248\r"
     ]
    },
    {
     "name": "stdout",
     "output_type": "stream",
     "text": [
      "249\r",
      "250\r",
      "251\r",
      "252\r",
      "253\r",
      "254\r"
     ]
    },
    {
     "name": "stdout",
     "output_type": "stream",
     "text": [
      "255\r",
      "256\r"
     ]
    },
    {
     "name": "stdout",
     "output_type": "stream",
     "text": [
      "257\r",
      "258\r",
      "259\r",
      "260\r",
      "261\r",
      "262\r"
     ]
    },
    {
     "name": "stdout",
     "output_type": "stream",
     "text": [
      "263\r",
      "264\r"
     ]
    },
    {
     "name": "stdout",
     "output_type": "stream",
     "text": [
      "265\r",
      "266\r",
      "267\r",
      "268\r",
      "269\r",
      "270\r"
     ]
    },
    {
     "name": "stdout",
     "output_type": "stream",
     "text": [
      "271\r",
      "272\r"
     ]
    },
    {
     "name": "stdout",
     "output_type": "stream",
     "text": [
      "273\r",
      "274\r",
      "275\r",
      "276\r",
      "277\r",
      "278\r"
     ]
    },
    {
     "name": "stdout",
     "output_type": "stream",
     "text": [
      "279\r",
      "280\r"
     ]
    },
    {
     "name": "stdout",
     "output_type": "stream",
     "text": [
      "281\r",
      "282\r",
      "283\r",
      "284\r",
      "285\r",
      "286\r"
     ]
    },
    {
     "name": "stdout",
     "output_type": "stream",
     "text": [
      "287\r"
     ]
    },
    {
     "name": "stdout",
     "output_type": "stream",
     "text": [
      "288\r",
      "289\r",
      "290\r",
      "291\r",
      "292\r",
      "293\r"
     ]
    },
    {
     "name": "stdout",
     "output_type": "stream",
     "text": [
      "294\r"
     ]
    },
    {
     "name": "stdout",
     "output_type": "stream",
     "text": [
      "295\r",
      "296\r",
      "297\r",
      "298\r",
      "299\r",
      "300\r"
     ]
    },
    {
     "name": "stdout",
     "output_type": "stream",
     "text": [
      "301\r"
     ]
    },
    {
     "name": "stdout",
     "output_type": "stream",
     "text": [
      "302\r",
      "303\r",
      "304\r",
      "305\r",
      "306\r",
      "307\r"
     ]
    },
    {
     "name": "stdout",
     "output_type": "stream",
     "text": [
      "308\r"
     ]
    },
    {
     "name": "stdout",
     "output_type": "stream",
     "text": [
      "309\r",
      "310\r",
      "311\r",
      "312\r",
      "313\r",
      "314\r"
     ]
    },
    {
     "name": "stdout",
     "output_type": "stream",
     "text": [
      "315\r"
     ]
    },
    {
     "name": "stdout",
     "output_type": "stream",
     "text": [
      "316\r",
      "317\r",
      "318\r",
      "319\r",
      "320\r",
      "321\r"
     ]
    },
    {
     "name": "stdout",
     "output_type": "stream",
     "text": [
      "322\r",
      "323\r",
      "324\r",
      "325\r",
      "326\r",
      "327\r"
     ]
    },
    {
     "name": "stdout",
     "output_type": "stream",
     "text": [
      "328\r",
      "329\r",
      "330\r",
      "331\r",
      "332\r",
      "333\r"
     ]
    },
    {
     "name": "stdout",
     "output_type": "stream",
     "text": [
      "334\r",
      "335\r",
      "336\r",
      "337\r",
      "338\r",
      "339\r"
     ]
    },
    {
     "name": "stdout",
     "output_type": "stream",
     "text": [
      "340\r",
      "341\r",
      "342\r",
      "343\r",
      "344\r",
      "345\r"
     ]
    },
    {
     "name": "stdout",
     "output_type": "stream",
     "text": [
      "346\r",
      "347\r",
      "348\r",
      "349\r",
      "350\r",
      "351\r"
     ]
    },
    {
     "name": "stdout",
     "output_type": "stream",
     "text": [
      "352\r",
      "353\r",
      "354\r",
      "355\r",
      "356\r",
      "357\r"
     ]
    },
    {
     "name": "stdout",
     "output_type": "stream",
     "text": [
      "358\r",
      "359\r",
      "360\r",
      "361\r",
      "362\r",
      "363\r"
     ]
    },
    {
     "name": "stdout",
     "output_type": "stream",
     "text": [
      "364\r",
      "365\r",
      "366\r",
      "367\r",
      "368\r",
      "369\r"
     ]
    },
    {
     "name": "stdout",
     "output_type": "stream",
     "text": [
      "370\r",
      "371\r",
      "372\r",
      "373\r",
      "374\r"
     ]
    },
    {
     "name": "stdout",
     "output_type": "stream",
     "text": [
      "375\r",
      "376\r",
      "377\r",
      "378\r",
      "379\r",
      "380\r"
     ]
    },
    {
     "name": "stdout",
     "output_type": "stream",
     "text": [
      "381\r",
      "382\r",
      "383\r",
      "384\r",
      "385\r"
     ]
    },
    {
     "name": "stdout",
     "output_type": "stream",
     "text": [
      "386\r",
      "387\r",
      "388\r",
      "389\r",
      "390\r"
     ]
    },
    {
     "name": "stdout",
     "output_type": "stream",
     "text": [
      "391\r",
      "392\r",
      "393\r",
      "394\r",
      "395\r"
     ]
    },
    {
     "name": "stdout",
     "output_type": "stream",
     "text": [
      "396\r",
      "397\r",
      "398\r",
      "399\r",
      "400\r"
     ]
    },
    {
     "name": "stdout",
     "output_type": "stream",
     "text": [
      "401\r",
      "402\r",
      "403\r",
      "404\r",
      "405\r"
     ]
    },
    {
     "name": "stdout",
     "output_type": "stream",
     "text": [
      "406\r",
      "407\r",
      "408\r",
      "409\r",
      "410\r"
     ]
    },
    {
     "name": "stdout",
     "output_type": "stream",
     "text": [
      "411\r",
      "412\r",
      "413\r",
      "414\r",
      "415\r"
     ]
    },
    {
     "name": "stdout",
     "output_type": "stream",
     "text": [
      "416\r",
      "417\r",
      "418\r",
      "419\r",
      "420\r"
     ]
    },
    {
     "name": "stdout",
     "output_type": "stream",
     "text": [
      "421\r",
      "422\r",
      "423\r",
      "424\r",
      "425\r"
     ]
    },
    {
     "name": "stdout",
     "output_type": "stream",
     "text": [
      "426\r",
      "427\r",
      "428\r",
      "429\r",
      "430\r"
     ]
    },
    {
     "name": "stdout",
     "output_type": "stream",
     "text": [
      "431\r",
      "432\r",
      "433\r",
      "434\r"
     ]
    },
    {
     "name": "stdout",
     "output_type": "stream",
     "text": [
      "435\r",
      "436\r",
      "437\r",
      "438\r",
      "439\r"
     ]
    },
    {
     "name": "stdout",
     "output_type": "stream",
     "text": [
      "440\r",
      "441\r",
      "442\r",
      "443\r"
     ]
    },
    {
     "name": "stdout",
     "output_type": "stream",
     "text": [
      "444\r",
      "445\r",
      "446\r",
      "447\r"
     ]
    },
    {
     "name": "stdout",
     "output_type": "stream",
     "text": [
      "448\r",
      "449\r",
      "450\r",
      "451\r"
     ]
    },
    {
     "name": "stdout",
     "output_type": "stream",
     "text": [
      "452\r",
      "453\r",
      "454\r",
      "455\r"
     ]
    },
    {
     "name": "stdout",
     "output_type": "stream",
     "text": [
      "456\r",
      "457\r",
      "458\r",
      "459\r"
     ]
    },
    {
     "name": "stdout",
     "output_type": "stream",
     "text": [
      "460\r",
      "461\r",
      "462\r",
      "463\r"
     ]
    },
    {
     "name": "stdout",
     "output_type": "stream",
     "text": [
      "464\r",
      "465\r",
      "466\r",
      "467\r"
     ]
    },
    {
     "name": "stdout",
     "output_type": "stream",
     "text": [
      "468\r",
      "469\r",
      "470\r",
      "471\r"
     ]
    },
    {
     "name": "stdout",
     "output_type": "stream",
     "text": [
      "472\r",
      "473\r",
      "474\r",
      "475\r"
     ]
    },
    {
     "name": "stdout",
     "output_type": "stream",
     "text": [
      "476\r",
      "477\r",
      "478\r",
      "479\r"
     ]
    },
    {
     "name": "stdout",
     "output_type": "stream",
     "text": [
      "480\r",
      "481\r",
      "482\r",
      "483\r"
     ]
    },
    {
     "name": "stdout",
     "output_type": "stream",
     "text": [
      "484\r",
      "485\r",
      "486\r",
      "487\r"
     ]
    },
    {
     "name": "stdout",
     "output_type": "stream",
     "text": [
      "488\r",
      "489\r",
      "490\r",
      "491\r"
     ]
    },
    {
     "name": "stdout",
     "output_type": "stream",
     "text": [
      "492\r",
      "493\r",
      "494\r",
      "495\r"
     ]
    },
    {
     "name": "stdout",
     "output_type": "stream",
     "text": [
      "496\r",
      "497\r",
      "498\r",
      "499\r"
     ]
    },
    {
     "name": "stdout",
     "output_type": "stream",
     "text": [
      "500\r",
      "501\r",
      "502\r",
      "503\r"
     ]
    },
    {
     "name": "stdout",
     "output_type": "stream",
     "text": [
      "504\r",
      "505\r",
      "506\r",
      "507\r"
     ]
    },
    {
     "name": "stdout",
     "output_type": "stream",
     "text": [
      "508\r",
      "509\r",
      "510\r",
      "511\r"
     ]
    },
    {
     "name": "stdout",
     "output_type": "stream",
     "text": [
      "512\r",
      "513\r",
      "514\r",
      "515\r"
     ]
    },
    {
     "name": "stdout",
     "output_type": "stream",
     "text": [
      "516\r",
      "517\r",
      "518\r",
      "519\r"
     ]
    },
    {
     "name": "stdout",
     "output_type": "stream",
     "text": [
      "520\r",
      "521\r",
      "522\r",
      "523\r"
     ]
    },
    {
     "name": "stdout",
     "output_type": "stream",
     "text": [
      "524\r",
      "525\r",
      "526\r",
      "527\r"
     ]
    },
    {
     "name": "stdout",
     "output_type": "stream",
     "text": [
      "528\r",
      "529\r",
      "530\r",
      "531\r"
     ]
    },
    {
     "name": "stdout",
     "output_type": "stream",
     "text": [
      "532\r",
      "533\r",
      "534\r",
      "535\r"
     ]
    },
    {
     "name": "stdout",
     "output_type": "stream",
     "text": [
      "536\r",
      "537\r",
      "538\r"
     ]
    },
    {
     "name": "stdout",
     "output_type": "stream",
     "text": [
      "539\r",
      "540\r",
      "541\r"
     ]
    },
    {
     "name": "stdout",
     "output_type": "stream",
     "text": [
      "542\r",
      "543\r",
      "544\r",
      "545\r"
     ]
    },
    {
     "name": "stdout",
     "output_type": "stream",
     "text": [
      "546\r",
      "547\r",
      "548\r"
     ]
    },
    {
     "name": "stdout",
     "output_type": "stream",
     "text": [
      "549\r",
      "550\r",
      "551\r"
     ]
    },
    {
     "name": "stdout",
     "output_type": "stream",
     "text": [
      "552\r",
      "553\r",
      "554\r"
     ]
    },
    {
     "name": "stdout",
     "output_type": "stream",
     "text": [
      "555\r",
      "556\r",
      "557\r"
     ]
    },
    {
     "name": "stdout",
     "output_type": "stream",
     "text": [
      "558\r",
      "559\r",
      "560\r"
     ]
    },
    {
     "name": "stdout",
     "output_type": "stream",
     "text": [
      "561\r",
      "562\r",
      "563\r"
     ]
    },
    {
     "name": "stdout",
     "output_type": "stream",
     "text": [
      "564\r",
      "565\r",
      "566\r"
     ]
    },
    {
     "name": "stdout",
     "output_type": "stream",
     "text": [
      "567\r",
      "568\r",
      "569\r"
     ]
    },
    {
     "name": "stdout",
     "output_type": "stream",
     "text": [
      "570\r",
      "571\r",
      "572\r"
     ]
    },
    {
     "name": "stdout",
     "output_type": "stream",
     "text": [
      "573\r",
      "574\r",
      "575\r"
     ]
    },
    {
     "name": "stdout",
     "output_type": "stream",
     "text": [
      "576\r",
      "577\r",
      "578\r"
     ]
    },
    {
     "name": "stdout",
     "output_type": "stream",
     "text": [
      "579\r",
      "580\r",
      "581\r"
     ]
    },
    {
     "name": "stdout",
     "output_type": "stream",
     "text": [
      "582\r",
      "583\r",
      "584\r"
     ]
    },
    {
     "name": "stdout",
     "output_type": "stream",
     "text": [
      "585\r",
      "586\r",
      "587\r"
     ]
    },
    {
     "name": "stdout",
     "output_type": "stream",
     "text": [
      "588\r",
      "589\r",
      "590\r"
     ]
    },
    {
     "name": "stdout",
     "output_type": "stream",
     "text": [
      "591\r",
      "592\r",
      "593\r"
     ]
    },
    {
     "name": "stdout",
     "output_type": "stream",
     "text": [
      "594\r",
      "595\r",
      "596\r"
     ]
    },
    {
     "name": "stdout",
     "output_type": "stream",
     "text": [
      "597\r",
      "598\r",
      "599\r"
     ]
    },
    {
     "name": "stdout",
     "output_type": "stream",
     "text": [
      "600\r",
      "601\r",
      "602\r"
     ]
    },
    {
     "name": "stdout",
     "output_type": "stream",
     "text": [
      "603\r",
      "604\r",
      "605\r"
     ]
    },
    {
     "name": "stdout",
     "output_type": "stream",
     "text": [
      "606\r",
      "607\r",
      "608\r"
     ]
    },
    {
     "name": "stdout",
     "output_type": "stream",
     "text": [
      "609\r",
      "610\r",
      "611\r"
     ]
    },
    {
     "name": "stdout",
     "output_type": "stream",
     "text": [
      "612\r",
      "613\r",
      "614\r"
     ]
    },
    {
     "name": "stdout",
     "output_type": "stream",
     "text": [
      "615\r",
      "616\r",
      "617\r"
     ]
    },
    {
     "name": "stdout",
     "output_type": "stream",
     "text": [
      "618\r",
      "619\r",
      "620\r"
     ]
    },
    {
     "name": "stdout",
     "output_type": "stream",
     "text": [
      "621\r",
      "622\r",
      "623\r"
     ]
    },
    {
     "name": "stdout",
     "output_type": "stream",
     "text": [
      "624\r",
      "625\r",
      "626\r"
     ]
    },
    {
     "name": "stdout",
     "output_type": "stream",
     "text": [
      "627\r",
      "628\r",
      "629\r"
     ]
    },
    {
     "name": "stdout",
     "output_type": "stream",
     "text": [
      "630\r",
      "631\r",
      "632\r"
     ]
    },
    {
     "name": "stdout",
     "output_type": "stream",
     "text": [
      "633\r",
      "634\r",
      "635\r"
     ]
    },
    {
     "name": "stdout",
     "output_type": "stream",
     "text": [
      "636\r",
      "637\r",
      "638\r"
     ]
    },
    {
     "name": "stdout",
     "output_type": "stream",
     "text": [
      "639\r",
      "640\r",
      "641\r"
     ]
    },
    {
     "name": "stdout",
     "output_type": "stream",
     "text": [
      "642\r",
      "643\r",
      "644\r"
     ]
    },
    {
     "name": "stdout",
     "output_type": "stream",
     "text": [
      "645\r",
      "646\r",
      "647\r"
     ]
    },
    {
     "name": "stdout",
     "output_type": "stream",
     "text": [
      "648\r",
      "649\r",
      "650\r"
     ]
    },
    {
     "name": "stdout",
     "output_type": "stream",
     "text": [
      "651\r",
      "652\r",
      "653\r"
     ]
    },
    {
     "name": "stdout",
     "output_type": "stream",
     "text": [
      "654\r",
      "655\r",
      "656\r"
     ]
    },
    {
     "name": "stdout",
     "output_type": "stream",
     "text": [
      "657\r",
      "658\r",
      "659\r"
     ]
    },
    {
     "name": "stdout",
     "output_type": "stream",
     "text": [
      "660\r",
      "661\r",
      "662\r"
     ]
    },
    {
     "name": "stdout",
     "output_type": "stream",
     "text": [
      "663\r",
      "664\r",
      "665\r"
     ]
    },
    {
     "name": "stdout",
     "output_type": "stream",
     "text": [
      "666\r",
      "667\r",
      "668\r"
     ]
    },
    {
     "name": "stdout",
     "output_type": "stream",
     "text": [
      "669\r",
      "670\r",
      "671\r"
     ]
    },
    {
     "name": "stdout",
     "output_type": "stream",
     "text": [
      "672\r",
      "673\r",
      "674\r"
     ]
    },
    {
     "name": "stdout",
     "output_type": "stream",
     "text": [
      "675\r",
      "676\r",
      "677\r"
     ]
    },
    {
     "name": "stdout",
     "output_type": "stream",
     "text": [
      "678\r",
      "679\r",
      "680\r"
     ]
    },
    {
     "name": "stdout",
     "output_type": "stream",
     "text": [
      "681\r",
      "682\r",
      "683\r"
     ]
    },
    {
     "name": "stdout",
     "output_type": "stream",
     "text": [
      "684\r",
      "685\r",
      "686\r"
     ]
    },
    {
     "name": "stdout",
     "output_type": "stream",
     "text": [
      "687\r",
      "688\r",
      "689\r"
     ]
    },
    {
     "name": "stdout",
     "output_type": "stream",
     "text": [
      "690\r",
      "691\r",
      "692\r"
     ]
    },
    {
     "name": "stdout",
     "output_type": "stream",
     "text": [
      "693\r",
      "694\r",
      "695\r"
     ]
    },
    {
     "name": "stdout",
     "output_type": "stream",
     "text": [
      "696\r",
      "697\r",
      "698\r"
     ]
    },
    {
     "name": "stdout",
     "output_type": "stream",
     "text": [
      "699\r",
      "700\r",
      "701\r"
     ]
    },
    {
     "name": "stdout",
     "output_type": "stream",
     "text": [
      "702\r",
      "703\r",
      "704\r"
     ]
    },
    {
     "name": "stdout",
     "output_type": "stream",
     "text": [
      "705\r",
      "706\r",
      "707\r"
     ]
    },
    {
     "name": "stdout",
     "output_type": "stream",
     "text": [
      "708\r",
      "709\r",
      "710\r"
     ]
    },
    {
     "name": "stdout",
     "output_type": "stream",
     "text": [
      "711\r",
      "712\r",
      "713\r"
     ]
    },
    {
     "name": "stdout",
     "output_type": "stream",
     "text": [
      "714\r",
      "715\r",
      "716\r"
     ]
    },
    {
     "name": "stdout",
     "output_type": "stream",
     "text": [
      "717\r",
      "718\r",
      "719\r"
     ]
    },
    {
     "name": "stdout",
     "output_type": "stream",
     "text": [
      "720\r",
      "721\r"
     ]
    },
    {
     "name": "stdout",
     "output_type": "stream",
     "text": [
      "722\r",
      "723\r",
      "724\r"
     ]
    },
    {
     "name": "stdout",
     "output_type": "stream",
     "text": [
      "725\r",
      "726\r",
      "727\r"
     ]
    },
    {
     "name": "stdout",
     "output_type": "stream",
     "text": [
      "728\r",
      "729\r"
     ]
    },
    {
     "name": "stdout",
     "output_type": "stream",
     "text": [
      "730\r",
      "731\r"
     ]
    },
    {
     "name": "stdout",
     "output_type": "stream",
     "text": [
      "732\r",
      "733\r"
     ]
    },
    {
     "name": "stdout",
     "output_type": "stream",
     "text": [
      "734\r",
      "735\r"
     ]
    },
    {
     "name": "stdout",
     "output_type": "stream",
     "text": [
      "736\r",
      "737\r"
     ]
    },
    {
     "name": "stdout",
     "output_type": "stream",
     "text": [
      "738\r",
      "739\r"
     ]
    },
    {
     "name": "stdout",
     "output_type": "stream",
     "text": [
      "740\r",
      "741\r"
     ]
    },
    {
     "name": "stdout",
     "output_type": "stream",
     "text": [
      "742\r",
      "743\r"
     ]
    },
    {
     "name": "stdout",
     "output_type": "stream",
     "text": [
      "744\r",
      "745\r"
     ]
    },
    {
     "name": "stdout",
     "output_type": "stream",
     "text": [
      "746\r",
      "747\r"
     ]
    },
    {
     "name": "stdout",
     "output_type": "stream",
     "text": [
      "748\r",
      "749\r"
     ]
    },
    {
     "name": "stdout",
     "output_type": "stream",
     "text": [
      "750\r",
      "751\r"
     ]
    },
    {
     "name": "stdout",
     "output_type": "stream",
     "text": [
      "752\r",
      "753\r"
     ]
    },
    {
     "name": "stdout",
     "output_type": "stream",
     "text": [
      "754\r",
      "755\r"
     ]
    },
    {
     "name": "stdout",
     "output_type": "stream",
     "text": [
      "756\r",
      "757\r"
     ]
    },
    {
     "name": "stdout",
     "output_type": "stream",
     "text": [
      "758\r",
      "759\r"
     ]
    },
    {
     "name": "stdout",
     "output_type": "stream",
     "text": [
      "760\r",
      "761\r"
     ]
    },
    {
     "name": "stdout",
     "output_type": "stream",
     "text": [
      "762\r",
      "763\r"
     ]
    },
    {
     "name": "stdout",
     "output_type": "stream",
     "text": [
      "764\r",
      "765\r"
     ]
    },
    {
     "name": "stdout",
     "output_type": "stream",
     "text": [
      "766\r",
      "767\r"
     ]
    },
    {
     "name": "stdout",
     "output_type": "stream",
     "text": [
      "768\r",
      "769\r"
     ]
    },
    {
     "name": "stdout",
     "output_type": "stream",
     "text": [
      "770\r",
      "771\r"
     ]
    },
    {
     "name": "stdout",
     "output_type": "stream",
     "text": [
      "772\r",
      "773\r"
     ]
    },
    {
     "name": "stdout",
     "output_type": "stream",
     "text": [
      "774\r",
      "775\r"
     ]
    },
    {
     "name": "stdout",
     "output_type": "stream",
     "text": [
      "776\r",
      "777\r"
     ]
    },
    {
     "name": "stdout",
     "output_type": "stream",
     "text": [
      "778\r",
      "779\r"
     ]
    },
    {
     "name": "stdout",
     "output_type": "stream",
     "text": [
      "780\r",
      "781\r"
     ]
    },
    {
     "name": "stdout",
     "output_type": "stream",
     "text": [
      "782\r",
      "783\r"
     ]
    },
    {
     "name": "stdout",
     "output_type": "stream",
     "text": [
      "784\r",
      "785\r"
     ]
    },
    {
     "name": "stdout",
     "output_type": "stream",
     "text": [
      "786\r",
      "787\r"
     ]
    },
    {
     "name": "stdout",
     "output_type": "stream",
     "text": [
      "788\r",
      "789\r"
     ]
    },
    {
     "name": "stdout",
     "output_type": "stream",
     "text": [
      "790\r",
      "791\r"
     ]
    },
    {
     "name": "stdout",
     "output_type": "stream",
     "text": [
      "792\r",
      "793\r"
     ]
    },
    {
     "name": "stdout",
     "output_type": "stream",
     "text": [
      "794\r",
      "795\r"
     ]
    },
    {
     "name": "stdout",
     "output_type": "stream",
     "text": [
      "796\r",
      "797\r"
     ]
    },
    {
     "name": "stdout",
     "output_type": "stream",
     "text": [
      "798\r",
      "799\r"
     ]
    },
    {
     "name": "stdout",
     "output_type": "stream",
     "text": [
      "800\r",
      "801\r"
     ]
    },
    {
     "name": "stdout",
     "output_type": "stream",
     "text": [
      "802\r",
      "803\r"
     ]
    },
    {
     "name": "stdout",
     "output_type": "stream",
     "text": [
      "804\r",
      "805\r"
     ]
    },
    {
     "name": "stdout",
     "output_type": "stream",
     "text": [
      "806\r",
      "807\r"
     ]
    },
    {
     "name": "stdout",
     "output_type": "stream",
     "text": [
      "808\r",
      "809\r"
     ]
    },
    {
     "name": "stdout",
     "output_type": "stream",
     "text": [
      "810\r",
      "811\r"
     ]
    },
    {
     "name": "stdout",
     "output_type": "stream",
     "text": [
      "812\r",
      "813\r"
     ]
    },
    {
     "name": "stdout",
     "output_type": "stream",
     "text": [
      "814\r",
      "815\r"
     ]
    },
    {
     "name": "stdout",
     "output_type": "stream",
     "text": [
      "816\r",
      "817\r"
     ]
    },
    {
     "name": "stdout",
     "output_type": "stream",
     "text": [
      "818\r",
      "819\r"
     ]
    },
    {
     "name": "stdout",
     "output_type": "stream",
     "text": [
      "820\r",
      "821\r"
     ]
    },
    {
     "name": "stdout",
     "output_type": "stream",
     "text": [
      "822\r",
      "823\r"
     ]
    },
    {
     "name": "stdout",
     "output_type": "stream",
     "text": [
      "824\r",
      "825\r"
     ]
    },
    {
     "name": "stdout",
     "output_type": "stream",
     "text": [
      "826\r",
      "827\r"
     ]
    },
    {
     "name": "stdout",
     "output_type": "stream",
     "text": [
      "828\r",
      "829\r"
     ]
    },
    {
     "name": "stdout",
     "output_type": "stream",
     "text": [
      "830\r",
      "831\r"
     ]
    },
    {
     "name": "stdout",
     "output_type": "stream",
     "text": [
      "832\r",
      "833\r"
     ]
    },
    {
     "name": "stdout",
     "output_type": "stream",
     "text": [
      "834\r",
      "835\r"
     ]
    },
    {
     "name": "stdout",
     "output_type": "stream",
     "text": [
      "836\r",
      "837\r"
     ]
    },
    {
     "name": "stdout",
     "output_type": "stream",
     "text": [
      "838\r",
      "839\r"
     ]
    },
    {
     "name": "stdout",
     "output_type": "stream",
     "text": [
      "840\r",
      "841\r"
     ]
    },
    {
     "name": "stdout",
     "output_type": "stream",
     "text": [
      "842\r",
      "843\r"
     ]
    },
    {
     "name": "stdout",
     "output_type": "stream",
     "text": [
      "844\r",
      "845\r"
     ]
    },
    {
     "name": "stdout",
     "output_type": "stream",
     "text": [
      "846\r",
      "847\r"
     ]
    },
    {
     "name": "stdout",
     "output_type": "stream",
     "text": [
      "848\r",
      "849\r"
     ]
    },
    {
     "name": "stdout",
     "output_type": "stream",
     "text": [
      "850\r",
      "851\r"
     ]
    },
    {
     "name": "stdout",
     "output_type": "stream",
     "text": [
      "852\r",
      "853\r"
     ]
    },
    {
     "name": "stdout",
     "output_type": "stream",
     "text": [
      "854\r",
      "855\r"
     ]
    },
    {
     "name": "stdout",
     "output_type": "stream",
     "text": [
      "856\r",
      "857\r"
     ]
    },
    {
     "name": "stdout",
     "output_type": "stream",
     "text": [
      "858\r",
      "859\r"
     ]
    },
    {
     "name": "stdout",
     "output_type": "stream",
     "text": [
      "860\r",
      "861\r"
     ]
    },
    {
     "name": "stdout",
     "output_type": "stream",
     "text": [
      "862\r",
      "863\r"
     ]
    },
    {
     "name": "stdout",
     "output_type": "stream",
     "text": [
      "864\r",
      "865\r"
     ]
    },
    {
     "name": "stdout",
     "output_type": "stream",
     "text": [
      "866\r",
      "867\r"
     ]
    },
    {
     "name": "stdout",
     "output_type": "stream",
     "text": [
      "868\r",
      "869\r"
     ]
    },
    {
     "name": "stdout",
     "output_type": "stream",
     "text": [
      "870\r",
      "871\r"
     ]
    },
    {
     "name": "stdout",
     "output_type": "stream",
     "text": [
      "872\r",
      "873\r"
     ]
    },
    {
     "name": "stdout",
     "output_type": "stream",
     "text": [
      "874\r",
      "875\r"
     ]
    },
    {
     "name": "stdout",
     "output_type": "stream",
     "text": [
      "876\r",
      "877\r"
     ]
    },
    {
     "name": "stdout",
     "output_type": "stream",
     "text": [
      "878\r",
      "879\r"
     ]
    },
    {
     "name": "stdout",
     "output_type": "stream",
     "text": [
      "880\r",
      "881\r"
     ]
    },
    {
     "name": "stdout",
     "output_type": "stream",
     "text": [
      "882\r",
      "883\r"
     ]
    },
    {
     "name": "stdout",
     "output_type": "stream",
     "text": [
      "884\r",
      "885\r"
     ]
    },
    {
     "name": "stdout",
     "output_type": "stream",
     "text": [
      "886\r",
      "887\r"
     ]
    },
    {
     "name": "stdout",
     "output_type": "stream",
     "text": [
      "888\r",
      "889\r"
     ]
    },
    {
     "name": "stdout",
     "output_type": "stream",
     "text": [
      "890\r",
      "891\r"
     ]
    },
    {
     "name": "stdout",
     "output_type": "stream",
     "text": [
      "892\r",
      "893\r"
     ]
    },
    {
     "name": "stdout",
     "output_type": "stream",
     "text": [
      "894\r",
      "895\r"
     ]
    },
    {
     "name": "stdout",
     "output_type": "stream",
     "text": [
      "896\r",
      "897\r"
     ]
    },
    {
     "name": "stdout",
     "output_type": "stream",
     "text": [
      "898\r",
      "899\r"
     ]
    },
    {
     "name": "stdout",
     "output_type": "stream",
     "text": [
      "900\r",
      "901\r"
     ]
    },
    {
     "name": "stdout",
     "output_type": "stream",
     "text": [
      "902\r",
      "903\r"
     ]
    },
    {
     "name": "stdout",
     "output_type": "stream",
     "text": [
      "904\r",
      "905\r"
     ]
    },
    {
     "name": "stdout",
     "output_type": "stream",
     "text": [
      "906\r",
      "907\r"
     ]
    },
    {
     "name": "stdout",
     "output_type": "stream",
     "text": [
      "908\r",
      "909\r"
     ]
    },
    {
     "name": "stdout",
     "output_type": "stream",
     "text": [
      "910\r",
      "911\r"
     ]
    },
    {
     "name": "stdout",
     "output_type": "stream",
     "text": [
      "912\r",
      "913\r"
     ]
    },
    {
     "name": "stdout",
     "output_type": "stream",
     "text": [
      "914\r",
      "915\r"
     ]
    },
    {
     "name": "stdout",
     "output_type": "stream",
     "text": [
      "916\r",
      "917\r"
     ]
    },
    {
     "name": "stdout",
     "output_type": "stream",
     "text": [
      "918\r",
      "919\r"
     ]
    },
    {
     "name": "stdout",
     "output_type": "stream",
     "text": [
      "920\r",
      "921\r"
     ]
    },
    {
     "name": "stdout",
     "output_type": "stream",
     "text": [
      "922\r",
      "923\r"
     ]
    },
    {
     "name": "stdout",
     "output_type": "stream",
     "text": [
      "924\r",
      "925\r"
     ]
    },
    {
     "name": "stdout",
     "output_type": "stream",
     "text": [
      "926\r",
      "927\r"
     ]
    },
    {
     "name": "stdout",
     "output_type": "stream",
     "text": [
      "928\r",
      "929\r"
     ]
    },
    {
     "name": "stdout",
     "output_type": "stream",
     "text": [
      "930\r",
      "931\r"
     ]
    },
    {
     "name": "stdout",
     "output_type": "stream",
     "text": [
      "932\r",
      "933\r"
     ]
    },
    {
     "name": "stdout",
     "output_type": "stream",
     "text": [
      "934\r",
      "935\r"
     ]
    },
    {
     "name": "stdout",
     "output_type": "stream",
     "text": [
      "936\r",
      "937\r"
     ]
    },
    {
     "name": "stdout",
     "output_type": "stream",
     "text": [
      "938\r",
      "939\r"
     ]
    },
    {
     "name": "stdout",
     "output_type": "stream",
     "text": [
      "940\r",
      "941\r"
     ]
    },
    {
     "name": "stdout",
     "output_type": "stream",
     "text": [
      "942\r",
      "943\r"
     ]
    },
    {
     "name": "stdout",
     "output_type": "stream",
     "text": [
      "944\r",
      "945\r"
     ]
    },
    {
     "name": "stdout",
     "output_type": "stream",
     "text": [
      "946\r",
      "947\r"
     ]
    },
    {
     "name": "stdout",
     "output_type": "stream",
     "text": [
      "948\r",
      "949\r"
     ]
    },
    {
     "name": "stdout",
     "output_type": "stream",
     "text": [
      "950\r",
      "951\r"
     ]
    },
    {
     "name": "stdout",
     "output_type": "stream",
     "text": [
      "952\r",
      "953\r"
     ]
    },
    {
     "name": "stdout",
     "output_type": "stream",
     "text": [
      "954\r",
      "955\r"
     ]
    },
    {
     "name": "stdout",
     "output_type": "stream",
     "text": [
      "956\r",
      "957\r"
     ]
    },
    {
     "name": "stdout",
     "output_type": "stream",
     "text": [
      "958\r",
      "959\r"
     ]
    },
    {
     "name": "stdout",
     "output_type": "stream",
     "text": [
      "960\r",
      "961\r"
     ]
    },
    {
     "name": "stdout",
     "output_type": "stream",
     "text": [
      "962\r",
      "963\r"
     ]
    },
    {
     "name": "stdout",
     "output_type": "stream",
     "text": [
      "964\r",
      "965\r"
     ]
    },
    {
     "name": "stdout",
     "output_type": "stream",
     "text": [
      "966\r",
      "967\r"
     ]
    },
    {
     "name": "stdout",
     "output_type": "stream",
     "text": [
      "968\r",
      "969\r"
     ]
    },
    {
     "name": "stdout",
     "output_type": "stream",
     "text": [
      "970\r",
      "971\r"
     ]
    },
    {
     "name": "stdout",
     "output_type": "stream",
     "text": [
      "972\r",
      "973\r"
     ]
    },
    {
     "name": "stdout",
     "output_type": "stream",
     "text": [
      "974\r",
      "975\r"
     ]
    },
    {
     "name": "stdout",
     "output_type": "stream",
     "text": [
      "976\r",
      "977\r"
     ]
    },
    {
     "name": "stdout",
     "output_type": "stream",
     "text": [
      "978\r",
      "979\r"
     ]
    },
    {
     "name": "stdout",
     "output_type": "stream",
     "text": [
      "980\r",
      "981\r"
     ]
    },
    {
     "name": "stdout",
     "output_type": "stream",
     "text": [
      "982\r",
      "983\r"
     ]
    },
    {
     "name": "stdout",
     "output_type": "stream",
     "text": [
      "984\r",
      "985\r"
     ]
    },
    {
     "name": "stdout",
     "output_type": "stream",
     "text": [
      "986\r",
      "987\r"
     ]
    },
    {
     "name": "stdout",
     "output_type": "stream",
     "text": [
      "988\r",
      "989\r"
     ]
    },
    {
     "name": "stdout",
     "output_type": "stream",
     "text": [
      "990\r",
      "991\r"
     ]
    },
    {
     "name": "stdout",
     "output_type": "stream",
     "text": [
      "992\r",
      "993\r"
     ]
    },
    {
     "name": "stdout",
     "output_type": "stream",
     "text": [
      "994\r",
      "995\r"
     ]
    },
    {
     "name": "stdout",
     "output_type": "stream",
     "text": [
      "996\r",
      "997\r"
     ]
    },
    {
     "name": "stdout",
     "output_type": "stream",
     "text": [
      "998\r",
      "999\r"
     ]
    },
    {
     "name": "stdout",
     "output_type": "stream",
     "text": [
      "1000\r",
      "1001\r"
     ]
    },
    {
     "name": "stdout",
     "output_type": "stream",
     "text": [
      "1002\r",
      "1003\r"
     ]
    },
    {
     "name": "stdout",
     "output_type": "stream",
     "text": [
      "1004\r",
      "1005\r"
     ]
    },
    {
     "name": "stdout",
     "output_type": "stream",
     "text": [
      "1006\r",
      "1007\r"
     ]
    },
    {
     "name": "stdout",
     "output_type": "stream",
     "text": [
      "1008\r",
      "1009\r"
     ]
    },
    {
     "name": "stdout",
     "output_type": "stream",
     "text": [
      "1010\r",
      "1011\r"
     ]
    },
    {
     "name": "stdout",
     "output_type": "stream",
     "text": [
      "1012\r",
      "1013\r"
     ]
    },
    {
     "name": "stdout",
     "output_type": "stream",
     "text": [
      "1014\r",
      "1015\r"
     ]
    },
    {
     "name": "stdout",
     "output_type": "stream",
     "text": [
      "1016\r",
      "1017\r"
     ]
    },
    {
     "name": "stdout",
     "output_type": "stream",
     "text": [
      "1018\r",
      "1019\r"
     ]
    },
    {
     "name": "stdout",
     "output_type": "stream",
     "text": [
      "1020\r",
      "1021\r"
     ]
    },
    {
     "name": "stdout",
     "output_type": "stream",
     "text": [
      "1022\r",
      "1023\r"
     ]
    },
    {
     "name": "stdout",
     "output_type": "stream",
     "text": [
      "1024\r",
      "1025\r"
     ]
    },
    {
     "name": "stdout",
     "output_type": "stream",
     "text": [
      "1026\r",
      "1027\r"
     ]
    },
    {
     "name": "stdout",
     "output_type": "stream",
     "text": [
      "1028\r",
      "1029\r"
     ]
    },
    {
     "name": "stdout",
     "output_type": "stream",
     "text": [
      "1030\r",
      "1031\r"
     ]
    },
    {
     "name": "stdout",
     "output_type": "stream",
     "text": [
      "1032\r",
      "1033\r"
     ]
    },
    {
     "name": "stdout",
     "output_type": "stream",
     "text": [
      "1034\r",
      "1035\r"
     ]
    },
    {
     "name": "stdout",
     "output_type": "stream",
     "text": [
      "1036\r",
      "1037\r"
     ]
    },
    {
     "name": "stdout",
     "output_type": "stream",
     "text": [
      "1038\r",
      "1039\r"
     ]
    },
    {
     "name": "stdout",
     "output_type": "stream",
     "text": [
      "1040\r",
      "1041\r"
     ]
    },
    {
     "name": "stdout",
     "output_type": "stream",
     "text": [
      "1042\r",
      "1043\r"
     ]
    },
    {
     "name": "stdout",
     "output_type": "stream",
     "text": [
      "1044\r",
      "1045\r"
     ]
    },
    {
     "name": "stdout",
     "output_type": "stream",
     "text": [
      "1046\r",
      "1047\r"
     ]
    },
    {
     "name": "stdout",
     "output_type": "stream",
     "text": [
      "1048\r",
      "1049\r"
     ]
    },
    {
     "name": "stdout",
     "output_type": "stream",
     "text": [
      "1050\r",
      "1051\r"
     ]
    },
    {
     "name": "stdout",
     "output_type": "stream",
     "text": [
      "1052\r",
      "1053\r"
     ]
    },
    {
     "name": "stdout",
     "output_type": "stream",
     "text": [
      "1054\r",
      "1055\r"
     ]
    },
    {
     "name": "stdout",
     "output_type": "stream",
     "text": [
      "1056\r",
      "1057\r"
     ]
    },
    {
     "name": "stdout",
     "output_type": "stream",
     "text": [
      "1058\r",
      "1059\r"
     ]
    },
    {
     "name": "stdout",
     "output_type": "stream",
     "text": [
      "1060\r",
      "1061\r"
     ]
    },
    {
     "name": "stdout",
     "output_type": "stream",
     "text": [
      "1062\r",
      "1063\r"
     ]
    },
    {
     "name": "stdout",
     "output_type": "stream",
     "text": [
      "1064\r",
      "1065\r"
     ]
    },
    {
     "name": "stdout",
     "output_type": "stream",
     "text": [
      "1066\r",
      "1067\r"
     ]
    },
    {
     "name": "stdout",
     "output_type": "stream",
     "text": [
      "1068\r",
      "1069\r"
     ]
    },
    {
     "name": "stdout",
     "output_type": "stream",
     "text": [
      "1070\r",
      "1071\r"
     ]
    },
    {
     "name": "stdout",
     "output_type": "stream",
     "text": [
      "1072\r",
      "1073\r"
     ]
    },
    {
     "name": "stdout",
     "output_type": "stream",
     "text": [
      "1074\r",
      "1075\r"
     ]
    },
    {
     "name": "stdout",
     "output_type": "stream",
     "text": [
      "1076\r",
      "1077\r"
     ]
    },
    {
     "name": "stdout",
     "output_type": "stream",
     "text": [
      "1078\r",
      "1079\r"
     ]
    },
    {
     "name": "stdout",
     "output_type": "stream",
     "text": [
      "1080\r",
      "1081\r"
     ]
    },
    {
     "name": "stdout",
     "output_type": "stream",
     "text": [
      "1082\r",
      "1083\r"
     ]
    },
    {
     "name": "stdout",
     "output_type": "stream",
     "text": [
      "1084\r",
      "1085\r"
     ]
    },
    {
     "name": "stdout",
     "output_type": "stream",
     "text": [
      "1086\r",
      "1087\r"
     ]
    },
    {
     "name": "stdout",
     "output_type": "stream",
     "text": [
      "1088\r",
      "1089\r"
     ]
    },
    {
     "name": "stdout",
     "output_type": "stream",
     "text": [
      "1090\r",
      "1091\r"
     ]
    },
    {
     "name": "stdout",
     "output_type": "stream",
     "text": [
      "1092\r",
      "1093\r"
     ]
    },
    {
     "name": "stdout",
     "output_type": "stream",
     "text": [
      "1094\r",
      "1095\r"
     ]
    },
    {
     "name": "stdout",
     "output_type": "stream",
     "text": [
      "1096\r",
      "1097\r"
     ]
    },
    {
     "name": "stdout",
     "output_type": "stream",
     "text": [
      "1098\r",
      "1099\r"
     ]
    },
    {
     "name": "stdout",
     "output_type": "stream",
     "text": [
      "1100\r",
      "1101\r"
     ]
    },
    {
     "name": "stdout",
     "output_type": "stream",
     "text": [
      "1102\r",
      "1103\r"
     ]
    },
    {
     "name": "stdout",
     "output_type": "stream",
     "text": [
      "1104\r",
      "1105\r"
     ]
    },
    {
     "name": "stdout",
     "output_type": "stream",
     "text": [
      "1106\r",
      "1107\r"
     ]
    },
    {
     "name": "stdout",
     "output_type": "stream",
     "text": [
      "1108\r",
      "1109\r"
     ]
    },
    {
     "name": "stdout",
     "output_type": "stream",
     "text": [
      "1110\r",
      "1111\r"
     ]
    },
    {
     "name": "stdout",
     "output_type": "stream",
     "text": [
      "1112\r",
      "1113\r"
     ]
    },
    {
     "name": "stdout",
     "output_type": "stream",
     "text": [
      "1114\r",
      "1115\r"
     ]
    },
    {
     "name": "stdout",
     "output_type": "stream",
     "text": [
      "1116\r",
      "1117\r"
     ]
    },
    {
     "name": "stdout",
     "output_type": "stream",
     "text": [
      "1118\r",
      "1119\r"
     ]
    },
    {
     "name": "stdout",
     "output_type": "stream",
     "text": [
      "1120\r",
      "1121\r"
     ]
    },
    {
     "name": "stdout",
     "output_type": "stream",
     "text": [
      "1122\r",
      "1123\r"
     ]
    },
    {
     "name": "stdout",
     "output_type": "stream",
     "text": [
      "1124\r",
      "1125\r"
     ]
    },
    {
     "name": "stdout",
     "output_type": "stream",
     "text": [
      "1126\r",
      "1127\r"
     ]
    },
    {
     "name": "stdout",
     "output_type": "stream",
     "text": [
      "1128\r",
      "1129\r"
     ]
    },
    {
     "name": "stdout",
     "output_type": "stream",
     "text": [
      "1130\r",
      "1131\r"
     ]
    },
    {
     "name": "stdout",
     "output_type": "stream",
     "text": [
      "1132\r",
      "1133\r"
     ]
    },
    {
     "name": "stdout",
     "output_type": "stream",
     "text": [
      "1134\r",
      "1135\r"
     ]
    },
    {
     "name": "stdout",
     "output_type": "stream",
     "text": [
      "1136\r",
      "1137\r"
     ]
    },
    {
     "name": "stdout",
     "output_type": "stream",
     "text": [
      "1138\r",
      "1139\r"
     ]
    },
    {
     "name": "stdout",
     "output_type": "stream",
     "text": [
      "1140\r",
      "1141\r"
     ]
    },
    {
     "name": "stdout",
     "output_type": "stream",
     "text": [
      "1142\r",
      "1143\r"
     ]
    },
    {
     "name": "stdout",
     "output_type": "stream",
     "text": [
      "1144\r",
      "1145\r"
     ]
    },
    {
     "name": "stdout",
     "output_type": "stream",
     "text": [
      "1146\r",
      "1147\r"
     ]
    },
    {
     "name": "stdout",
     "output_type": "stream",
     "text": [
      "1148\r",
      "1149\r"
     ]
    },
    {
     "name": "stdout",
     "output_type": "stream",
     "text": [
      "1150\r",
      "1151\r"
     ]
    },
    {
     "name": "stdout",
     "output_type": "stream",
     "text": [
      "1152\r",
      "1153\r"
     ]
    },
    {
     "name": "stdout",
     "output_type": "stream",
     "text": [
      "1154\r",
      "1155\r"
     ]
    },
    {
     "name": "stdout",
     "output_type": "stream",
     "text": [
      "1156\r",
      "1157\r"
     ]
    },
    {
     "name": "stdout",
     "output_type": "stream",
     "text": [
      "1158\r",
      "1159\r"
     ]
    },
    {
     "name": "stdout",
     "output_type": "stream",
     "text": [
      "1160\r",
      "1161\r"
     ]
    },
    {
     "name": "stdout",
     "output_type": "stream",
     "text": [
      "1162\r",
      "1163\r"
     ]
    },
    {
     "name": "stdout",
     "output_type": "stream",
     "text": [
      "1164\r",
      "1165\r"
     ]
    },
    {
     "name": "stdout",
     "output_type": "stream",
     "text": [
      "1166\r"
     ]
    },
    {
     "name": "stdout",
     "output_type": "stream",
     "text": [
      "1167\r"
     ]
    },
    {
     "name": "stdout",
     "output_type": "stream",
     "text": [
      "1168\r",
      "1169\r"
     ]
    },
    {
     "name": "stdout",
     "output_type": "stream",
     "text": [
      "1170\r"
     ]
    },
    {
     "name": "stdout",
     "output_type": "stream",
     "text": [
      "1171\r",
      "1172\r"
     ]
    },
    {
     "name": "stdout",
     "output_type": "stream",
     "text": [
      "1173\r",
      "1174\r"
     ]
    },
    {
     "name": "stdout",
     "output_type": "stream",
     "text": [
      "1175\r"
     ]
    },
    {
     "name": "stdout",
     "output_type": "stream",
     "text": [
      "1176\r",
      "1177\r"
     ]
    },
    {
     "name": "stdout",
     "output_type": "stream",
     "text": [
      "1178\r",
      "1179\r"
     ]
    },
    {
     "name": "stdout",
     "output_type": "stream",
     "text": [
      "1180\r"
     ]
    },
    {
     "name": "stdout",
     "output_type": "stream",
     "text": [
      "1181\r",
      "1182\r"
     ]
    },
    {
     "name": "stdout",
     "output_type": "stream",
     "text": [
      "1183\r"
     ]
    },
    {
     "name": "stdout",
     "output_type": "stream",
     "text": [
      "1184\r"
     ]
    },
    {
     "name": "stdout",
     "output_type": "stream",
     "text": [
      "1185\r"
     ]
    },
    {
     "name": "stdout",
     "output_type": "stream",
     "text": [
      "1186\r"
     ]
    },
    {
     "name": "stdout",
     "output_type": "stream",
     "text": [
      "1187\r"
     ]
    },
    {
     "name": "stdout",
     "output_type": "stream",
     "text": [
      "1188\r"
     ]
    },
    {
     "name": "stdout",
     "output_type": "stream",
     "text": [
      "1189\r"
     ]
    },
    {
     "name": "stdout",
     "output_type": "stream",
     "text": [
      "1190\r"
     ]
    },
    {
     "name": "stdout",
     "output_type": "stream",
     "text": [
      "1191\r"
     ]
    },
    {
     "name": "stdout",
     "output_type": "stream",
     "text": [
      "1192\r"
     ]
    },
    {
     "name": "stdout",
     "output_type": "stream",
     "text": [
      "1193\r"
     ]
    },
    {
     "name": "stdout",
     "output_type": "stream",
     "text": [
      "1194\r"
     ]
    },
    {
     "name": "stdout",
     "output_type": "stream",
     "text": [
      "1195\r"
     ]
    },
    {
     "name": "stdout",
     "output_type": "stream",
     "text": [
      "1196\r"
     ]
    },
    {
     "name": "stdout",
     "output_type": "stream",
     "text": [
      "1197\r"
     ]
    },
    {
     "name": "stdout",
     "output_type": "stream",
     "text": [
      "1198\r"
     ]
    },
    {
     "name": "stdout",
     "output_type": "stream",
     "text": [
      "1199\r"
     ]
    },
    {
     "name": "stdout",
     "output_type": "stream",
     "text": [
      "1200\r"
     ]
    },
    {
     "name": "stdout",
     "output_type": "stream",
     "text": [
      "1201\r"
     ]
    },
    {
     "name": "stdout",
     "output_type": "stream",
     "text": [
      "1202\r"
     ]
    },
    {
     "name": "stdout",
     "output_type": "stream",
     "text": [
      "1203\r"
     ]
    },
    {
     "name": "stdout",
     "output_type": "stream",
     "text": [
      "1204\r"
     ]
    },
    {
     "name": "stdout",
     "output_type": "stream",
     "text": [
      "1205\r"
     ]
    },
    {
     "name": "stdout",
     "output_type": "stream",
     "text": [
      "1206\r"
     ]
    },
    {
     "name": "stdout",
     "output_type": "stream",
     "text": [
      "1207\r"
     ]
    },
    {
     "name": "stdout",
     "output_type": "stream",
     "text": [
      "1208\r"
     ]
    },
    {
     "name": "stdout",
     "output_type": "stream",
     "text": [
      "1209\r"
     ]
    },
    {
     "name": "stdout",
     "output_type": "stream",
     "text": [
      "1210\r"
     ]
    },
    {
     "name": "stdout",
     "output_type": "stream",
     "text": [
      "1211\r"
     ]
    },
    {
     "name": "stdout",
     "output_type": "stream",
     "text": [
      "1212\r"
     ]
    },
    {
     "name": "stdout",
     "output_type": "stream",
     "text": [
      "1213\r"
     ]
    },
    {
     "name": "stdout",
     "output_type": "stream",
     "text": [
      "1214\r"
     ]
    },
    {
     "name": "stdout",
     "output_type": "stream",
     "text": [
      "1215\r"
     ]
    },
    {
     "name": "stdout",
     "output_type": "stream",
     "text": [
      "1216\r"
     ]
    },
    {
     "name": "stdout",
     "output_type": "stream",
     "text": [
      "1217\r"
     ]
    },
    {
     "name": "stdout",
     "output_type": "stream",
     "text": [
      "1218\r"
     ]
    },
    {
     "name": "stdout",
     "output_type": "stream",
     "text": [
      "1219\r"
     ]
    },
    {
     "name": "stdout",
     "output_type": "stream",
     "text": [
      "1220\r"
     ]
    },
    {
     "name": "stdout",
     "output_type": "stream",
     "text": [
      "1221\r"
     ]
    },
    {
     "name": "stdout",
     "output_type": "stream",
     "text": [
      "1222\r"
     ]
    },
    {
     "name": "stdout",
     "output_type": "stream",
     "text": [
      "1223\r"
     ]
    },
    {
     "name": "stdout",
     "output_type": "stream",
     "text": [
      "1224\r"
     ]
    },
    {
     "name": "stdout",
     "output_type": "stream",
     "text": [
      "1225\r"
     ]
    },
    {
     "name": "stdout",
     "output_type": "stream",
     "text": [
      "1226\r"
     ]
    },
    {
     "name": "stdout",
     "output_type": "stream",
     "text": [
      "1227\r"
     ]
    },
    {
     "name": "stdout",
     "output_type": "stream",
     "text": [
      "1228\r"
     ]
    },
    {
     "name": "stdout",
     "output_type": "stream",
     "text": [
      "1229\r"
     ]
    },
    {
     "name": "stdout",
     "output_type": "stream",
     "text": [
      "1230\r"
     ]
    },
    {
     "name": "stdout",
     "output_type": "stream",
     "text": [
      "1231\r"
     ]
    },
    {
     "name": "stdout",
     "output_type": "stream",
     "text": [
      "1232\r"
     ]
    },
    {
     "name": "stdout",
     "output_type": "stream",
     "text": [
      "1233\r"
     ]
    },
    {
     "name": "stdout",
     "output_type": "stream",
     "text": [
      "1234\r"
     ]
    },
    {
     "name": "stdout",
     "output_type": "stream",
     "text": [
      "1235\r"
     ]
    },
    {
     "name": "stdout",
     "output_type": "stream",
     "text": [
      "1236\r"
     ]
    },
    {
     "name": "stdout",
     "output_type": "stream",
     "text": [
      "1237\r"
     ]
    },
    {
     "name": "stdout",
     "output_type": "stream",
     "text": [
      "1238\r"
     ]
    },
    {
     "name": "stdout",
     "output_type": "stream",
     "text": [
      "1239\r"
     ]
    },
    {
     "name": "stdout",
     "output_type": "stream",
     "text": [
      "1240\r"
     ]
    },
    {
     "name": "stdout",
     "output_type": "stream",
     "text": [
      "1241\r"
     ]
    },
    {
     "name": "stdout",
     "output_type": "stream",
     "text": [
      "1242\r"
     ]
    },
    {
     "name": "stdout",
     "output_type": "stream",
     "text": [
      "1243\r"
     ]
    },
    {
     "name": "stdout",
     "output_type": "stream",
     "text": [
      "1244\r"
     ]
    },
    {
     "name": "stdout",
     "output_type": "stream",
     "text": [
      "1245\r"
     ]
    },
    {
     "name": "stdout",
     "output_type": "stream",
     "text": [
      "1246\r"
     ]
    },
    {
     "name": "stdout",
     "output_type": "stream",
     "text": [
      "1247\r"
     ]
    },
    {
     "name": "stdout",
     "output_type": "stream",
     "text": [
      "1248\r"
     ]
    },
    {
     "name": "stdout",
     "output_type": "stream",
     "text": [
      "1249\r"
     ]
    },
    {
     "name": "stdout",
     "output_type": "stream",
     "text": [
      "1250\r"
     ]
    },
    {
     "name": "stdout",
     "output_type": "stream",
     "text": [
      "1251\r"
     ]
    },
    {
     "name": "stdout",
     "output_type": "stream",
     "text": [
      "1252\r"
     ]
    },
    {
     "name": "stdout",
     "output_type": "stream",
     "text": [
      "1253\r"
     ]
    },
    {
     "name": "stdout",
     "output_type": "stream",
     "text": [
      "1254\r"
     ]
    },
    {
     "name": "stdout",
     "output_type": "stream",
     "text": [
      "1255\r"
     ]
    },
    {
     "name": "stdout",
     "output_type": "stream",
     "text": [
      "1256\r"
     ]
    },
    {
     "name": "stdout",
     "output_type": "stream",
     "text": [
      "1257\r"
     ]
    },
    {
     "name": "stdout",
     "output_type": "stream",
     "text": [
      "1258\r"
     ]
    },
    {
     "name": "stdout",
     "output_type": "stream",
     "text": [
      "1259\r"
     ]
    },
    {
     "name": "stdout",
     "output_type": "stream",
     "text": [
      "1260\r"
     ]
    },
    {
     "name": "stdout",
     "output_type": "stream",
     "text": [
      "1261\r"
     ]
    },
    {
     "name": "stdout",
     "output_type": "stream",
     "text": [
      "1262\r"
     ]
    },
    {
     "name": "stdout",
     "output_type": "stream",
     "text": [
      "1263\r"
     ]
    },
    {
     "name": "stdout",
     "output_type": "stream",
     "text": [
      "1264\r"
     ]
    },
    {
     "name": "stdout",
     "output_type": "stream",
     "text": [
      "1265\r"
     ]
    },
    {
     "name": "stdout",
     "output_type": "stream",
     "text": [
      "1266\r"
     ]
    },
    {
     "name": "stdout",
     "output_type": "stream",
     "text": [
      "1267\r"
     ]
    },
    {
     "name": "stdout",
     "output_type": "stream",
     "text": [
      "1268\r"
     ]
    },
    {
     "name": "stdout",
     "output_type": "stream",
     "text": [
      "1269\r"
     ]
    },
    {
     "name": "stdout",
     "output_type": "stream",
     "text": [
      "1270\r"
     ]
    },
    {
     "name": "stdout",
     "output_type": "stream",
     "text": [
      "1271\r"
     ]
    },
    {
     "name": "stdout",
     "output_type": "stream",
     "text": [
      "1272\r"
     ]
    },
    {
     "name": "stdout",
     "output_type": "stream",
     "text": [
      "1273\r"
     ]
    },
    {
     "name": "stdout",
     "output_type": "stream",
     "text": [
      "1274\r"
     ]
    },
    {
     "name": "stdout",
     "output_type": "stream",
     "text": [
      "1275\r"
     ]
    },
    {
     "name": "stdout",
     "output_type": "stream",
     "text": [
      "1276\r"
     ]
    },
    {
     "name": "stdout",
     "output_type": "stream",
     "text": [
      "1277\r"
     ]
    },
    {
     "name": "stdout",
     "output_type": "stream",
     "text": [
      "1278\r"
     ]
    },
    {
     "name": "stdout",
     "output_type": "stream",
     "text": [
      "1279\r"
     ]
    },
    {
     "name": "stdout",
     "output_type": "stream",
     "text": [
      "1280\r"
     ]
    },
    {
     "name": "stdout",
     "output_type": "stream",
     "text": [
      "1281\r"
     ]
    },
    {
     "name": "stdout",
     "output_type": "stream",
     "text": [
      "1282\r"
     ]
    },
    {
     "name": "stdout",
     "output_type": "stream",
     "text": [
      "1283\r"
     ]
    },
    {
     "name": "stdout",
     "output_type": "stream",
     "text": [
      "1284\r"
     ]
    },
    {
     "name": "stdout",
     "output_type": "stream",
     "text": [
      "1285\r"
     ]
    },
    {
     "name": "stdout",
     "output_type": "stream",
     "text": [
      "1286\r"
     ]
    },
    {
     "name": "stdout",
     "output_type": "stream",
     "text": [
      "1287\r"
     ]
    },
    {
     "name": "stdout",
     "output_type": "stream",
     "text": [
      "1288\r"
     ]
    },
    {
     "name": "stdout",
     "output_type": "stream",
     "text": [
      "1289\r"
     ]
    },
    {
     "name": "stdout",
     "output_type": "stream",
     "text": [
      "1290\r"
     ]
    },
    {
     "name": "stdout",
     "output_type": "stream",
     "text": [
      "1291\r"
     ]
    },
    {
     "name": "stdout",
     "output_type": "stream",
     "text": [
      "1292\r"
     ]
    },
    {
     "name": "stdout",
     "output_type": "stream",
     "text": [
      "1293\r"
     ]
    },
    {
     "name": "stdout",
     "output_type": "stream",
     "text": [
      "1294\r"
     ]
    },
    {
     "name": "stdout",
     "output_type": "stream",
     "text": [
      "1295\r"
     ]
    },
    {
     "name": "stdout",
     "output_type": "stream",
     "text": [
      "1296\r"
     ]
    },
    {
     "name": "stdout",
     "output_type": "stream",
     "text": [
      "1297\r"
     ]
    },
    {
     "name": "stdout",
     "output_type": "stream",
     "text": [
      "1298\r"
     ]
    },
    {
     "name": "stdout",
     "output_type": "stream",
     "text": [
      "1299\r"
     ]
    },
    {
     "name": "stdout",
     "output_type": "stream",
     "text": [
      "1300\r"
     ]
    },
    {
     "name": "stdout",
     "output_type": "stream",
     "text": [
      "1301\r"
     ]
    },
    {
     "name": "stdout",
     "output_type": "stream",
     "text": [
      "1302\r"
     ]
    },
    {
     "name": "stdout",
     "output_type": "stream",
     "text": [
      "1303\r"
     ]
    },
    {
     "name": "stdout",
     "output_type": "stream",
     "text": [
      "1304\r"
     ]
    },
    {
     "name": "stdout",
     "output_type": "stream",
     "text": [
      "1305\r"
     ]
    },
    {
     "name": "stdout",
     "output_type": "stream",
     "text": [
      "1306\r"
     ]
    },
    {
     "name": "stdout",
     "output_type": "stream",
     "text": [
      "1307\r"
     ]
    },
    {
     "name": "stdout",
     "output_type": "stream",
     "text": [
      "1308\r"
     ]
    },
    {
     "name": "stdout",
     "output_type": "stream",
     "text": [
      "1309\r"
     ]
    },
    {
     "name": "stdout",
     "output_type": "stream",
     "text": [
      "1310\r"
     ]
    },
    {
     "name": "stdout",
     "output_type": "stream",
     "text": [
      "1311\r"
     ]
    },
    {
     "name": "stdout",
     "output_type": "stream",
     "text": [
      "1312\r"
     ]
    },
    {
     "name": "stdout",
     "output_type": "stream",
     "text": [
      "1313\r"
     ]
    },
    {
     "name": "stdout",
     "output_type": "stream",
     "text": [
      "1314\r"
     ]
    },
    {
     "name": "stdout",
     "output_type": "stream",
     "text": [
      "1315\r"
     ]
    },
    {
     "name": "stdout",
     "output_type": "stream",
     "text": [
      "1316\r"
     ]
    },
    {
     "name": "stdout",
     "output_type": "stream",
     "text": [
      "1317\r"
     ]
    },
    {
     "name": "stdout",
     "output_type": "stream",
     "text": [
      "1318\r"
     ]
    },
    {
     "name": "stdout",
     "output_type": "stream",
     "text": [
      "1319\r"
     ]
    },
    {
     "name": "stdout",
     "output_type": "stream",
     "text": [
      "1320\r"
     ]
    },
    {
     "name": "stdout",
     "output_type": "stream",
     "text": [
      "1321\r"
     ]
    },
    {
     "name": "stdout",
     "output_type": "stream",
     "text": [
      "1322\r"
     ]
    },
    {
     "name": "stdout",
     "output_type": "stream",
     "text": [
      "1323\r"
     ]
    },
    {
     "name": "stdout",
     "output_type": "stream",
     "text": [
      "1324\r"
     ]
    },
    {
     "name": "stdout",
     "output_type": "stream",
     "text": [
      "1325\r"
     ]
    },
    {
     "name": "stdout",
     "output_type": "stream",
     "text": [
      "1326\r"
     ]
    },
    {
     "name": "stdout",
     "output_type": "stream",
     "text": [
      "1327\r"
     ]
    },
    {
     "name": "stdout",
     "output_type": "stream",
     "text": [
      "1328\r"
     ]
    },
    {
     "name": "stdout",
     "output_type": "stream",
     "text": [
      "1329\r"
     ]
    },
    {
     "name": "stdout",
     "output_type": "stream",
     "text": [
      "1330\r"
     ]
    },
    {
     "name": "stdout",
     "output_type": "stream",
     "text": [
      "1331\r"
     ]
    },
    {
     "name": "stdout",
     "output_type": "stream",
     "text": [
      "1332\r"
     ]
    },
    {
     "name": "stdout",
     "output_type": "stream",
     "text": [
      "1333\r"
     ]
    },
    {
     "name": "stdout",
     "output_type": "stream",
     "text": [
      "1334\r"
     ]
    },
    {
     "name": "stdout",
     "output_type": "stream",
     "text": [
      "1335\r"
     ]
    },
    {
     "name": "stdout",
     "output_type": "stream",
     "text": [
      "1336\r"
     ]
    },
    {
     "name": "stdout",
     "output_type": "stream",
     "text": [
      "1337\r"
     ]
    },
    {
     "name": "stdout",
     "output_type": "stream",
     "text": [
      "1338\r"
     ]
    },
    {
     "name": "stdout",
     "output_type": "stream",
     "text": [
      "1339\r"
     ]
    },
    {
     "name": "stdout",
     "output_type": "stream",
     "text": [
      "1340\r"
     ]
    },
    {
     "name": "stdout",
     "output_type": "stream",
     "text": [
      "1341\r"
     ]
    },
    {
     "name": "stdout",
     "output_type": "stream",
     "text": [
      "1342\r"
     ]
    },
    {
     "name": "stdout",
     "output_type": "stream",
     "text": [
      "1343\r"
     ]
    },
    {
     "name": "stdout",
     "output_type": "stream",
     "text": [
      "1344\r"
     ]
    },
    {
     "name": "stdout",
     "output_type": "stream",
     "text": [
      "1345\r"
     ]
    },
    {
     "name": "stdout",
     "output_type": "stream",
     "text": [
      "1346\r"
     ]
    },
    {
     "name": "stdout",
     "output_type": "stream",
     "text": [
      "1347\r"
     ]
    },
    {
     "name": "stdout",
     "output_type": "stream",
     "text": [
      "1348\r"
     ]
    },
    {
     "name": "stdout",
     "output_type": "stream",
     "text": [
      "1349\r"
     ]
    },
    {
     "name": "stdout",
     "output_type": "stream",
     "text": [
      "1350\r"
     ]
    },
    {
     "name": "stdout",
     "output_type": "stream",
     "text": [
      "1351\r"
     ]
    },
    {
     "name": "stdout",
     "output_type": "stream",
     "text": [
      "1352\r"
     ]
    },
    {
     "name": "stdout",
     "output_type": "stream",
     "text": [
      "1353\r"
     ]
    },
    {
     "name": "stdout",
     "output_type": "stream",
     "text": [
      "1354\r"
     ]
    },
    {
     "name": "stdout",
     "output_type": "stream",
     "text": [
      "1355\r"
     ]
    },
    {
     "name": "stdout",
     "output_type": "stream",
     "text": [
      "1356\r"
     ]
    },
    {
     "name": "stdout",
     "output_type": "stream",
     "text": [
      "1357\r"
     ]
    },
    {
     "name": "stdout",
     "output_type": "stream",
     "text": [
      "1358\r"
     ]
    },
    {
     "name": "stdout",
     "output_type": "stream",
     "text": [
      "1359\r"
     ]
    },
    {
     "name": "stdout",
     "output_type": "stream",
     "text": [
      "1360\r"
     ]
    },
    {
     "name": "stdout",
     "output_type": "stream",
     "text": [
      "1361\r"
     ]
    },
    {
     "name": "stdout",
     "output_type": "stream",
     "text": [
      "1362\r"
     ]
    },
    {
     "name": "stdout",
     "output_type": "stream",
     "text": [
      "1363\r"
     ]
    },
    {
     "name": "stdout",
     "output_type": "stream",
     "text": [
      "1364\r"
     ]
    },
    {
     "name": "stdout",
     "output_type": "stream",
     "text": [
      "1365\r"
     ]
    },
    {
     "name": "stdout",
     "output_type": "stream",
     "text": [
      "1366\r"
     ]
    },
    {
     "name": "stdout",
     "output_type": "stream",
     "text": [
      "1367\r"
     ]
    },
    {
     "name": "stdout",
     "output_type": "stream",
     "text": [
      "1368\r"
     ]
    },
    {
     "name": "stdout",
     "output_type": "stream",
     "text": [
      "1369\r"
     ]
    },
    {
     "name": "stdout",
     "output_type": "stream",
     "text": [
      "1370\r"
     ]
    },
    {
     "name": "stdout",
     "output_type": "stream",
     "text": [
      "1371\r"
     ]
    },
    {
     "name": "stdout",
     "output_type": "stream",
     "text": [
      "1372\r"
     ]
    },
    {
     "name": "stdout",
     "output_type": "stream",
     "text": [
      "1373\r"
     ]
    },
    {
     "name": "stdout",
     "output_type": "stream",
     "text": [
      "1374\r"
     ]
    },
    {
     "name": "stdout",
     "output_type": "stream",
     "text": [
      "1375\r"
     ]
    },
    {
     "name": "stdout",
     "output_type": "stream",
     "text": [
      "1376\r"
     ]
    },
    {
     "name": "stdout",
     "output_type": "stream",
     "text": [
      "1377\r"
     ]
    },
    {
     "name": "stdout",
     "output_type": "stream",
     "text": [
      "1378\r"
     ]
    },
    {
     "name": "stdout",
     "output_type": "stream",
     "text": [
      "1379\r"
     ]
    },
    {
     "name": "stdout",
     "output_type": "stream",
     "text": [
      "1380\r"
     ]
    },
    {
     "name": "stdout",
     "output_type": "stream",
     "text": [
      "1381\r"
     ]
    },
    {
     "name": "stdout",
     "output_type": "stream",
     "text": [
      "1382\r"
     ]
    },
    {
     "name": "stdout",
     "output_type": "stream",
     "text": [
      "1383\r"
     ]
    },
    {
     "name": "stdout",
     "output_type": "stream",
     "text": [
      "1384\r"
     ]
    },
    {
     "name": "stdout",
     "output_type": "stream",
     "text": [
      "1385\r"
     ]
    },
    {
     "name": "stdout",
     "output_type": "stream",
     "text": [
      "1386\r"
     ]
    },
    {
     "name": "stdout",
     "output_type": "stream",
     "text": [
      "1387\r"
     ]
    },
    {
     "name": "stdout",
     "output_type": "stream",
     "text": [
      "1388\r"
     ]
    },
    {
     "name": "stdout",
     "output_type": "stream",
     "text": [
      "1389\r"
     ]
    },
    {
     "name": "stdout",
     "output_type": "stream",
     "text": [
      "1390\r"
     ]
    },
    {
     "name": "stdout",
     "output_type": "stream",
     "text": [
      "1391\r"
     ]
    },
    {
     "name": "stdout",
     "output_type": "stream",
     "text": [
      "1392\r"
     ]
    },
    {
     "name": "stdout",
     "output_type": "stream",
     "text": [
      "1393\r"
     ]
    },
    {
     "name": "stdout",
     "output_type": "stream",
     "text": [
      "1394\r"
     ]
    },
    {
     "name": "stdout",
     "output_type": "stream",
     "text": [
      "1395\r"
     ]
    },
    {
     "name": "stdout",
     "output_type": "stream",
     "text": [
      "1396\r"
     ]
    },
    {
     "name": "stdout",
     "output_type": "stream",
     "text": [
      "1397\r"
     ]
    },
    {
     "name": "stdout",
     "output_type": "stream",
     "text": [
      "1398\r"
     ]
    },
    {
     "name": "stdout",
     "output_type": "stream",
     "text": [
      "1399\r"
     ]
    },
    {
     "name": "stdout",
     "output_type": "stream",
     "text": [
      "1400\r"
     ]
    },
    {
     "name": "stdout",
     "output_type": "stream",
     "text": [
      "1401\r"
     ]
    },
    {
     "name": "stdout",
     "output_type": "stream",
     "text": [
      "1402\r"
     ]
    },
    {
     "name": "stdout",
     "output_type": "stream",
     "text": [
      "1403\r"
     ]
    },
    {
     "name": "stdout",
     "output_type": "stream",
     "text": [
      "1404\r"
     ]
    },
    {
     "name": "stdout",
     "output_type": "stream",
     "text": [
      "1405\r"
     ]
    },
    {
     "name": "stdout",
     "output_type": "stream",
     "text": [
      "1406\r"
     ]
    },
    {
     "name": "stdout",
     "output_type": "stream",
     "text": [
      "1407\r"
     ]
    },
    {
     "name": "stdout",
     "output_type": "stream",
     "text": [
      "1408\r"
     ]
    },
    {
     "name": "stdout",
     "output_type": "stream",
     "text": [
      "1409\r"
     ]
    },
    {
     "name": "stdout",
     "output_type": "stream",
     "text": [
      "1410\r"
     ]
    },
    {
     "name": "stdout",
     "output_type": "stream",
     "text": [
      "1411\r"
     ]
    },
    {
     "name": "stdout",
     "output_type": "stream",
     "text": [
      "1412\r"
     ]
    },
    {
     "name": "stdout",
     "output_type": "stream",
     "text": [
      "1413\r"
     ]
    },
    {
     "name": "stdout",
     "output_type": "stream",
     "text": [
      "1414\r"
     ]
    },
    {
     "name": "stdout",
     "output_type": "stream",
     "text": [
      "1415\r"
     ]
    },
    {
     "name": "stdout",
     "output_type": "stream",
     "text": [
      "1416\r"
     ]
    },
    {
     "name": "stdout",
     "output_type": "stream",
     "text": [
      "1417\r"
     ]
    },
    {
     "name": "stdout",
     "output_type": "stream",
     "text": [
      "1418\r"
     ]
    },
    {
     "name": "stdout",
     "output_type": "stream",
     "text": [
      "1419\r"
     ]
    },
    {
     "name": "stdout",
     "output_type": "stream",
     "text": [
      "1420\r"
     ]
    },
    {
     "name": "stdout",
     "output_type": "stream",
     "text": [
      "1421\r"
     ]
    },
    {
     "name": "stdout",
     "output_type": "stream",
     "text": [
      "1422\r"
     ]
    },
    {
     "name": "stdout",
     "output_type": "stream",
     "text": [
      "1423\r"
     ]
    },
    {
     "name": "stdout",
     "output_type": "stream",
     "text": [
      "1424\r"
     ]
    },
    {
     "name": "stdout",
     "output_type": "stream",
     "text": [
      "1425\r"
     ]
    },
    {
     "name": "stdout",
     "output_type": "stream",
     "text": [
      "1426\r"
     ]
    },
    {
     "name": "stdout",
     "output_type": "stream",
     "text": [
      "1427\r"
     ]
    },
    {
     "name": "stdout",
     "output_type": "stream",
     "text": [
      "1428\r"
     ]
    },
    {
     "name": "stdout",
     "output_type": "stream",
     "text": [
      "1429\r"
     ]
    },
    {
     "name": "stdout",
     "output_type": "stream",
     "text": [
      "1430\r"
     ]
    },
    {
     "name": "stdout",
     "output_type": "stream",
     "text": [
      "1431\r"
     ]
    },
    {
     "name": "stdout",
     "output_type": "stream",
     "text": [
      "1432\r"
     ]
    },
    {
     "name": "stdout",
     "output_type": "stream",
     "text": [
      "1433\r"
     ]
    },
    {
     "name": "stdout",
     "output_type": "stream",
     "text": [
      "1434\r"
     ]
    },
    {
     "name": "stdout",
     "output_type": "stream",
     "text": [
      "1435\r"
     ]
    },
    {
     "name": "stdout",
     "output_type": "stream",
     "text": [
      "1436\r"
     ]
    },
    {
     "name": "stdout",
     "output_type": "stream",
     "text": [
      "1437\r"
     ]
    },
    {
     "name": "stdout",
     "output_type": "stream",
     "text": [
      "1438\r"
     ]
    },
    {
     "name": "stdout",
     "output_type": "stream",
     "text": [
      "1439\r"
     ]
    },
    {
     "name": "stdout",
     "output_type": "stream",
     "text": [
      "1440\r"
     ]
    },
    {
     "name": "stdout",
     "output_type": "stream",
     "text": [
      "1441\r"
     ]
    },
    {
     "name": "stdout",
     "output_type": "stream",
     "text": [
      "1442\r"
     ]
    },
    {
     "name": "stdout",
     "output_type": "stream",
     "text": [
      "1443\r"
     ]
    },
    {
     "name": "stdout",
     "output_type": "stream",
     "text": [
      "1444\r"
     ]
    },
    {
     "name": "stdout",
     "output_type": "stream",
     "text": [
      "1445\r"
     ]
    },
    {
     "name": "stdout",
     "output_type": "stream",
     "text": [
      "1446\r"
     ]
    },
    {
     "name": "stdout",
     "output_type": "stream",
     "text": [
      "1447\r"
     ]
    },
    {
     "name": "stdout",
     "output_type": "stream",
     "text": [
      "1448\r"
     ]
    },
    {
     "name": "stdout",
     "output_type": "stream",
     "text": [
      "1449\r"
     ]
    },
    {
     "name": "stdout",
     "output_type": "stream",
     "text": [
      "1450\r"
     ]
    },
    {
     "name": "stdout",
     "output_type": "stream",
     "text": [
      "1451\r"
     ]
    },
    {
     "name": "stdout",
     "output_type": "stream",
     "text": [
      "1452\r"
     ]
    },
    {
     "name": "stdout",
     "output_type": "stream",
     "text": [
      "1453\r"
     ]
    },
    {
     "name": "stdout",
     "output_type": "stream",
     "text": [
      "1454\r"
     ]
    },
    {
     "name": "stdout",
     "output_type": "stream",
     "text": [
      "1455\r"
     ]
    },
    {
     "name": "stdout",
     "output_type": "stream",
     "text": [
      "1456\r"
     ]
    },
    {
     "name": "stdout",
     "output_type": "stream",
     "text": [
      "1457\r"
     ]
    },
    {
     "name": "stdout",
     "output_type": "stream",
     "text": [
      "1458\r"
     ]
    },
    {
     "name": "stdout",
     "output_type": "stream",
     "text": [
      "1459\r"
     ]
    },
    {
     "name": "stdout",
     "output_type": "stream",
     "text": [
      "1460\r"
     ]
    },
    {
     "name": "stdout",
     "output_type": "stream",
     "text": [
      "1461\r"
     ]
    },
    {
     "name": "stdout",
     "output_type": "stream",
     "text": [
      "1462\r"
     ]
    },
    {
     "name": "stdout",
     "output_type": "stream",
     "text": [
      "1463\r"
     ]
    },
    {
     "name": "stdout",
     "output_type": "stream",
     "text": [
      "1464\r"
     ]
    },
    {
     "name": "stdout",
     "output_type": "stream",
     "text": [
      "1465\r"
     ]
    },
    {
     "name": "stdout",
     "output_type": "stream",
     "text": [
      "1466\r"
     ]
    },
    {
     "name": "stdout",
     "output_type": "stream",
     "text": [
      "1467\r"
     ]
    },
    {
     "name": "stdout",
     "output_type": "stream",
     "text": [
      "1468\r"
     ]
    },
    {
     "name": "stdout",
     "output_type": "stream",
     "text": [
      "1469\r"
     ]
    },
    {
     "name": "stdout",
     "output_type": "stream",
     "text": [
      "1470\r"
     ]
    },
    {
     "name": "stdout",
     "output_type": "stream",
     "text": [
      "1471\r"
     ]
    },
    {
     "name": "stdout",
     "output_type": "stream",
     "text": [
      "1472\r"
     ]
    },
    {
     "name": "stdout",
     "output_type": "stream",
     "text": [
      "1473\r"
     ]
    },
    {
     "name": "stdout",
     "output_type": "stream",
     "text": [
      "1474\r"
     ]
    },
    {
     "name": "stdout",
     "output_type": "stream",
     "text": [
      "1475\r"
     ]
    },
    {
     "name": "stdout",
     "output_type": "stream",
     "text": [
      "1476\r"
     ]
    },
    {
     "name": "stdout",
     "output_type": "stream",
     "text": [
      "1477\r"
     ]
    },
    {
     "name": "stdout",
     "output_type": "stream",
     "text": [
      "1478\r"
     ]
    },
    {
     "name": "stdout",
     "output_type": "stream",
     "text": [
      "1479\r"
     ]
    },
    {
     "name": "stdout",
     "output_type": "stream",
     "text": [
      "1480\r"
     ]
    },
    {
     "name": "stdout",
     "output_type": "stream",
     "text": [
      "1481\r"
     ]
    },
    {
     "name": "stdout",
     "output_type": "stream",
     "text": [
      "1482\r"
     ]
    },
    {
     "name": "stdout",
     "output_type": "stream",
     "text": [
      "1483\r"
     ]
    },
    {
     "name": "stdout",
     "output_type": "stream",
     "text": [
      "1484\r"
     ]
    },
    {
     "name": "stdout",
     "output_type": "stream",
     "text": [
      "1485\r"
     ]
    },
    {
     "name": "stdout",
     "output_type": "stream",
     "text": [
      "1486\r"
     ]
    },
    {
     "name": "stdout",
     "output_type": "stream",
     "text": [
      "1487\r"
     ]
    },
    {
     "name": "stdout",
     "output_type": "stream",
     "text": [
      "1488\r"
     ]
    },
    {
     "name": "stdout",
     "output_type": "stream",
     "text": [
      "1489\r"
     ]
    },
    {
     "name": "stdout",
     "output_type": "stream",
     "text": [
      "1490\r"
     ]
    },
    {
     "name": "stdout",
     "output_type": "stream",
     "text": [
      "1491\r"
     ]
    },
    {
     "name": "stdout",
     "output_type": "stream",
     "text": [
      "1492\r"
     ]
    },
    {
     "name": "stdout",
     "output_type": "stream",
     "text": [
      "1493\r"
     ]
    },
    {
     "name": "stdout",
     "output_type": "stream",
     "text": [
      "1494\r"
     ]
    },
    {
     "name": "stdout",
     "output_type": "stream",
     "text": [
      "1495\r"
     ]
    },
    {
     "name": "stdout",
     "output_type": "stream",
     "text": [
      "1496\r"
     ]
    },
    {
     "name": "stdout",
     "output_type": "stream",
     "text": [
      "1497\r"
     ]
    },
    {
     "name": "stdout",
     "output_type": "stream",
     "text": [
      "1498\r"
     ]
    },
    {
     "name": "stdout",
     "output_type": "stream",
     "text": [
      "1499\r"
     ]
    },
    {
     "name": "stdout",
     "output_type": "stream",
     "text": [
      "1500\r"
     ]
    },
    {
     "name": "stdout",
     "output_type": "stream",
     "text": [
      "1501\r"
     ]
    },
    {
     "name": "stdout",
     "output_type": "stream",
     "text": [
      "1502\r"
     ]
    },
    {
     "name": "stdout",
     "output_type": "stream",
     "text": [
      "1503\r"
     ]
    },
    {
     "name": "stdout",
     "output_type": "stream",
     "text": [
      "1504\r"
     ]
    },
    {
     "name": "stdout",
     "output_type": "stream",
     "text": [
      "1505\r"
     ]
    },
    {
     "name": "stdout",
     "output_type": "stream",
     "text": [
      "1506\r"
     ]
    },
    {
     "name": "stdout",
     "output_type": "stream",
     "text": [
      "1507\r"
     ]
    },
    {
     "name": "stdout",
     "output_type": "stream",
     "text": [
      "1508\r"
     ]
    },
    {
     "name": "stdout",
     "output_type": "stream",
     "text": [
      "1509\r"
     ]
    },
    {
     "name": "stdout",
     "output_type": "stream",
     "text": [
      "1510\r"
     ]
    },
    {
     "name": "stdout",
     "output_type": "stream",
     "text": [
      "1511\r"
     ]
    },
    {
     "name": "stdout",
     "output_type": "stream",
     "text": [
      "1512\r"
     ]
    },
    {
     "name": "stdout",
     "output_type": "stream",
     "text": [
      "1513\r"
     ]
    },
    {
     "name": "stdout",
     "output_type": "stream",
     "text": [
      "1514\r"
     ]
    },
    {
     "name": "stdout",
     "output_type": "stream",
     "text": [
      "1515\r"
     ]
    },
    {
     "name": "stdout",
     "output_type": "stream",
     "text": [
      "1516\r"
     ]
    },
    {
     "name": "stdout",
     "output_type": "stream",
     "text": [
      "1517\r"
     ]
    },
    {
     "name": "stdout",
     "output_type": "stream",
     "text": [
      "1518\r"
     ]
    },
    {
     "name": "stdout",
     "output_type": "stream",
     "text": [
      "1519\r"
     ]
    },
    {
     "name": "stdout",
     "output_type": "stream",
     "text": [
      "1520\r"
     ]
    },
    {
     "name": "stdout",
     "output_type": "stream",
     "text": [
      "1521\r"
     ]
    },
    {
     "name": "stdout",
     "output_type": "stream",
     "text": [
      "1522\r"
     ]
    },
    {
     "name": "stdout",
     "output_type": "stream",
     "text": [
      "1523\r"
     ]
    },
    {
     "name": "stdout",
     "output_type": "stream",
     "text": [
      "1524\r"
     ]
    },
    {
     "name": "stdout",
     "output_type": "stream",
     "text": [
      "1525\r"
     ]
    },
    {
     "name": "stdout",
     "output_type": "stream",
     "text": [
      "1526\r"
     ]
    },
    {
     "name": "stdout",
     "output_type": "stream",
     "text": [
      "1527\r"
     ]
    },
    {
     "name": "stdout",
     "output_type": "stream",
     "text": [
      "1528\r"
     ]
    },
    {
     "name": "stdout",
     "output_type": "stream",
     "text": [
      "1529\r"
     ]
    },
    {
     "name": "stdout",
     "output_type": "stream",
     "text": [
      "1530\r"
     ]
    },
    {
     "name": "stdout",
     "output_type": "stream",
     "text": [
      "1531\r"
     ]
    },
    {
     "name": "stdout",
     "output_type": "stream",
     "text": [
      "1532\r"
     ]
    },
    {
     "name": "stdout",
     "output_type": "stream",
     "text": [
      "1533\r"
     ]
    },
    {
     "name": "stdout",
     "output_type": "stream",
     "text": [
      "1534\r"
     ]
    },
    {
     "name": "stdout",
     "output_type": "stream",
     "text": [
      "1535\r"
     ]
    },
    {
     "name": "stdout",
     "output_type": "stream",
     "text": [
      "1536\r"
     ]
    },
    {
     "name": "stdout",
     "output_type": "stream",
     "text": [
      "1537\r"
     ]
    },
    {
     "name": "stdout",
     "output_type": "stream",
     "text": [
      "1538\r"
     ]
    },
    {
     "name": "stdout",
     "output_type": "stream",
     "text": [
      "1539\r"
     ]
    },
    {
     "name": "stdout",
     "output_type": "stream",
     "text": [
      "1540\r"
     ]
    },
    {
     "name": "stdout",
     "output_type": "stream",
     "text": [
      "1541\r"
     ]
    },
    {
     "name": "stdout",
     "output_type": "stream",
     "text": [
      "1542\r"
     ]
    },
    {
     "name": "stdout",
     "output_type": "stream",
     "text": [
      "1543\r"
     ]
    },
    {
     "name": "stdout",
     "output_type": "stream",
     "text": [
      "1544\r"
     ]
    },
    {
     "name": "stdout",
     "output_type": "stream",
     "text": [
      "1545\r"
     ]
    },
    {
     "name": "stdout",
     "output_type": "stream",
     "text": [
      "1546\r"
     ]
    },
    {
     "name": "stdout",
     "output_type": "stream",
     "text": [
      "1547\r"
     ]
    },
    {
     "name": "stdout",
     "output_type": "stream",
     "text": [
      "1548\r"
     ]
    },
    {
     "name": "stdout",
     "output_type": "stream",
     "text": [
      "1549\r"
     ]
    },
    {
     "name": "stdout",
     "output_type": "stream",
     "text": [
      "1550\r"
     ]
    },
    {
     "name": "stdout",
     "output_type": "stream",
     "text": [
      "1551\r"
     ]
    },
    {
     "name": "stdout",
     "output_type": "stream",
     "text": [
      "1552\r"
     ]
    },
    {
     "name": "stdout",
     "output_type": "stream",
     "text": [
      "1553\r"
     ]
    },
    {
     "name": "stdout",
     "output_type": "stream",
     "text": [
      "1554\r"
     ]
    },
    {
     "name": "stdout",
     "output_type": "stream",
     "text": [
      "1555\r"
     ]
    },
    {
     "name": "stdout",
     "output_type": "stream",
     "text": [
      "1556\r"
     ]
    },
    {
     "name": "stdout",
     "output_type": "stream",
     "text": [
      "1557\r"
     ]
    },
    {
     "name": "stdout",
     "output_type": "stream",
     "text": [
      "1558\r"
     ]
    },
    {
     "name": "stdout",
     "output_type": "stream",
     "text": [
      "1559\r"
     ]
    },
    {
     "name": "stdout",
     "output_type": "stream",
     "text": [
      "1560\r"
     ]
    },
    {
     "name": "stdout",
     "output_type": "stream",
     "text": [
      "1561\r"
     ]
    },
    {
     "name": "stdout",
     "output_type": "stream",
     "text": [
      "1562\r"
     ]
    },
    {
     "name": "stdout",
     "output_type": "stream",
     "text": [
      "1563\r"
     ]
    },
    {
     "name": "stdout",
     "output_type": "stream",
     "text": [
      "1564\r"
     ]
    },
    {
     "name": "stdout",
     "output_type": "stream",
     "text": [
      "1565\r"
     ]
    },
    {
     "name": "stdout",
     "output_type": "stream",
     "text": [
      "1566\r"
     ]
    },
    {
     "name": "stdout",
     "output_type": "stream",
     "text": [
      "1567\r"
     ]
    },
    {
     "name": "stdout",
     "output_type": "stream",
     "text": [
      "1568\r"
     ]
    },
    {
     "name": "stdout",
     "output_type": "stream",
     "text": [
      "1569\r"
     ]
    },
    {
     "name": "stdout",
     "output_type": "stream",
     "text": [
      "1570\r"
     ]
    },
    {
     "name": "stdout",
     "output_type": "stream",
     "text": [
      "1571\r"
     ]
    },
    {
     "name": "stdout",
     "output_type": "stream",
     "text": [
      "1572\r"
     ]
    },
    {
     "name": "stdout",
     "output_type": "stream",
     "text": [
      "1573\r"
     ]
    },
    {
     "name": "stdout",
     "output_type": "stream",
     "text": [
      "1574\r"
     ]
    },
    {
     "name": "stdout",
     "output_type": "stream",
     "text": [
      "1575\r"
     ]
    },
    {
     "name": "stdout",
     "output_type": "stream",
     "text": [
      "1576\r"
     ]
    },
    {
     "name": "stdout",
     "output_type": "stream",
     "text": [
      "1577\r"
     ]
    },
    {
     "name": "stdout",
     "output_type": "stream",
     "text": [
      "1578\r"
     ]
    },
    {
     "name": "stdout",
     "output_type": "stream",
     "text": [
      "1579\r"
     ]
    },
    {
     "name": "stdout",
     "output_type": "stream",
     "text": [
      "1580\r"
     ]
    },
    {
     "name": "stdout",
     "output_type": "stream",
     "text": [
      "1581\r"
     ]
    },
    {
     "name": "stdout",
     "output_type": "stream",
     "text": [
      "1582\r"
     ]
    },
    {
     "name": "stdout",
     "output_type": "stream",
     "text": [
      "1583\r"
     ]
    },
    {
     "name": "stdout",
     "output_type": "stream",
     "text": [
      "1584\r"
     ]
    },
    {
     "name": "stdout",
     "output_type": "stream",
     "text": [
      "1585\r"
     ]
    },
    {
     "name": "stdout",
     "output_type": "stream",
     "text": [
      "1586\r"
     ]
    },
    {
     "name": "stdout",
     "output_type": "stream",
     "text": [
      "1587\r"
     ]
    },
    {
     "name": "stdout",
     "output_type": "stream",
     "text": [
      "1588\r"
     ]
    },
    {
     "name": "stdout",
     "output_type": "stream",
     "text": [
      "1589\r"
     ]
    },
    {
     "name": "stdout",
     "output_type": "stream",
     "text": [
      "1590\r"
     ]
    },
    {
     "name": "stdout",
     "output_type": "stream",
     "text": [
      "1591\r"
     ]
    },
    {
     "name": "stdout",
     "output_type": "stream",
     "text": [
      "1592\r"
     ]
    },
    {
     "name": "stdout",
     "output_type": "stream",
     "text": [
      "1593\r"
     ]
    },
    {
     "name": "stdout",
     "output_type": "stream",
     "text": [
      "1594\r"
     ]
    },
    {
     "name": "stdout",
     "output_type": "stream",
     "text": [
      "1595\r"
     ]
    },
    {
     "name": "stdout",
     "output_type": "stream",
     "text": [
      "1596\r"
     ]
    },
    {
     "name": "stdout",
     "output_type": "stream",
     "text": [
      "1597\r"
     ]
    },
    {
     "name": "stdout",
     "output_type": "stream",
     "text": [
      "1598\r"
     ]
    },
    {
     "name": "stdout",
     "output_type": "stream",
     "text": [
      "1599\r"
     ]
    },
    {
     "name": "stdout",
     "output_type": "stream",
     "text": [
      "1600\r"
     ]
    },
    {
     "name": "stdout",
     "output_type": "stream",
     "text": [
      "1601\r"
     ]
    },
    {
     "name": "stdout",
     "output_type": "stream",
     "text": [
      "1602\r"
     ]
    },
    {
     "name": "stdout",
     "output_type": "stream",
     "text": [
      "1603\r"
     ]
    },
    {
     "name": "stdout",
     "output_type": "stream",
     "text": [
      "1604\r"
     ]
    },
    {
     "name": "stdout",
     "output_type": "stream",
     "text": [
      "1605\r"
     ]
    },
    {
     "name": "stdout",
     "output_type": "stream",
     "text": [
      "1606\r"
     ]
    },
    {
     "name": "stdout",
     "output_type": "stream",
     "text": [
      "1607\r"
     ]
    },
    {
     "name": "stdout",
     "output_type": "stream",
     "text": [
      "1608\r"
     ]
    },
    {
     "name": "stdout",
     "output_type": "stream",
     "text": [
      "1609\r"
     ]
    },
    {
     "name": "stdout",
     "output_type": "stream",
     "text": [
      "1610\r"
     ]
    },
    {
     "name": "stdout",
     "output_type": "stream",
     "text": [
      "1611\r"
     ]
    },
    {
     "name": "stdout",
     "output_type": "stream",
     "text": [
      "1612\r"
     ]
    },
    {
     "name": "stdout",
     "output_type": "stream",
     "text": [
      "1613\r"
     ]
    },
    {
     "name": "stdout",
     "output_type": "stream",
     "text": [
      "1614\r"
     ]
    },
    {
     "name": "stdout",
     "output_type": "stream",
     "text": [
      "1615\r"
     ]
    },
    {
     "name": "stdout",
     "output_type": "stream",
     "text": [
      "1616\r"
     ]
    },
    {
     "name": "stdout",
     "output_type": "stream",
     "text": [
      "1617\r"
     ]
    },
    {
     "name": "stdout",
     "output_type": "stream",
     "text": [
      "1618\r"
     ]
    },
    {
     "name": "stdout",
     "output_type": "stream",
     "text": [
      "1619\r"
     ]
    },
    {
     "name": "stdout",
     "output_type": "stream",
     "text": [
      "1620\r"
     ]
    },
    {
     "name": "stdout",
     "output_type": "stream",
     "text": [
      "1621\r"
     ]
    },
    {
     "name": "stdout",
     "output_type": "stream",
     "text": [
      "1622\r"
     ]
    },
    {
     "name": "stdout",
     "output_type": "stream",
     "text": [
      "1623\r"
     ]
    },
    {
     "name": "stdout",
     "output_type": "stream",
     "text": [
      "1624\r"
     ]
    },
    {
     "name": "stdout",
     "output_type": "stream",
     "text": [
      "1625\r"
     ]
    },
    {
     "name": "stdout",
     "output_type": "stream",
     "text": [
      "1626\r"
     ]
    },
    {
     "name": "stdout",
     "output_type": "stream",
     "text": [
      "1627\r"
     ]
    },
    {
     "name": "stdout",
     "output_type": "stream",
     "text": [
      "1628\r"
     ]
    },
    {
     "name": "stdout",
     "output_type": "stream",
     "text": [
      "1629\r"
     ]
    },
    {
     "name": "stdout",
     "output_type": "stream",
     "text": [
      "1630\r"
     ]
    },
    {
     "name": "stdout",
     "output_type": "stream",
     "text": [
      "1631\r"
     ]
    },
    {
     "name": "stdout",
     "output_type": "stream",
     "text": [
      "1632\r"
     ]
    },
    {
     "name": "stdout",
     "output_type": "stream",
     "text": [
      "1633\r"
     ]
    },
    {
     "name": "stdout",
     "output_type": "stream",
     "text": [
      "1634\r"
     ]
    },
    {
     "name": "stdout",
     "output_type": "stream",
     "text": [
      "1635\r"
     ]
    },
    {
     "name": "stdout",
     "output_type": "stream",
     "text": [
      "1636\r"
     ]
    },
    {
     "name": "stdout",
     "output_type": "stream",
     "text": [
      "1637\r"
     ]
    },
    {
     "name": "stdout",
     "output_type": "stream",
     "text": [
      "1638\r"
     ]
    },
    {
     "name": "stdout",
     "output_type": "stream",
     "text": [
      "1639\r"
     ]
    },
    {
     "name": "stdout",
     "output_type": "stream",
     "text": [
      "1640\r"
     ]
    },
    {
     "name": "stdout",
     "output_type": "stream",
     "text": [
      "1641\r"
     ]
    },
    {
     "name": "stdout",
     "output_type": "stream",
     "text": [
      "1642\r"
     ]
    },
    {
     "name": "stdout",
     "output_type": "stream",
     "text": [
      "1643\r"
     ]
    },
    {
     "name": "stdout",
     "output_type": "stream",
     "text": [
      "1644\r"
     ]
    },
    {
     "name": "stdout",
     "output_type": "stream",
     "text": [
      "1645\r"
     ]
    },
    {
     "name": "stdout",
     "output_type": "stream",
     "text": [
      "1646\r"
     ]
    },
    {
     "name": "stdout",
     "output_type": "stream",
     "text": [
      "1647\r"
     ]
    },
    {
     "name": "stdout",
     "output_type": "stream",
     "text": [
      "1648\r"
     ]
    },
    {
     "name": "stdout",
     "output_type": "stream",
     "text": [
      "1649\r"
     ]
    },
    {
     "name": "stdout",
     "output_type": "stream",
     "text": [
      "1650\r"
     ]
    },
    {
     "name": "stdout",
     "output_type": "stream",
     "text": [
      "1651\r"
     ]
    },
    {
     "name": "stdout",
     "output_type": "stream",
     "text": [
      "1652\r"
     ]
    },
    {
     "name": "stdout",
     "output_type": "stream",
     "text": [
      "1653\r"
     ]
    },
    {
     "name": "stdout",
     "output_type": "stream",
     "text": [
      "1654\r"
     ]
    },
    {
     "name": "stdout",
     "output_type": "stream",
     "text": [
      "1655\r"
     ]
    },
    {
     "name": "stdout",
     "output_type": "stream",
     "text": [
      "1656\r"
     ]
    },
    {
     "name": "stdout",
     "output_type": "stream",
     "text": [
      "1657\r"
     ]
    },
    {
     "name": "stdout",
     "output_type": "stream",
     "text": [
      "1658\r"
     ]
    },
    {
     "name": "stdout",
     "output_type": "stream",
     "text": [
      "1659\r"
     ]
    },
    {
     "name": "stdout",
     "output_type": "stream",
     "text": [
      "1660\r"
     ]
    },
    {
     "name": "stdout",
     "output_type": "stream",
     "text": [
      "1661\r"
     ]
    },
    {
     "name": "stdout",
     "output_type": "stream",
     "text": [
      "1662\r"
     ]
    },
    {
     "name": "stdout",
     "output_type": "stream",
     "text": [
      "1663\r"
     ]
    },
    {
     "name": "stdout",
     "output_type": "stream",
     "text": [
      "1664\r"
     ]
    },
    {
     "name": "stdout",
     "output_type": "stream",
     "text": [
      "1665\r"
     ]
    },
    {
     "name": "stdout",
     "output_type": "stream",
     "text": [
      "1666\r"
     ]
    },
    {
     "name": "stdout",
     "output_type": "stream",
     "text": [
      "1667\r"
     ]
    },
    {
     "name": "stdout",
     "output_type": "stream",
     "text": [
      "1668\r"
     ]
    },
    {
     "name": "stdout",
     "output_type": "stream",
     "text": [
      "1669\r"
     ]
    },
    {
     "name": "stdout",
     "output_type": "stream",
     "text": [
      "1670\r"
     ]
    },
    {
     "name": "stdout",
     "output_type": "stream",
     "text": [
      "1671\r"
     ]
    },
    {
     "name": "stdout",
     "output_type": "stream",
     "text": [
      "1672\r"
     ]
    },
    {
     "name": "stdout",
     "output_type": "stream",
     "text": [
      "1673\r"
     ]
    },
    {
     "name": "stdout",
     "output_type": "stream",
     "text": [
      "1674\r"
     ]
    },
    {
     "name": "stdout",
     "output_type": "stream",
     "text": [
      "1675\r"
     ]
    },
    {
     "name": "stdout",
     "output_type": "stream",
     "text": [
      "1676\r"
     ]
    },
    {
     "name": "stdout",
     "output_type": "stream",
     "text": [
      "1677\r"
     ]
    },
    {
     "name": "stdout",
     "output_type": "stream",
     "text": [
      "1678\r"
     ]
    },
    {
     "name": "stdout",
     "output_type": "stream",
     "text": [
      "1679\r"
     ]
    },
    {
     "name": "stdout",
     "output_type": "stream",
     "text": [
      "1680\r"
     ]
    },
    {
     "name": "stdout",
     "output_type": "stream",
     "text": [
      "1681\r"
     ]
    },
    {
     "name": "stdout",
     "output_type": "stream",
     "text": [
      "1682\r"
     ]
    },
    {
     "name": "stdout",
     "output_type": "stream",
     "text": [
      "1683\r"
     ]
    },
    {
     "name": "stdout",
     "output_type": "stream",
     "text": [
      "1684\r"
     ]
    },
    {
     "name": "stdout",
     "output_type": "stream",
     "text": [
      "1685\r"
     ]
    },
    {
     "name": "stdout",
     "output_type": "stream",
     "text": [
      "1686\r"
     ]
    },
    {
     "name": "stdout",
     "output_type": "stream",
     "text": [
      "1687\r"
     ]
    },
    {
     "name": "stdout",
     "output_type": "stream",
     "text": [
      "1688\r"
     ]
    },
    {
     "name": "stdout",
     "output_type": "stream",
     "text": [
      "1689\r"
     ]
    },
    {
     "name": "stdout",
     "output_type": "stream",
     "text": [
      "1690\r"
     ]
    },
    {
     "name": "stdout",
     "output_type": "stream",
     "text": [
      "1691\r"
     ]
    },
    {
     "name": "stdout",
     "output_type": "stream",
     "text": [
      "1692\r"
     ]
    },
    {
     "name": "stdout",
     "output_type": "stream",
     "text": [
      "1693\r"
     ]
    },
    {
     "name": "stdout",
     "output_type": "stream",
     "text": [
      "1694\r"
     ]
    },
    {
     "name": "stdout",
     "output_type": "stream",
     "text": [
      "1695\r"
     ]
    },
    {
     "name": "stdout",
     "output_type": "stream",
     "text": [
      "1696\r"
     ]
    },
    {
     "name": "stdout",
     "output_type": "stream",
     "text": [
      "1697\r"
     ]
    },
    {
     "name": "stdout",
     "output_type": "stream",
     "text": [
      "1698\r"
     ]
    },
    {
     "name": "stdout",
     "output_type": "stream",
     "text": [
      "1699\r"
     ]
    },
    {
     "name": "stdout",
     "output_type": "stream",
     "text": [
      "1700\r"
     ]
    },
    {
     "name": "stdout",
     "output_type": "stream",
     "text": [
      "1701\r"
     ]
    },
    {
     "name": "stdout",
     "output_type": "stream",
     "text": [
      "1702\r"
     ]
    },
    {
     "name": "stdout",
     "output_type": "stream",
     "text": [
      "1703\r"
     ]
    },
    {
     "name": "stdout",
     "output_type": "stream",
     "text": [
      "1704\r"
     ]
    },
    {
     "name": "stdout",
     "output_type": "stream",
     "text": [
      "1705\r"
     ]
    },
    {
     "name": "stdout",
     "output_type": "stream",
     "text": [
      "1706\r"
     ]
    },
    {
     "name": "stdout",
     "output_type": "stream",
     "text": [
      "1707\r"
     ]
    },
    {
     "name": "stdout",
     "output_type": "stream",
     "text": [
      "1708\r"
     ]
    },
    {
     "name": "stdout",
     "output_type": "stream",
     "text": [
      "1709\r"
     ]
    },
    {
     "name": "stdout",
     "output_type": "stream",
     "text": [
      "1710\r"
     ]
    },
    {
     "name": "stdout",
     "output_type": "stream",
     "text": [
      "1711\r"
     ]
    },
    {
     "name": "stdout",
     "output_type": "stream",
     "text": [
      "1712\r"
     ]
    },
    {
     "name": "stdout",
     "output_type": "stream",
     "text": [
      "1713\r"
     ]
    },
    {
     "name": "stdout",
     "output_type": "stream",
     "text": [
      "1714\r"
     ]
    },
    {
     "name": "stdout",
     "output_type": "stream",
     "text": [
      "1715\r"
     ]
    },
    {
     "name": "stdout",
     "output_type": "stream",
     "text": [
      "1716\r"
     ]
    },
    {
     "name": "stdout",
     "output_type": "stream",
     "text": [
      "1717\r"
     ]
    },
    {
     "name": "stdout",
     "output_type": "stream",
     "text": [
      "1718\r"
     ]
    },
    {
     "name": "stdout",
     "output_type": "stream",
     "text": [
      "1719\r"
     ]
    },
    {
     "name": "stdout",
     "output_type": "stream",
     "text": [
      "1720\r"
     ]
    },
    {
     "name": "stdout",
     "output_type": "stream",
     "text": [
      "1721\r"
     ]
    },
    {
     "name": "stdout",
     "output_type": "stream",
     "text": [
      "1722\r"
     ]
    },
    {
     "name": "stdout",
     "output_type": "stream",
     "text": [
      "1723\r"
     ]
    },
    {
     "name": "stdout",
     "output_type": "stream",
     "text": [
      "1724\r"
     ]
    },
    {
     "name": "stdout",
     "output_type": "stream",
     "text": [
      "1725\r"
     ]
    },
    {
     "name": "stdout",
     "output_type": "stream",
     "text": [
      "1726\r"
     ]
    },
    {
     "name": "stdout",
     "output_type": "stream",
     "text": [
      "1727\r"
     ]
    },
    {
     "name": "stdout",
     "output_type": "stream",
     "text": [
      "1728\r"
     ]
    },
    {
     "name": "stdout",
     "output_type": "stream",
     "text": [
      "1729\r"
     ]
    },
    {
     "name": "stdout",
     "output_type": "stream",
     "text": [
      "1730\r"
     ]
    },
    {
     "name": "stdout",
     "output_type": "stream",
     "text": [
      "1731\r"
     ]
    },
    {
     "name": "stdout",
     "output_type": "stream",
     "text": [
      "1732\r"
     ]
    },
    {
     "name": "stdout",
     "output_type": "stream",
     "text": [
      "1733\r"
     ]
    },
    {
     "name": "stdout",
     "output_type": "stream",
     "text": [
      "1734\r"
     ]
    },
    {
     "name": "stdout",
     "output_type": "stream",
     "text": [
      "1735\r"
     ]
    },
    {
     "name": "stdout",
     "output_type": "stream",
     "text": [
      "1736\r"
     ]
    },
    {
     "name": "stdout",
     "output_type": "stream",
     "text": [
      "1737\r"
     ]
    },
    {
     "name": "stdout",
     "output_type": "stream",
     "text": [
      "1738\r"
     ]
    },
    {
     "name": "stdout",
     "output_type": "stream",
     "text": [
      "1739\r"
     ]
    },
    {
     "name": "stdout",
     "output_type": "stream",
     "text": [
      "1740\r"
     ]
    },
    {
     "name": "stdout",
     "output_type": "stream",
     "text": [
      "1741\r"
     ]
    },
    {
     "name": "stdout",
     "output_type": "stream",
     "text": [
      "1742\r"
     ]
    },
    {
     "name": "stdout",
     "output_type": "stream",
     "text": [
      "1743\r"
     ]
    },
    {
     "name": "stdout",
     "output_type": "stream",
     "text": [
      "1744\r"
     ]
    },
    {
     "name": "stdout",
     "output_type": "stream",
     "text": [
      "1745\r"
     ]
    },
    {
     "name": "stdout",
     "output_type": "stream",
     "text": [
      "1746\r"
     ]
    },
    {
     "name": "stdout",
     "output_type": "stream",
     "text": [
      "1747\r"
     ]
    },
    {
     "name": "stdout",
     "output_type": "stream",
     "text": [
      "1748\r"
     ]
    },
    {
     "name": "stdout",
     "output_type": "stream",
     "text": [
      "1749\r"
     ]
    },
    {
     "name": "stdout",
     "output_type": "stream",
     "text": [
      "1750\r"
     ]
    },
    {
     "name": "stdout",
     "output_type": "stream",
     "text": [
      "1751\r"
     ]
    },
    {
     "name": "stdout",
     "output_type": "stream",
     "text": [
      "1752\r"
     ]
    },
    {
     "name": "stdout",
     "output_type": "stream",
     "text": [
      "1753\r"
     ]
    },
    {
     "name": "stdout",
     "output_type": "stream",
     "text": [
      "1754\r"
     ]
    },
    {
     "name": "stdout",
     "output_type": "stream",
     "text": [
      "1755\r"
     ]
    },
    {
     "name": "stdout",
     "output_type": "stream",
     "text": [
      "1756\r"
     ]
    },
    {
     "name": "stdout",
     "output_type": "stream",
     "text": [
      "1757\r"
     ]
    },
    {
     "name": "stdout",
     "output_type": "stream",
     "text": [
      "1758\r"
     ]
    },
    {
     "name": "stdout",
     "output_type": "stream",
     "text": [
      "1759\r"
     ]
    },
    {
     "name": "stdout",
     "output_type": "stream",
     "text": [
      "1760\r"
     ]
    },
    {
     "name": "stdout",
     "output_type": "stream",
     "text": [
      "1761\r"
     ]
    },
    {
     "name": "stdout",
     "output_type": "stream",
     "text": [
      "1762\r"
     ]
    },
    {
     "name": "stdout",
     "output_type": "stream",
     "text": [
      "1763\r"
     ]
    },
    {
     "name": "stdout",
     "output_type": "stream",
     "text": [
      "1764\r"
     ]
    },
    {
     "name": "stdout",
     "output_type": "stream",
     "text": [
      "1765\r"
     ]
    },
    {
     "name": "stdout",
     "output_type": "stream",
     "text": [
      "1766\r"
     ]
    },
    {
     "name": "stdout",
     "output_type": "stream",
     "text": [
      "1767\r"
     ]
    },
    {
     "name": "stdout",
     "output_type": "stream",
     "text": [
      "1768\r"
     ]
    },
    {
     "name": "stdout",
     "output_type": "stream",
     "text": [
      "1769\r"
     ]
    },
    {
     "name": "stdout",
     "output_type": "stream",
     "text": [
      "1770\r"
     ]
    },
    {
     "name": "stdout",
     "output_type": "stream",
     "text": [
      "1771\r"
     ]
    },
    {
     "name": "stdout",
     "output_type": "stream",
     "text": [
      "1772\r"
     ]
    },
    {
     "name": "stdout",
     "output_type": "stream",
     "text": [
      "1773\r"
     ]
    },
    {
     "name": "stdout",
     "output_type": "stream",
     "text": [
      "1774\r"
     ]
    },
    {
     "name": "stdout",
     "output_type": "stream",
     "text": [
      "1775\r"
     ]
    },
    {
     "name": "stdout",
     "output_type": "stream",
     "text": [
      "1776\r"
     ]
    },
    {
     "name": "stdout",
     "output_type": "stream",
     "text": [
      "1777\r"
     ]
    },
    {
     "name": "stdout",
     "output_type": "stream",
     "text": [
      "1778\r"
     ]
    },
    {
     "name": "stdout",
     "output_type": "stream",
     "text": [
      "1779\r"
     ]
    },
    {
     "name": "stdout",
     "output_type": "stream",
     "text": [
      "1780\r"
     ]
    },
    {
     "name": "stdout",
     "output_type": "stream",
     "text": [
      "1781\r"
     ]
    },
    {
     "name": "stdout",
     "output_type": "stream",
     "text": [
      "1782\r"
     ]
    },
    {
     "name": "stdout",
     "output_type": "stream",
     "text": [
      "1783\r"
     ]
    },
    {
     "name": "stdout",
     "output_type": "stream",
     "text": [
      "1784\r"
     ]
    },
    {
     "name": "stdout",
     "output_type": "stream",
     "text": [
      "1785\r"
     ]
    },
    {
     "name": "stdout",
     "output_type": "stream",
     "text": [
      "1786\r"
     ]
    },
    {
     "name": "stdout",
     "output_type": "stream",
     "text": [
      "1787\r"
     ]
    },
    {
     "name": "stdout",
     "output_type": "stream",
     "text": [
      "1788\r"
     ]
    },
    {
     "name": "stdout",
     "output_type": "stream",
     "text": [
      "1789\r"
     ]
    },
    {
     "name": "stdout",
     "output_type": "stream",
     "text": [
      "1790\r"
     ]
    },
    {
     "name": "stdout",
     "output_type": "stream",
     "text": [
      "1791\r"
     ]
    },
    {
     "name": "stdout",
     "output_type": "stream",
     "text": [
      "1792\r"
     ]
    },
    {
     "name": "stdout",
     "output_type": "stream",
     "text": [
      "1793\r"
     ]
    },
    {
     "name": "stdout",
     "output_type": "stream",
     "text": [
      "1794\r"
     ]
    },
    {
     "name": "stdout",
     "output_type": "stream",
     "text": [
      "1795\r"
     ]
    },
    {
     "name": "stdout",
     "output_type": "stream",
     "text": [
      "1796\r"
     ]
    },
    {
     "name": "stdout",
     "output_type": "stream",
     "text": [
      "1797\r"
     ]
    },
    {
     "name": "stdout",
     "output_type": "stream",
     "text": [
      "1798\r"
     ]
    },
    {
     "name": "stdout",
     "output_type": "stream",
     "text": [
      "1799\r"
     ]
    },
    {
     "name": "stdout",
     "output_type": "stream",
     "text": [
      "1800\r"
     ]
    },
    {
     "name": "stdout",
     "output_type": "stream",
     "text": [
      "1801\r"
     ]
    },
    {
     "name": "stdout",
     "output_type": "stream",
     "text": [
      "1802\r"
     ]
    },
    {
     "name": "stdout",
     "output_type": "stream",
     "text": [
      "1803\r"
     ]
    },
    {
     "name": "stdout",
     "output_type": "stream",
     "text": [
      "1804\r"
     ]
    },
    {
     "name": "stdout",
     "output_type": "stream",
     "text": [
      "1805\r"
     ]
    },
    {
     "name": "stdout",
     "output_type": "stream",
     "text": [
      "1806\r"
     ]
    },
    {
     "name": "stdout",
     "output_type": "stream",
     "text": [
      "1807\r"
     ]
    },
    {
     "name": "stdout",
     "output_type": "stream",
     "text": [
      "1808\r"
     ]
    },
    {
     "name": "stdout",
     "output_type": "stream",
     "text": [
      "1809\r"
     ]
    },
    {
     "name": "stdout",
     "output_type": "stream",
     "text": [
      "1810\r"
     ]
    },
    {
     "name": "stdout",
     "output_type": "stream",
     "text": [
      "1811\r"
     ]
    },
    {
     "name": "stdout",
     "output_type": "stream",
     "text": [
      "1812\r"
     ]
    },
    {
     "name": "stdout",
     "output_type": "stream",
     "text": [
      "1813\r"
     ]
    },
    {
     "name": "stdout",
     "output_type": "stream",
     "text": [
      "1814\r"
     ]
    },
    {
     "name": "stdout",
     "output_type": "stream",
     "text": [
      "1815\r"
     ]
    },
    {
     "name": "stdout",
     "output_type": "stream",
     "text": [
      "1816\r"
     ]
    },
    {
     "name": "stdout",
     "output_type": "stream",
     "text": [
      "1817\r"
     ]
    },
    {
     "name": "stdout",
     "output_type": "stream",
     "text": [
      "1818\r"
     ]
    },
    {
     "name": "stdout",
     "output_type": "stream",
     "text": [
      "1819\r"
     ]
    },
    {
     "name": "stdout",
     "output_type": "stream",
     "text": [
      "1820\r"
     ]
    },
    {
     "name": "stdout",
     "output_type": "stream",
     "text": [
      "1821\r"
     ]
    },
    {
     "name": "stdout",
     "output_type": "stream",
     "text": [
      "1822\r"
     ]
    },
    {
     "name": "stdout",
     "output_type": "stream",
     "text": [
      "1823\r"
     ]
    },
    {
     "name": "stdout",
     "output_type": "stream",
     "text": [
      "1824\r"
     ]
    },
    {
     "name": "stdout",
     "output_type": "stream",
     "text": [
      "1825\r"
     ]
    },
    {
     "name": "stdout",
     "output_type": "stream",
     "text": [
      "1826\r"
     ]
    },
    {
     "name": "stdout",
     "output_type": "stream",
     "text": [
      "1827\r"
     ]
    },
    {
     "name": "stdout",
     "output_type": "stream",
     "text": [
      "1828\r"
     ]
    },
    {
     "name": "stdout",
     "output_type": "stream",
     "text": [
      "1829\r"
     ]
    },
    {
     "name": "stdout",
     "output_type": "stream",
     "text": [
      "1830\r"
     ]
    },
    {
     "name": "stdout",
     "output_type": "stream",
     "text": [
      "1831\r"
     ]
    },
    {
     "name": "stdout",
     "output_type": "stream",
     "text": [
      "1832\r"
     ]
    },
    {
     "name": "stdout",
     "output_type": "stream",
     "text": [
      "1833\r"
     ]
    },
    {
     "name": "stdout",
     "output_type": "stream",
     "text": [
      "1834\r"
     ]
    },
    {
     "name": "stdout",
     "output_type": "stream",
     "text": [
      "1835\r"
     ]
    },
    {
     "name": "stdout",
     "output_type": "stream",
     "text": [
      "1836\r"
     ]
    },
    {
     "name": "stdout",
     "output_type": "stream",
     "text": [
      "1837\r"
     ]
    },
    {
     "name": "stdout",
     "output_type": "stream",
     "text": [
      "1838\r"
     ]
    },
    {
     "name": "stdout",
     "output_type": "stream",
     "text": [
      "1839\r"
     ]
    },
    {
     "name": "stdout",
     "output_type": "stream",
     "text": [
      "1840\r"
     ]
    },
    {
     "name": "stdout",
     "output_type": "stream",
     "text": [
      "1841\r"
     ]
    },
    {
     "name": "stdout",
     "output_type": "stream",
     "text": [
      "1842\r"
     ]
    },
    {
     "name": "stdout",
     "output_type": "stream",
     "text": [
      "1843\r"
     ]
    },
    {
     "name": "stdout",
     "output_type": "stream",
     "text": [
      "1844\r"
     ]
    },
    {
     "name": "stdout",
     "output_type": "stream",
     "text": [
      "1845\r"
     ]
    },
    {
     "name": "stdout",
     "output_type": "stream",
     "text": [
      "1846\r"
     ]
    },
    {
     "name": "stdout",
     "output_type": "stream",
     "text": [
      "1847\r"
     ]
    },
    {
     "name": "stdout",
     "output_type": "stream",
     "text": [
      "1848\r"
     ]
    },
    {
     "name": "stdout",
     "output_type": "stream",
     "text": [
      "1849\r"
     ]
    },
    {
     "name": "stdout",
     "output_type": "stream",
     "text": [
      "1850\r"
     ]
    },
    {
     "name": "stdout",
     "output_type": "stream",
     "text": [
      "1851\r"
     ]
    },
    {
     "name": "stdout",
     "output_type": "stream",
     "text": [
      "1852\r"
     ]
    },
    {
     "name": "stdout",
     "output_type": "stream",
     "text": [
      "1853\r"
     ]
    },
    {
     "name": "stdout",
     "output_type": "stream",
     "text": [
      "1854\r"
     ]
    },
    {
     "name": "stdout",
     "output_type": "stream",
     "text": [
      "1855\r"
     ]
    },
    {
     "name": "stdout",
     "output_type": "stream",
     "text": [
      "1856\r"
     ]
    },
    {
     "name": "stdout",
     "output_type": "stream",
     "text": [
      "1857\r"
     ]
    },
    {
     "name": "stdout",
     "output_type": "stream",
     "text": [
      "1858\r"
     ]
    },
    {
     "name": "stdout",
     "output_type": "stream",
     "text": [
      "1859\r"
     ]
    },
    {
     "name": "stdout",
     "output_type": "stream",
     "text": [
      "1860\r"
     ]
    },
    {
     "name": "stdout",
     "output_type": "stream",
     "text": [
      "1861\r"
     ]
    },
    {
     "name": "stdout",
     "output_type": "stream",
     "text": [
      "1862\r"
     ]
    },
    {
     "name": "stdout",
     "output_type": "stream",
     "text": [
      "1863\r"
     ]
    },
    {
     "name": "stdout",
     "output_type": "stream",
     "text": [
      "1864\r"
     ]
    },
    {
     "name": "stdout",
     "output_type": "stream",
     "text": [
      "1865\r"
     ]
    },
    {
     "name": "stdout",
     "output_type": "stream",
     "text": [
      "1866\r"
     ]
    },
    {
     "name": "stdout",
     "output_type": "stream",
     "text": [
      "1867\r"
     ]
    },
    {
     "name": "stdout",
     "output_type": "stream",
     "text": [
      "1868\r"
     ]
    },
    {
     "name": "stdout",
     "output_type": "stream",
     "text": [
      "1869\r"
     ]
    },
    {
     "name": "stdout",
     "output_type": "stream",
     "text": [
      "1870\r"
     ]
    },
    {
     "name": "stdout",
     "output_type": "stream",
     "text": [
      "1871\r"
     ]
    },
    {
     "name": "stdout",
     "output_type": "stream",
     "text": [
      "1872\r"
     ]
    },
    {
     "name": "stdout",
     "output_type": "stream",
     "text": [
      "1873\r"
     ]
    },
    {
     "name": "stdout",
     "output_type": "stream",
     "text": [
      "1874\r"
     ]
    },
    {
     "name": "stdout",
     "output_type": "stream",
     "text": [
      "1875\r"
     ]
    },
    {
     "name": "stdout",
     "output_type": "stream",
     "text": [
      "1876\r"
     ]
    },
    {
     "name": "stdout",
     "output_type": "stream",
     "text": [
      "1877\r"
     ]
    },
    {
     "name": "stdout",
     "output_type": "stream",
     "text": [
      "1878\r"
     ]
    },
    {
     "name": "stdout",
     "output_type": "stream",
     "text": [
      "1879\r"
     ]
    },
    {
     "name": "stdout",
     "output_type": "stream",
     "text": [
      "1880\r"
     ]
    },
    {
     "name": "stdout",
     "output_type": "stream",
     "text": [
      "1881\r"
     ]
    },
    {
     "name": "stdout",
     "output_type": "stream",
     "text": [
      "1882\r"
     ]
    },
    {
     "name": "stdout",
     "output_type": "stream",
     "text": [
      "1883\r"
     ]
    },
    {
     "name": "stdout",
     "output_type": "stream",
     "text": [
      "1884\r"
     ]
    },
    {
     "name": "stdout",
     "output_type": "stream",
     "text": [
      "1885\r"
     ]
    },
    {
     "name": "stdout",
     "output_type": "stream",
     "text": [
      "1886\r"
     ]
    },
    {
     "name": "stdout",
     "output_type": "stream",
     "text": [
      "1887\r"
     ]
    },
    {
     "name": "stdout",
     "output_type": "stream",
     "text": [
      "1888\r"
     ]
    },
    {
     "name": "stdout",
     "output_type": "stream",
     "text": [
      "1889\r"
     ]
    },
    {
     "name": "stdout",
     "output_type": "stream",
     "text": [
      "1890\r"
     ]
    },
    {
     "name": "stdout",
     "output_type": "stream",
     "text": [
      "1891\r"
     ]
    },
    {
     "name": "stdout",
     "output_type": "stream",
     "text": [
      "1892\r"
     ]
    },
    {
     "name": "stdout",
     "output_type": "stream",
     "text": [
      "1893\r"
     ]
    },
    {
     "name": "stdout",
     "output_type": "stream",
     "text": [
      "1894\r"
     ]
    },
    {
     "name": "stdout",
     "output_type": "stream",
     "text": [
      "1895\r"
     ]
    },
    {
     "name": "stdout",
     "output_type": "stream",
     "text": [
      "1896\r"
     ]
    },
    {
     "name": "stdout",
     "output_type": "stream",
     "text": [
      "1897\r"
     ]
    },
    {
     "name": "stdout",
     "output_type": "stream",
     "text": [
      "1898\r"
     ]
    },
    {
     "name": "stdout",
     "output_type": "stream",
     "text": [
      "1899\r"
     ]
    },
    {
     "name": "stdout",
     "output_type": "stream",
     "text": [
      "1900\r"
     ]
    },
    {
     "name": "stdout",
     "output_type": "stream",
     "text": [
      "1901\r"
     ]
    },
    {
     "name": "stdout",
     "output_type": "stream",
     "text": [
      "1902\r"
     ]
    },
    {
     "name": "stdout",
     "output_type": "stream",
     "text": [
      "1903\r"
     ]
    },
    {
     "name": "stdout",
     "output_type": "stream",
     "text": [
      "1904\r"
     ]
    },
    {
     "name": "stdout",
     "output_type": "stream",
     "text": [
      "1905\r"
     ]
    },
    {
     "name": "stdout",
     "output_type": "stream",
     "text": [
      "1906\r"
     ]
    },
    {
     "name": "stdout",
     "output_type": "stream",
     "text": [
      "1907\r"
     ]
    },
    {
     "name": "stdout",
     "output_type": "stream",
     "text": [
      "1908\r"
     ]
    },
    {
     "name": "stdout",
     "output_type": "stream",
     "text": [
      "1909\r"
     ]
    },
    {
     "name": "stdout",
     "output_type": "stream",
     "text": [
      "1910\r"
     ]
    },
    {
     "name": "stdout",
     "output_type": "stream",
     "text": [
      "1911\r"
     ]
    },
    {
     "name": "stdout",
     "output_type": "stream",
     "text": [
      "1912\r"
     ]
    },
    {
     "name": "stdout",
     "output_type": "stream",
     "text": [
      "1913\r"
     ]
    },
    {
     "name": "stdout",
     "output_type": "stream",
     "text": [
      "1914\r"
     ]
    },
    {
     "name": "stdout",
     "output_type": "stream",
     "text": [
      "1915\r"
     ]
    },
    {
     "name": "stdout",
     "output_type": "stream",
     "text": [
      "1916\r"
     ]
    },
    {
     "name": "stdout",
     "output_type": "stream",
     "text": [
      "1917\r"
     ]
    },
    {
     "name": "stdout",
     "output_type": "stream",
     "text": [
      "1918\r"
     ]
    },
    {
     "name": "stdout",
     "output_type": "stream",
     "text": [
      "1919\r"
     ]
    },
    {
     "name": "stdout",
     "output_type": "stream",
     "text": [
      "1920\r"
     ]
    },
    {
     "name": "stdout",
     "output_type": "stream",
     "text": [
      "1921\r"
     ]
    },
    {
     "name": "stdout",
     "output_type": "stream",
     "text": [
      "1922\r"
     ]
    },
    {
     "name": "stdout",
     "output_type": "stream",
     "text": [
      "1923\r"
     ]
    },
    {
     "name": "stdout",
     "output_type": "stream",
     "text": [
      "1924\r"
     ]
    },
    {
     "name": "stdout",
     "output_type": "stream",
     "text": [
      "1925\r"
     ]
    },
    {
     "name": "stdout",
     "output_type": "stream",
     "text": [
      "1926\r"
     ]
    },
    {
     "name": "stdout",
     "output_type": "stream",
     "text": [
      "1927\r"
     ]
    },
    {
     "name": "stdout",
     "output_type": "stream",
     "text": [
      "1928\r"
     ]
    },
    {
     "name": "stdout",
     "output_type": "stream",
     "text": [
      "1929\r"
     ]
    },
    {
     "name": "stdout",
     "output_type": "stream",
     "text": [
      "1930\r"
     ]
    },
    {
     "name": "stdout",
     "output_type": "stream",
     "text": [
      "1931\r"
     ]
    },
    {
     "name": "stdout",
     "output_type": "stream",
     "text": [
      "1932\r"
     ]
    },
    {
     "name": "stdout",
     "output_type": "stream",
     "text": [
      "1933\r"
     ]
    },
    {
     "name": "stdout",
     "output_type": "stream",
     "text": [
      "1934\r"
     ]
    },
    {
     "name": "stdout",
     "output_type": "stream",
     "text": [
      "1935\r"
     ]
    },
    {
     "name": "stdout",
     "output_type": "stream",
     "text": [
      "1936\r"
     ]
    },
    {
     "name": "stdout",
     "output_type": "stream",
     "text": [
      "1937\r"
     ]
    },
    {
     "name": "stdout",
     "output_type": "stream",
     "text": [
      "1938\r"
     ]
    },
    {
     "name": "stdout",
     "output_type": "stream",
     "text": [
      "1939\r"
     ]
    },
    {
     "name": "stdout",
     "output_type": "stream",
     "text": [
      "1940\r"
     ]
    },
    {
     "name": "stdout",
     "output_type": "stream",
     "text": [
      "1941\r"
     ]
    },
    {
     "name": "stdout",
     "output_type": "stream",
     "text": [
      "1942\r"
     ]
    },
    {
     "name": "stdout",
     "output_type": "stream",
     "text": [
      "1943\r"
     ]
    },
    {
     "name": "stdout",
     "output_type": "stream",
     "text": [
      "1944\r"
     ]
    },
    {
     "name": "stdout",
     "output_type": "stream",
     "text": [
      "1945\r"
     ]
    },
    {
     "name": "stdout",
     "output_type": "stream",
     "text": [
      "1946\r"
     ]
    },
    {
     "name": "stdout",
     "output_type": "stream",
     "text": [
      "1947\r"
     ]
    },
    {
     "name": "stdout",
     "output_type": "stream",
     "text": [
      "1948\r"
     ]
    },
    {
     "name": "stdout",
     "output_type": "stream",
     "text": [
      "1949\r"
     ]
    },
    {
     "name": "stdout",
     "output_type": "stream",
     "text": [
      "1950\r"
     ]
    },
    {
     "name": "stdout",
     "output_type": "stream",
     "text": [
      "1951\r"
     ]
    },
    {
     "name": "stdout",
     "output_type": "stream",
     "text": [
      "1952\r"
     ]
    },
    {
     "name": "stdout",
     "output_type": "stream",
     "text": [
      "1953\r"
     ]
    },
    {
     "name": "stdout",
     "output_type": "stream",
     "text": [
      "1954\r"
     ]
    },
    {
     "name": "stdout",
     "output_type": "stream",
     "text": [
      "1955\r"
     ]
    },
    {
     "name": "stdout",
     "output_type": "stream",
     "text": [
      "1956\r"
     ]
    },
    {
     "name": "stdout",
     "output_type": "stream",
     "text": [
      "1957\r"
     ]
    },
    {
     "name": "stdout",
     "output_type": "stream",
     "text": [
      "1958\r"
     ]
    },
    {
     "name": "stdout",
     "output_type": "stream",
     "text": [
      "1959\r"
     ]
    },
    {
     "name": "stdout",
     "output_type": "stream",
     "text": [
      "1960\r"
     ]
    },
    {
     "name": "stdout",
     "output_type": "stream",
     "text": [
      "1961\r"
     ]
    },
    {
     "name": "stdout",
     "output_type": "stream",
     "text": [
      "1962\r"
     ]
    },
    {
     "name": "stdout",
     "output_type": "stream",
     "text": [
      "1963\r"
     ]
    },
    {
     "name": "stdout",
     "output_type": "stream",
     "text": [
      "1964\r"
     ]
    },
    {
     "name": "stdout",
     "output_type": "stream",
     "text": [
      "1965\r"
     ]
    },
    {
     "name": "stdout",
     "output_type": "stream",
     "text": [
      "1966\r"
     ]
    },
    {
     "name": "stdout",
     "output_type": "stream",
     "text": [
      "1967\r"
     ]
    },
    {
     "name": "stdout",
     "output_type": "stream",
     "text": [
      "1968\r"
     ]
    },
    {
     "name": "stdout",
     "output_type": "stream",
     "text": [
      "1969\r"
     ]
    },
    {
     "name": "stdout",
     "output_type": "stream",
     "text": [
      "1970\r"
     ]
    },
    {
     "name": "stdout",
     "output_type": "stream",
     "text": [
      "1971\r"
     ]
    },
    {
     "name": "stdout",
     "output_type": "stream",
     "text": [
      "1972\r"
     ]
    },
    {
     "name": "stdout",
     "output_type": "stream",
     "text": [
      "1973\r"
     ]
    },
    {
     "name": "stdout",
     "output_type": "stream",
     "text": [
      "1974\r"
     ]
    },
    {
     "name": "stdout",
     "output_type": "stream",
     "text": [
      "1975\r"
     ]
    },
    {
     "name": "stdout",
     "output_type": "stream",
     "text": [
      "1976\r"
     ]
    },
    {
     "name": "stdout",
     "output_type": "stream",
     "text": [
      "1977\r"
     ]
    },
    {
     "name": "stdout",
     "output_type": "stream",
     "text": [
      "1978\r"
     ]
    },
    {
     "name": "stdout",
     "output_type": "stream",
     "text": [
      "1979\r"
     ]
    },
    {
     "name": "stdout",
     "output_type": "stream",
     "text": [
      "1980\r"
     ]
    },
    {
     "name": "stdout",
     "output_type": "stream",
     "text": [
      "1981\r"
     ]
    },
    {
     "name": "stdout",
     "output_type": "stream",
     "text": [
      "1982\r"
     ]
    },
    {
     "name": "stdout",
     "output_type": "stream",
     "text": [
      "1983\r"
     ]
    },
    {
     "name": "stdout",
     "output_type": "stream",
     "text": [
      "1984\r"
     ]
    },
    {
     "name": "stdout",
     "output_type": "stream",
     "text": [
      "1985\r"
     ]
    },
    {
     "name": "stdout",
     "output_type": "stream",
     "text": [
      "1986\r"
     ]
    },
    {
     "name": "stdout",
     "output_type": "stream",
     "text": [
      "1987\r"
     ]
    },
    {
     "name": "stdout",
     "output_type": "stream",
     "text": [
      "1988\r"
     ]
    },
    {
     "name": "stdout",
     "output_type": "stream",
     "text": [
      "1989\r"
     ]
    },
    {
     "name": "stdout",
     "output_type": "stream",
     "text": [
      "1990\r"
     ]
    },
    {
     "name": "stdout",
     "output_type": "stream",
     "text": [
      "1991\r"
     ]
    },
    {
     "name": "stdout",
     "output_type": "stream",
     "text": [
      "1992\r"
     ]
    },
    {
     "name": "stdout",
     "output_type": "stream",
     "text": [
      "1993\r"
     ]
    },
    {
     "name": "stdout",
     "output_type": "stream",
     "text": [
      "1994\r"
     ]
    },
    {
     "name": "stdout",
     "output_type": "stream",
     "text": [
      "1995\r"
     ]
    },
    {
     "name": "stdout",
     "output_type": "stream",
     "text": [
      "1996\r"
     ]
    },
    {
     "name": "stdout",
     "output_type": "stream",
     "text": [
      "1997\r"
     ]
    },
    {
     "name": "stdout",
     "output_type": "stream",
     "text": [
      "1998\r"
     ]
    },
    {
     "name": "stdout",
     "output_type": "stream",
     "text": [
      "1999\r"
     ]
    },
    {
     "name": "stdout",
     "output_type": "stream",
     "text": [
      "2000\r"
     ]
    },
    {
     "name": "stdout",
     "output_type": "stream",
     "text": [
      "2001\r"
     ]
    },
    {
     "name": "stdout",
     "output_type": "stream",
     "text": [
      "2002\r"
     ]
    },
    {
     "name": "stdout",
     "output_type": "stream",
     "text": [
      "2003\r"
     ]
    },
    {
     "name": "stdout",
     "output_type": "stream",
     "text": [
      "2004\r"
     ]
    },
    {
     "name": "stdout",
     "output_type": "stream",
     "text": [
      "2005\r"
     ]
    },
    {
     "name": "stdout",
     "output_type": "stream",
     "text": [
      "2006\r"
     ]
    },
    {
     "name": "stdout",
     "output_type": "stream",
     "text": [
      "2007\r"
     ]
    },
    {
     "name": "stdout",
     "output_type": "stream",
     "text": [
      "2008\r"
     ]
    },
    {
     "name": "stdout",
     "output_type": "stream",
     "text": [
      "2009\r"
     ]
    },
    {
     "name": "stdout",
     "output_type": "stream",
     "text": [
      "2010\r"
     ]
    },
    {
     "name": "stdout",
     "output_type": "stream",
     "text": [
      "2011\r"
     ]
    },
    {
     "name": "stdout",
     "output_type": "stream",
     "text": [
      "2012\r"
     ]
    },
    {
     "name": "stdout",
     "output_type": "stream",
     "text": [
      "2013\r"
     ]
    },
    {
     "name": "stdout",
     "output_type": "stream",
     "text": [
      "2014\r"
     ]
    },
    {
     "name": "stdout",
     "output_type": "stream",
     "text": [
      "2015\r"
     ]
    },
    {
     "name": "stdout",
     "output_type": "stream",
     "text": [
      "2016\r"
     ]
    },
    {
     "name": "stdout",
     "output_type": "stream",
     "text": [
      "2017\r"
     ]
    },
    {
     "name": "stdout",
     "output_type": "stream",
     "text": [
      "2018\r"
     ]
    },
    {
     "name": "stdout",
     "output_type": "stream",
     "text": [
      "2019\r"
     ]
    },
    {
     "name": "stdout",
     "output_type": "stream",
     "text": [
      "2020\r"
     ]
    },
    {
     "name": "stdout",
     "output_type": "stream",
     "text": [
      "2021\r"
     ]
    },
    {
     "name": "stdout",
     "output_type": "stream",
     "text": [
      "2022\r"
     ]
    },
    {
     "name": "stdout",
     "output_type": "stream",
     "text": [
      "2023\r"
     ]
    },
    {
     "name": "stdout",
     "output_type": "stream",
     "text": [
      "2024\r"
     ]
    },
    {
     "name": "stdout",
     "output_type": "stream",
     "text": [
      "2025\r"
     ]
    },
    {
     "name": "stdout",
     "output_type": "stream",
     "text": [
      "2026\r"
     ]
    },
    {
     "name": "stdout",
     "output_type": "stream",
     "text": [
      "2027\r"
     ]
    },
    {
     "name": "stdout",
     "output_type": "stream",
     "text": [
      "2028\r"
     ]
    },
    {
     "name": "stdout",
     "output_type": "stream",
     "text": [
      "2029\r"
     ]
    },
    {
     "name": "stdout",
     "output_type": "stream",
     "text": [
      "2030\r"
     ]
    },
    {
     "name": "stdout",
     "output_type": "stream",
     "text": [
      "2031\r"
     ]
    },
    {
     "name": "stdout",
     "output_type": "stream",
     "text": [
      "2032\r"
     ]
    },
    {
     "name": "stdout",
     "output_type": "stream",
     "text": [
      "2033\r"
     ]
    },
    {
     "name": "stdout",
     "output_type": "stream",
     "text": [
      "2034\r"
     ]
    },
    {
     "name": "stdout",
     "output_type": "stream",
     "text": [
      "2035\r"
     ]
    },
    {
     "name": "stdout",
     "output_type": "stream",
     "text": [
      "2036\r"
     ]
    },
    {
     "name": "stdout",
     "output_type": "stream",
     "text": [
      "2037\r"
     ]
    },
    {
     "name": "stdout",
     "output_type": "stream",
     "text": [
      "2038\r"
     ]
    },
    {
     "name": "stdout",
     "output_type": "stream",
     "text": [
      "2039\r"
     ]
    },
    {
     "name": "stdout",
     "output_type": "stream",
     "text": [
      "2040\r"
     ]
    },
    {
     "name": "stdout",
     "output_type": "stream",
     "text": [
      "2041\r"
     ]
    },
    {
     "name": "stdout",
     "output_type": "stream",
     "text": [
      "2042\r"
     ]
    },
    {
     "name": "stdout",
     "output_type": "stream",
     "text": [
      "2043\r"
     ]
    },
    {
     "name": "stdout",
     "output_type": "stream",
     "text": [
      "2044\r"
     ]
    },
    {
     "name": "stdout",
     "output_type": "stream",
     "text": [
      "2045\r"
     ]
    },
    {
     "name": "stdout",
     "output_type": "stream",
     "text": [
      "2046\r"
     ]
    },
    {
     "name": "stdout",
     "output_type": "stream",
     "text": [
      "2047\r"
     ]
    },
    {
     "name": "stdout",
     "output_type": "stream",
     "text": [
      "2048\r"
     ]
    },
    {
     "name": "stdout",
     "output_type": "stream",
     "text": [
      "2049\r"
     ]
    },
    {
     "name": "stdout",
     "output_type": "stream",
     "text": [
      "2050\r"
     ]
    },
    {
     "name": "stdout",
     "output_type": "stream",
     "text": [
      "2051\r"
     ]
    },
    {
     "name": "stdout",
     "output_type": "stream",
     "text": [
      "2052\r"
     ]
    },
    {
     "name": "stdout",
     "output_type": "stream",
     "text": [
      "2053\r"
     ]
    },
    {
     "name": "stdout",
     "output_type": "stream",
     "text": [
      "2054\r"
     ]
    },
    {
     "name": "stdout",
     "output_type": "stream",
     "text": [
      "2055\r"
     ]
    },
    {
     "name": "stdout",
     "output_type": "stream",
     "text": [
      "2056\r"
     ]
    },
    {
     "name": "stdout",
     "output_type": "stream",
     "text": [
      "2057\r"
     ]
    },
    {
     "name": "stdout",
     "output_type": "stream",
     "text": [
      "2058\r"
     ]
    },
    {
     "name": "stdout",
     "output_type": "stream",
     "text": [
      "2059\r"
     ]
    },
    {
     "name": "stdout",
     "output_type": "stream",
     "text": [
      "2060\r"
     ]
    },
    {
     "name": "stdout",
     "output_type": "stream",
     "text": [
      "2061\r"
     ]
    },
    {
     "name": "stdout",
     "output_type": "stream",
     "text": [
      "2062\r"
     ]
    },
    {
     "name": "stdout",
     "output_type": "stream",
     "text": [
      "2063\r"
     ]
    },
    {
     "name": "stdout",
     "output_type": "stream",
     "text": [
      "2064\r"
     ]
    },
    {
     "name": "stdout",
     "output_type": "stream",
     "text": [
      "2065\r"
     ]
    },
    {
     "name": "stdout",
     "output_type": "stream",
     "text": [
      "2066\r"
     ]
    },
    {
     "name": "stdout",
     "output_type": "stream",
     "text": [
      "2067\r"
     ]
    },
    {
     "name": "stdout",
     "output_type": "stream",
     "text": [
      "2068\r"
     ]
    },
    {
     "name": "stdout",
     "output_type": "stream",
     "text": [
      "2069\r"
     ]
    },
    {
     "name": "stdout",
     "output_type": "stream",
     "text": [
      "2070\r"
     ]
    },
    {
     "name": "stdout",
     "output_type": "stream",
     "text": [
      "2071\r"
     ]
    },
    {
     "name": "stdout",
     "output_type": "stream",
     "text": [
      "2072\r"
     ]
    },
    {
     "name": "stdout",
     "output_type": "stream",
     "text": [
      "2073\r"
     ]
    },
    {
     "name": "stdout",
     "output_type": "stream",
     "text": [
      "2074\r"
     ]
    },
    {
     "name": "stdout",
     "output_type": "stream",
     "text": [
      "2075\r"
     ]
    },
    {
     "name": "stdout",
     "output_type": "stream",
     "text": [
      "2076\r"
     ]
    },
    {
     "name": "stdout",
     "output_type": "stream",
     "text": [
      "2077\r"
     ]
    },
    {
     "name": "stdout",
     "output_type": "stream",
     "text": [
      "2078\r"
     ]
    },
    {
     "name": "stdout",
     "output_type": "stream",
     "text": [
      "2079\r"
     ]
    },
    {
     "name": "stdout",
     "output_type": "stream",
     "text": [
      "2080\r"
     ]
    },
    {
     "name": "stdout",
     "output_type": "stream",
     "text": [
      "2081\r"
     ]
    },
    {
     "name": "stdout",
     "output_type": "stream",
     "text": [
      "2082\r"
     ]
    },
    {
     "name": "stdout",
     "output_type": "stream",
     "text": [
      "2083\r"
     ]
    },
    {
     "name": "stdout",
     "output_type": "stream",
     "text": [
      "2084\r"
     ]
    },
    {
     "name": "stdout",
     "output_type": "stream",
     "text": [
      "2085\r"
     ]
    },
    {
     "name": "stdout",
     "output_type": "stream",
     "text": [
      "2086\r"
     ]
    },
    {
     "name": "stdout",
     "output_type": "stream",
     "text": [
      "2087\r"
     ]
    },
    {
     "name": "stdout",
     "output_type": "stream",
     "text": [
      "2088\r"
     ]
    },
    {
     "name": "stdout",
     "output_type": "stream",
     "text": [
      "2089\r"
     ]
    },
    {
     "name": "stdout",
     "output_type": "stream",
     "text": [
      "2090\r"
     ]
    },
    {
     "name": "stdout",
     "output_type": "stream",
     "text": [
      "2091\r"
     ]
    },
    {
     "name": "stdout",
     "output_type": "stream",
     "text": [
      "2092\r"
     ]
    },
    {
     "name": "stdout",
     "output_type": "stream",
     "text": [
      "2093\r"
     ]
    },
    {
     "name": "stdout",
     "output_type": "stream",
     "text": [
      "2094\r"
     ]
    },
    {
     "name": "stdout",
     "output_type": "stream",
     "text": [
      "2095\r"
     ]
    },
    {
     "name": "stdout",
     "output_type": "stream",
     "text": [
      "2096\r"
     ]
    },
    {
     "name": "stdout",
     "output_type": "stream",
     "text": [
      "2097\r"
     ]
    },
    {
     "name": "stdout",
     "output_type": "stream",
     "text": [
      "2098\r"
     ]
    },
    {
     "name": "stdout",
     "output_type": "stream",
     "text": [
      "2099\r"
     ]
    },
    {
     "name": "stdout",
     "output_type": "stream",
     "text": [
      "2100\r"
     ]
    },
    {
     "name": "stdout",
     "output_type": "stream",
     "text": [
      "2101\r"
     ]
    },
    {
     "name": "stdout",
     "output_type": "stream",
     "text": [
      "2102\r"
     ]
    },
    {
     "name": "stdout",
     "output_type": "stream",
     "text": [
      "2103\r"
     ]
    },
    {
     "name": "stdout",
     "output_type": "stream",
     "text": [
      "2104\r"
     ]
    },
    {
     "name": "stdout",
     "output_type": "stream",
     "text": [
      "2105\r"
     ]
    },
    {
     "name": "stdout",
     "output_type": "stream",
     "text": [
      "2106\r"
     ]
    },
    {
     "name": "stdout",
     "output_type": "stream",
     "text": [
      "2107\r"
     ]
    },
    {
     "name": "stdout",
     "output_type": "stream",
     "text": [
      "2108\r"
     ]
    },
    {
     "name": "stdout",
     "output_type": "stream",
     "text": [
      "2109\r"
     ]
    },
    {
     "name": "stdout",
     "output_type": "stream",
     "text": [
      "2110\r"
     ]
    },
    {
     "name": "stdout",
     "output_type": "stream",
     "text": [
      "2111\r"
     ]
    },
    {
     "name": "stdout",
     "output_type": "stream",
     "text": [
      "2112\r"
     ]
    },
    {
     "name": "stdout",
     "output_type": "stream",
     "text": [
      "2113\r"
     ]
    },
    {
     "name": "stdout",
     "output_type": "stream",
     "text": [
      "2114\r"
     ]
    },
    {
     "name": "stdout",
     "output_type": "stream",
     "text": [
      "2115\r"
     ]
    },
    {
     "name": "stdout",
     "output_type": "stream",
     "text": [
      "2116\r"
     ]
    },
    {
     "name": "stdout",
     "output_type": "stream",
     "text": [
      "2117\r"
     ]
    },
    {
     "name": "stdout",
     "output_type": "stream",
     "text": [
      "2118\r"
     ]
    },
    {
     "name": "stdout",
     "output_type": "stream",
     "text": [
      "2119\r"
     ]
    },
    {
     "name": "stdout",
     "output_type": "stream",
     "text": [
      "2120\r"
     ]
    },
    {
     "name": "stdout",
     "output_type": "stream",
     "text": [
      "2121\r"
     ]
    },
    {
     "name": "stdout",
     "output_type": "stream",
     "text": [
      "2122\r"
     ]
    },
    {
     "name": "stdout",
     "output_type": "stream",
     "text": [
      "2123\r"
     ]
    },
    {
     "name": "stdout",
     "output_type": "stream",
     "text": [
      "2124\r"
     ]
    },
    {
     "name": "stdout",
     "output_type": "stream",
     "text": [
      "2125\r"
     ]
    },
    {
     "name": "stdout",
     "output_type": "stream",
     "text": [
      "2126\r"
     ]
    },
    {
     "name": "stdout",
     "output_type": "stream",
     "text": [
      "2127\r"
     ]
    },
    {
     "name": "stdout",
     "output_type": "stream",
     "text": [
      "2128\r"
     ]
    },
    {
     "name": "stdout",
     "output_type": "stream",
     "text": [
      "2129\r"
     ]
    },
    {
     "name": "stdout",
     "output_type": "stream",
     "text": [
      "2130\r"
     ]
    },
    {
     "name": "stdout",
     "output_type": "stream",
     "text": [
      "2131\r"
     ]
    },
    {
     "name": "stdout",
     "output_type": "stream",
     "text": [
      "2132\r"
     ]
    },
    {
     "name": "stdout",
     "output_type": "stream",
     "text": [
      "2133\r"
     ]
    },
    {
     "name": "stdout",
     "output_type": "stream",
     "text": [
      "2134\r"
     ]
    },
    {
     "name": "stdout",
     "output_type": "stream",
     "text": [
      "2135\r"
     ]
    },
    {
     "name": "stdout",
     "output_type": "stream",
     "text": [
      "2136\r"
     ]
    },
    {
     "name": "stdout",
     "output_type": "stream",
     "text": [
      "2137\r"
     ]
    },
    {
     "name": "stdout",
     "output_type": "stream",
     "text": [
      "2138\r"
     ]
    },
    {
     "name": "stdout",
     "output_type": "stream",
     "text": [
      "2139\r"
     ]
    },
    {
     "name": "stdout",
     "output_type": "stream",
     "text": [
      "2140\r"
     ]
    },
    {
     "name": "stdout",
     "output_type": "stream",
     "text": [
      "2141\r"
     ]
    },
    {
     "name": "stdout",
     "output_type": "stream",
     "text": [
      "2142\r"
     ]
    },
    {
     "name": "stdout",
     "output_type": "stream",
     "text": [
      "2143\r"
     ]
    },
    {
     "name": "stdout",
     "output_type": "stream",
     "text": [
      "2144\r"
     ]
    },
    {
     "name": "stdout",
     "output_type": "stream",
     "text": [
      "2145\r"
     ]
    },
    {
     "name": "stdout",
     "output_type": "stream",
     "text": [
      "2146\r"
     ]
    },
    {
     "name": "stdout",
     "output_type": "stream",
     "text": [
      "2147\r"
     ]
    },
    {
     "name": "stdout",
     "output_type": "stream",
     "text": [
      "2148\r"
     ]
    },
    {
     "name": "stdout",
     "output_type": "stream",
     "text": [
      "2149\r"
     ]
    },
    {
     "name": "stdout",
     "output_type": "stream",
     "text": [
      "2150\r"
     ]
    },
    {
     "name": "stdout",
     "output_type": "stream",
     "text": [
      "2151\r"
     ]
    },
    {
     "name": "stdout",
     "output_type": "stream",
     "text": [
      "2152\r"
     ]
    },
    {
     "name": "stdout",
     "output_type": "stream",
     "text": [
      "2153\r"
     ]
    },
    {
     "name": "stdout",
     "output_type": "stream",
     "text": [
      "2154\r"
     ]
    },
    {
     "name": "stdout",
     "output_type": "stream",
     "text": [
      "2155\r"
     ]
    },
    {
     "name": "stdout",
     "output_type": "stream",
     "text": [
      "2156\r"
     ]
    },
    {
     "name": "stdout",
     "output_type": "stream",
     "text": [
      "2157\r"
     ]
    },
    {
     "name": "stdout",
     "output_type": "stream",
     "text": [
      "2158\r"
     ]
    },
    {
     "name": "stdout",
     "output_type": "stream",
     "text": [
      "2159\r"
     ]
    },
    {
     "name": "stdout",
     "output_type": "stream",
     "text": [
      "2160\r"
     ]
    },
    {
     "name": "stdout",
     "output_type": "stream",
     "text": [
      "2161\r"
     ]
    },
    {
     "name": "stdout",
     "output_type": "stream",
     "text": [
      "2162\r"
     ]
    },
    {
     "name": "stdout",
     "output_type": "stream",
     "text": [
      "2163\r"
     ]
    },
    {
     "name": "stdout",
     "output_type": "stream",
     "text": [
      "2164\r"
     ]
    },
    {
     "name": "stdout",
     "output_type": "stream",
     "text": [
      "2165\r"
     ]
    },
    {
     "name": "stdout",
     "output_type": "stream",
     "text": [
      "2166\r"
     ]
    },
    {
     "name": "stdout",
     "output_type": "stream",
     "text": [
      "2167\r"
     ]
    },
    {
     "name": "stdout",
     "output_type": "stream",
     "text": [
      "2168\r"
     ]
    },
    {
     "name": "stdout",
     "output_type": "stream",
     "text": [
      "2169\r"
     ]
    },
    {
     "name": "stdout",
     "output_type": "stream",
     "text": [
      "2170\r"
     ]
    },
    {
     "name": "stdout",
     "output_type": "stream",
     "text": [
      "2171\r"
     ]
    },
    {
     "name": "stdout",
     "output_type": "stream",
     "text": [
      "2172\r"
     ]
    },
    {
     "name": "stdout",
     "output_type": "stream",
     "text": [
      "2173\r"
     ]
    },
    {
     "name": "stdout",
     "output_type": "stream",
     "text": [
      "2174\r"
     ]
    },
    {
     "name": "stdout",
     "output_type": "stream",
     "text": [
      "2175\r"
     ]
    },
    {
     "name": "stdout",
     "output_type": "stream",
     "text": [
      "2176\r"
     ]
    },
    {
     "name": "stdout",
     "output_type": "stream",
     "text": [
      "2177\r"
     ]
    },
    {
     "name": "stdout",
     "output_type": "stream",
     "text": [
      "2178\r"
     ]
    },
    {
     "name": "stdout",
     "output_type": "stream",
     "text": [
      "2179\r"
     ]
    },
    {
     "name": "stdout",
     "output_type": "stream",
     "text": [
      "2180\r"
     ]
    },
    {
     "name": "stdout",
     "output_type": "stream",
     "text": [
      "2181\r"
     ]
    },
    {
     "name": "stdout",
     "output_type": "stream",
     "text": [
      "2182\r"
     ]
    },
    {
     "name": "stdout",
     "output_type": "stream",
     "text": [
      "2183\r"
     ]
    },
    {
     "name": "stdout",
     "output_type": "stream",
     "text": [
      "2184\r"
     ]
    },
    {
     "name": "stdout",
     "output_type": "stream",
     "text": [
      "2185\r"
     ]
    },
    {
     "name": "stdout",
     "output_type": "stream",
     "text": [
      "2186\r"
     ]
    },
    {
     "name": "stdout",
     "output_type": "stream",
     "text": [
      "2187\r"
     ]
    },
    {
     "name": "stdout",
     "output_type": "stream",
     "text": [
      "2188\r"
     ]
    },
    {
     "name": "stdout",
     "output_type": "stream",
     "text": [
      "2189\r"
     ]
    },
    {
     "name": "stdout",
     "output_type": "stream",
     "text": [
      "2190\r"
     ]
    },
    {
     "name": "stdout",
     "output_type": "stream",
     "text": [
      "2191\r"
     ]
    },
    {
     "name": "stdout",
     "output_type": "stream",
     "text": [
      "2192\r"
     ]
    },
    {
     "name": "stdout",
     "output_type": "stream",
     "text": [
      "2193\r"
     ]
    },
    {
     "name": "stdout",
     "output_type": "stream",
     "text": [
      "2194\r"
     ]
    },
    {
     "name": "stdout",
     "output_type": "stream",
     "text": [
      "2195\r"
     ]
    },
    {
     "name": "stdout",
     "output_type": "stream",
     "text": [
      "2196\r"
     ]
    },
    {
     "name": "stdout",
     "output_type": "stream",
     "text": [
      "2197\r"
     ]
    },
    {
     "name": "stdout",
     "output_type": "stream",
     "text": [
      "2198\r"
     ]
    },
    {
     "name": "stdout",
     "output_type": "stream",
     "text": [
      "2199\r"
     ]
    },
    {
     "name": "stdout",
     "output_type": "stream",
     "text": [
      "2200\r"
     ]
    },
    {
     "name": "stdout",
     "output_type": "stream",
     "text": [
      "2201\r"
     ]
    },
    {
     "name": "stdout",
     "output_type": "stream",
     "text": [
      "2202\r"
     ]
    },
    {
     "name": "stdout",
     "output_type": "stream",
     "text": [
      "2203\r"
     ]
    },
    {
     "name": "stdout",
     "output_type": "stream",
     "text": [
      "2204\r"
     ]
    },
    {
     "name": "stdout",
     "output_type": "stream",
     "text": [
      "2205\r"
     ]
    },
    {
     "name": "stdout",
     "output_type": "stream",
     "text": [
      "2206\r"
     ]
    },
    {
     "name": "stdout",
     "output_type": "stream",
     "text": [
      "2207\r"
     ]
    },
    {
     "name": "stdout",
     "output_type": "stream",
     "text": [
      "2208\r"
     ]
    },
    {
     "name": "stdout",
     "output_type": "stream",
     "text": [
      "2209\r"
     ]
    },
    {
     "name": "stdout",
     "output_type": "stream",
     "text": [
      "2210\r"
     ]
    },
    {
     "name": "stdout",
     "output_type": "stream",
     "text": [
      "2211\r"
     ]
    },
    {
     "name": "stdout",
     "output_type": "stream",
     "text": [
      "2212\r"
     ]
    },
    {
     "name": "stdout",
     "output_type": "stream",
     "text": [
      "2213\r"
     ]
    },
    {
     "name": "stdout",
     "output_type": "stream",
     "text": [
      "2214\r"
     ]
    },
    {
     "name": "stdout",
     "output_type": "stream",
     "text": [
      "2215\r"
     ]
    },
    {
     "name": "stdout",
     "output_type": "stream",
     "text": [
      "2216\r"
     ]
    },
    {
     "name": "stdout",
     "output_type": "stream",
     "text": [
      "2217\r"
     ]
    },
    {
     "name": "stdout",
     "output_type": "stream",
     "text": [
      "2218\r"
     ]
    },
    {
     "name": "stdout",
     "output_type": "stream",
     "text": [
      "2219\r"
     ]
    },
    {
     "name": "stdout",
     "output_type": "stream",
     "text": [
      "2220\r"
     ]
    },
    {
     "name": "stdout",
     "output_type": "stream",
     "text": [
      "2221\r"
     ]
    },
    {
     "name": "stdout",
     "output_type": "stream",
     "text": [
      "2222\r"
     ]
    },
    {
     "name": "stdout",
     "output_type": "stream",
     "text": [
      "2223\r"
     ]
    },
    {
     "name": "stdout",
     "output_type": "stream",
     "text": [
      "2224\r"
     ]
    },
    {
     "name": "stdout",
     "output_type": "stream",
     "text": [
      "2225\r"
     ]
    },
    {
     "name": "stdout",
     "output_type": "stream",
     "text": [
      "2226\r"
     ]
    },
    {
     "name": "stdout",
     "output_type": "stream",
     "text": [
      "2227\r"
     ]
    },
    {
     "name": "stdout",
     "output_type": "stream",
     "text": [
      "2228\r"
     ]
    },
    {
     "name": "stdout",
     "output_type": "stream",
     "text": [
      "2229\r"
     ]
    },
    {
     "name": "stdout",
     "output_type": "stream",
     "text": [
      "2230\r"
     ]
    },
    {
     "name": "stdout",
     "output_type": "stream",
     "text": [
      "2231\r"
     ]
    },
    {
     "name": "stdout",
     "output_type": "stream",
     "text": [
      "2232\r"
     ]
    },
    {
     "name": "stdout",
     "output_type": "stream",
     "text": [
      "2233\r"
     ]
    },
    {
     "name": "stdout",
     "output_type": "stream",
     "text": [
      "2234\r"
     ]
    },
    {
     "name": "stdout",
     "output_type": "stream",
     "text": [
      "2235\r"
     ]
    },
    {
     "name": "stdout",
     "output_type": "stream",
     "text": [
      "2236\r"
     ]
    },
    {
     "name": "stdout",
     "output_type": "stream",
     "text": [
      "2237\r"
     ]
    },
    {
     "name": "stdout",
     "output_type": "stream",
     "text": [
      "2238\r"
     ]
    },
    {
     "name": "stdout",
     "output_type": "stream",
     "text": [
      "2239\r"
     ]
    },
    {
     "name": "stdout",
     "output_type": "stream",
     "text": [
      "2240\r"
     ]
    },
    {
     "name": "stdout",
     "output_type": "stream",
     "text": [
      "2241\r"
     ]
    },
    {
     "name": "stdout",
     "output_type": "stream",
     "text": [
      "2242\r"
     ]
    },
    {
     "name": "stdout",
     "output_type": "stream",
     "text": [
      "2243\r"
     ]
    },
    {
     "name": "stdout",
     "output_type": "stream",
     "text": [
      "2244\r"
     ]
    },
    {
     "name": "stdout",
     "output_type": "stream",
     "text": [
      "2245\r"
     ]
    },
    {
     "name": "stdout",
     "output_type": "stream",
     "text": [
      "2246\r"
     ]
    },
    {
     "name": "stdout",
     "output_type": "stream",
     "text": [
      "2247\r"
     ]
    },
    {
     "name": "stdout",
     "output_type": "stream",
     "text": [
      "2248\r"
     ]
    },
    {
     "name": "stdout",
     "output_type": "stream",
     "text": [
      "2249\r"
     ]
    },
    {
     "name": "stdout",
     "output_type": "stream",
     "text": [
      "2250\r"
     ]
    },
    {
     "name": "stdout",
     "output_type": "stream",
     "text": [
      "2251\r"
     ]
    },
    {
     "name": "stdout",
     "output_type": "stream",
     "text": [
      "2252\r"
     ]
    },
    {
     "name": "stdout",
     "output_type": "stream",
     "text": [
      "2253\r"
     ]
    },
    {
     "name": "stdout",
     "output_type": "stream",
     "text": [
      "2254\r"
     ]
    },
    {
     "name": "stdout",
     "output_type": "stream",
     "text": [
      "2255\r"
     ]
    },
    {
     "name": "stdout",
     "output_type": "stream",
     "text": [
      "2256\r"
     ]
    },
    {
     "name": "stdout",
     "output_type": "stream",
     "text": [
      "2257\r"
     ]
    },
    {
     "name": "stdout",
     "output_type": "stream",
     "text": [
      "2258\r"
     ]
    },
    {
     "name": "stdout",
     "output_type": "stream",
     "text": [
      "2259\r"
     ]
    },
    {
     "name": "stdout",
     "output_type": "stream",
     "text": [
      "2260\r"
     ]
    },
    {
     "name": "stdout",
     "output_type": "stream",
     "text": [
      "2261\r"
     ]
    },
    {
     "name": "stdout",
     "output_type": "stream",
     "text": [
      "2262\r"
     ]
    },
    {
     "name": "stdout",
     "output_type": "stream",
     "text": [
      "2263\r"
     ]
    },
    {
     "name": "stdout",
     "output_type": "stream",
     "text": [
      "2264\r"
     ]
    },
    {
     "name": "stdout",
     "output_type": "stream",
     "text": [
      "2265\r"
     ]
    },
    {
     "name": "stdout",
     "output_type": "stream",
     "text": [
      "2266\r"
     ]
    },
    {
     "name": "stdout",
     "output_type": "stream",
     "text": [
      "2267\r"
     ]
    },
    {
     "name": "stdout",
     "output_type": "stream",
     "text": [
      "2268\r"
     ]
    },
    {
     "name": "stdout",
     "output_type": "stream",
     "text": [
      "2269\r"
     ]
    },
    {
     "name": "stdout",
     "output_type": "stream",
     "text": [
      "2270\r"
     ]
    },
    {
     "name": "stdout",
     "output_type": "stream",
     "text": [
      "2271\r"
     ]
    },
    {
     "name": "stdout",
     "output_type": "stream",
     "text": [
      "2272\r"
     ]
    },
    {
     "name": "stdout",
     "output_type": "stream",
     "text": [
      "2273\r"
     ]
    },
    {
     "name": "stdout",
     "output_type": "stream",
     "text": [
      "2274\r"
     ]
    },
    {
     "name": "stdout",
     "output_type": "stream",
     "text": [
      "2275\r"
     ]
    },
    {
     "name": "stdout",
     "output_type": "stream",
     "text": [
      "2276\r"
     ]
    },
    {
     "name": "stdout",
     "output_type": "stream",
     "text": [
      "2277\r"
     ]
    },
    {
     "name": "stdout",
     "output_type": "stream",
     "text": [
      "2278\r"
     ]
    },
    {
     "name": "stdout",
     "output_type": "stream",
     "text": [
      "2279\r"
     ]
    },
    {
     "name": "stdout",
     "output_type": "stream",
     "text": [
      "2280\r"
     ]
    },
    {
     "name": "stdout",
     "output_type": "stream",
     "text": [
      "2281\r"
     ]
    },
    {
     "name": "stdout",
     "output_type": "stream",
     "text": [
      "2282\r"
     ]
    },
    {
     "name": "stdout",
     "output_type": "stream",
     "text": [
      "2283\r"
     ]
    },
    {
     "name": "stdout",
     "output_type": "stream",
     "text": [
      "2284\r"
     ]
    },
    {
     "name": "stdout",
     "output_type": "stream",
     "text": [
      "2285\r"
     ]
    },
    {
     "name": "stdout",
     "output_type": "stream",
     "text": [
      "2286\r"
     ]
    },
    {
     "name": "stdout",
     "output_type": "stream",
     "text": [
      "2287\r"
     ]
    },
    {
     "name": "stdout",
     "output_type": "stream",
     "text": [
      "2288\r"
     ]
    },
    {
     "name": "stdout",
     "output_type": "stream",
     "text": [
      "2289\r"
     ]
    },
    {
     "name": "stdout",
     "output_type": "stream",
     "text": [
      "2290\r"
     ]
    },
    {
     "name": "stdout",
     "output_type": "stream",
     "text": [
      "2291\r"
     ]
    },
    {
     "name": "stdout",
     "output_type": "stream",
     "text": [
      "2292\r"
     ]
    },
    {
     "name": "stdout",
     "output_type": "stream",
     "text": [
      "2293\r"
     ]
    },
    {
     "name": "stdout",
     "output_type": "stream",
     "text": [
      "2294\r"
     ]
    },
    {
     "name": "stdout",
     "output_type": "stream",
     "text": [
      "2295\r"
     ]
    },
    {
     "name": "stdout",
     "output_type": "stream",
     "text": [
      "2296\r"
     ]
    },
    {
     "name": "stdout",
     "output_type": "stream",
     "text": [
      "2297\r"
     ]
    },
    {
     "name": "stdout",
     "output_type": "stream",
     "text": [
      "2298\r"
     ]
    },
    {
     "name": "stdout",
     "output_type": "stream",
     "text": [
      "2299\r"
     ]
    },
    {
     "name": "stdout",
     "output_type": "stream",
     "text": [
      "2300\r"
     ]
    },
    {
     "name": "stdout",
     "output_type": "stream",
     "text": [
      "2301\r"
     ]
    },
    {
     "name": "stdout",
     "output_type": "stream",
     "text": [
      "2302\r"
     ]
    },
    {
     "name": "stdout",
     "output_type": "stream",
     "text": [
      "2303\r"
     ]
    },
    {
     "name": "stdout",
     "output_type": "stream",
     "text": [
      "2304\r"
     ]
    },
    {
     "name": "stdout",
     "output_type": "stream",
     "text": [
      "2305\r"
     ]
    },
    {
     "name": "stdout",
     "output_type": "stream",
     "text": [
      "2306\r"
     ]
    },
    {
     "name": "stdout",
     "output_type": "stream",
     "text": [
      "2307\r"
     ]
    },
    {
     "name": "stdout",
     "output_type": "stream",
     "text": [
      "2308\r"
     ]
    },
    {
     "name": "stdout",
     "output_type": "stream",
     "text": [
      "2309\r"
     ]
    },
    {
     "name": "stdout",
     "output_type": "stream",
     "text": [
      "2310\r"
     ]
    },
    {
     "name": "stdout",
     "output_type": "stream",
     "text": [
      "2311\r"
     ]
    },
    {
     "name": "stdout",
     "output_type": "stream",
     "text": [
      "2312\r"
     ]
    },
    {
     "name": "stdout",
     "output_type": "stream",
     "text": [
      "2313\r"
     ]
    },
    {
     "name": "stdout",
     "output_type": "stream",
     "text": [
      "2314\r"
     ]
    },
    {
     "name": "stdout",
     "output_type": "stream",
     "text": [
      "2315\r"
     ]
    },
    {
     "name": "stdout",
     "output_type": "stream",
     "text": [
      "2316\r"
     ]
    },
    {
     "name": "stdout",
     "output_type": "stream",
     "text": [
      "2317\r"
     ]
    },
    {
     "name": "stdout",
     "output_type": "stream",
     "text": [
      "2318\r"
     ]
    },
    {
     "name": "stdout",
     "output_type": "stream",
     "text": [
      "2319\r"
     ]
    },
    {
     "name": "stdout",
     "output_type": "stream",
     "text": [
      "2320\r"
     ]
    },
    {
     "name": "stdout",
     "output_type": "stream",
     "text": [
      "2321\r"
     ]
    },
    {
     "name": "stdout",
     "output_type": "stream",
     "text": [
      "2322\r"
     ]
    },
    {
     "name": "stdout",
     "output_type": "stream",
     "text": [
      "2323\r"
     ]
    },
    {
     "name": "stdout",
     "output_type": "stream",
     "text": [
      "2324\r"
     ]
    },
    {
     "name": "stdout",
     "output_type": "stream",
     "text": [
      "2325\r"
     ]
    },
    {
     "name": "stdout",
     "output_type": "stream",
     "text": [
      "2326\r"
     ]
    },
    {
     "name": "stdout",
     "output_type": "stream",
     "text": [
      "2327\r"
     ]
    },
    {
     "name": "stdout",
     "output_type": "stream",
     "text": [
      "2328\r"
     ]
    },
    {
     "name": "stdout",
     "output_type": "stream",
     "text": [
      "2329\r"
     ]
    },
    {
     "name": "stdout",
     "output_type": "stream",
     "text": [
      "2330\r"
     ]
    },
    {
     "name": "stdout",
     "output_type": "stream",
     "text": [
      "2331\r"
     ]
    },
    {
     "name": "stdout",
     "output_type": "stream",
     "text": [
      "2332\r"
     ]
    },
    {
     "name": "stdout",
     "output_type": "stream",
     "text": [
      "2333\r"
     ]
    },
    {
     "name": "stdout",
     "output_type": "stream",
     "text": [
      "2334\r"
     ]
    },
    {
     "name": "stdout",
     "output_type": "stream",
     "text": [
      "2335\r"
     ]
    },
    {
     "name": "stdout",
     "output_type": "stream",
     "text": [
      "2336\r"
     ]
    },
    {
     "name": "stdout",
     "output_type": "stream",
     "text": [
      "2337\r"
     ]
    },
    {
     "name": "stdout",
     "output_type": "stream",
     "text": [
      "2338\r"
     ]
    },
    {
     "name": "stdout",
     "output_type": "stream",
     "text": [
      "2339\r"
     ]
    },
    {
     "name": "stdout",
     "output_type": "stream",
     "text": [
      "2340\r"
     ]
    },
    {
     "name": "stdout",
     "output_type": "stream",
     "text": [
      "2341\r"
     ]
    },
    {
     "name": "stdout",
     "output_type": "stream",
     "text": [
      "2342\r"
     ]
    },
    {
     "name": "stdout",
     "output_type": "stream",
     "text": [
      "2343\r"
     ]
    },
    {
     "name": "stdout",
     "output_type": "stream",
     "text": [
      "2344\r"
     ]
    },
    {
     "name": "stdout",
     "output_type": "stream",
     "text": [
      "2345\r"
     ]
    },
    {
     "name": "stdout",
     "output_type": "stream",
     "text": [
      "2346\r"
     ]
    },
    {
     "name": "stdout",
     "output_type": "stream",
     "text": [
      "2347\r"
     ]
    },
    {
     "name": "stdout",
     "output_type": "stream",
     "text": [
      "2348\r"
     ]
    },
    {
     "name": "stdout",
     "output_type": "stream",
     "text": [
      "2349\r"
     ]
    },
    {
     "name": "stdout",
     "output_type": "stream",
     "text": [
      "2350\r"
     ]
    },
    {
     "name": "stdout",
     "output_type": "stream",
     "text": [
      "2351\r"
     ]
    },
    {
     "name": "stdout",
     "output_type": "stream",
     "text": [
      "2352\r"
     ]
    },
    {
     "name": "stdout",
     "output_type": "stream",
     "text": [
      "2353\r"
     ]
    },
    {
     "name": "stdout",
     "output_type": "stream",
     "text": [
      "2354\r"
     ]
    },
    {
     "name": "stdout",
     "output_type": "stream",
     "text": [
      "2355\r"
     ]
    },
    {
     "name": "stdout",
     "output_type": "stream",
     "text": [
      "2356\r"
     ]
    },
    {
     "name": "stdout",
     "output_type": "stream",
     "text": [
      "2357\r"
     ]
    },
    {
     "name": "stdout",
     "output_type": "stream",
     "text": [
      "2358\r"
     ]
    },
    {
     "name": "stdout",
     "output_type": "stream",
     "text": [
      "2359\r"
     ]
    },
    {
     "name": "stdout",
     "output_type": "stream",
     "text": [
      "2360\r"
     ]
    },
    {
     "name": "stdout",
     "output_type": "stream",
     "text": [
      "2361\r"
     ]
    },
    {
     "name": "stdout",
     "output_type": "stream",
     "text": [
      "2362\r"
     ]
    },
    {
     "name": "stdout",
     "output_type": "stream",
     "text": [
      "2363\r"
     ]
    },
    {
     "name": "stdout",
     "output_type": "stream",
     "text": [
      "2364\r"
     ]
    },
    {
     "name": "stdout",
     "output_type": "stream",
     "text": [
      "2365\r"
     ]
    },
    {
     "name": "stdout",
     "output_type": "stream",
     "text": [
      "2366\r"
     ]
    },
    {
     "name": "stdout",
     "output_type": "stream",
     "text": [
      "2367\r"
     ]
    },
    {
     "name": "stdout",
     "output_type": "stream",
     "text": [
      "2368\r"
     ]
    },
    {
     "name": "stdout",
     "output_type": "stream",
     "text": [
      "2369\r"
     ]
    },
    {
     "name": "stdout",
     "output_type": "stream",
     "text": [
      "2370\r"
     ]
    },
    {
     "name": "stdout",
     "output_type": "stream",
     "text": [
      "2371\r"
     ]
    },
    {
     "name": "stdout",
     "output_type": "stream",
     "text": [
      "2372\r"
     ]
    },
    {
     "name": "stdout",
     "output_type": "stream",
     "text": [
      "2373\r"
     ]
    },
    {
     "name": "stdout",
     "output_type": "stream",
     "text": [
      "2374\r"
     ]
    },
    {
     "name": "stdout",
     "output_type": "stream",
     "text": [
      "2375\r"
     ]
    },
    {
     "name": "stdout",
     "output_type": "stream",
     "text": [
      "2376\r"
     ]
    },
    {
     "name": "stdout",
     "output_type": "stream",
     "text": [
      "2377\r"
     ]
    },
    {
     "name": "stdout",
     "output_type": "stream",
     "text": [
      "2378\r"
     ]
    },
    {
     "name": "stdout",
     "output_type": "stream",
     "text": [
      "2379\r"
     ]
    },
    {
     "name": "stdout",
     "output_type": "stream",
     "text": [
      "2380\r"
     ]
    },
    {
     "name": "stdout",
     "output_type": "stream",
     "text": [
      "2381\r"
     ]
    },
    {
     "name": "stdout",
     "output_type": "stream",
     "text": [
      "2382\r"
     ]
    },
    {
     "name": "stdout",
     "output_type": "stream",
     "text": [
      "2383\r"
     ]
    },
    {
     "name": "stdout",
     "output_type": "stream",
     "text": [
      "2384\r"
     ]
    },
    {
     "name": "stdout",
     "output_type": "stream",
     "text": [
      "2385\r"
     ]
    },
    {
     "name": "stdout",
     "output_type": "stream",
     "text": [
      "2386\r"
     ]
    },
    {
     "name": "stdout",
     "output_type": "stream",
     "text": [
      "2387\r"
     ]
    },
    {
     "name": "stdout",
     "output_type": "stream",
     "text": [
      "2388\r"
     ]
    },
    {
     "name": "stdout",
     "output_type": "stream",
     "text": [
      "2389\r"
     ]
    },
    {
     "name": "stdout",
     "output_type": "stream",
     "text": [
      "2390\r"
     ]
    },
    {
     "name": "stdout",
     "output_type": "stream",
     "text": [
      "2391\r"
     ]
    },
    {
     "name": "stdout",
     "output_type": "stream",
     "text": [
      "2392\r"
     ]
    },
    {
     "name": "stdout",
     "output_type": "stream",
     "text": [
      "2393\r"
     ]
    },
    {
     "name": "stdout",
     "output_type": "stream",
     "text": [
      "2394\r"
     ]
    },
    {
     "name": "stdout",
     "output_type": "stream",
     "text": [
      "2395\r"
     ]
    },
    {
     "name": "stdout",
     "output_type": "stream",
     "text": [
      "2396\r"
     ]
    },
    {
     "name": "stdout",
     "output_type": "stream",
     "text": [
      "2397\r"
     ]
    },
    {
     "name": "stdout",
     "output_type": "stream",
     "text": [
      "2398\r"
     ]
    },
    {
     "name": "stdout",
     "output_type": "stream",
     "text": [
      "2399\r"
     ]
    },
    {
     "name": "stdout",
     "output_type": "stream",
     "text": [
      "2400\r"
     ]
    },
    {
     "name": "stdout",
     "output_type": "stream",
     "text": [
      "2401\r"
     ]
    },
    {
     "name": "stdout",
     "output_type": "stream",
     "text": [
      "2402\r"
     ]
    },
    {
     "name": "stdout",
     "output_type": "stream",
     "text": [
      "2403\r"
     ]
    },
    {
     "name": "stdout",
     "output_type": "stream",
     "text": [
      "2404\r"
     ]
    },
    {
     "name": "stdout",
     "output_type": "stream",
     "text": [
      "2405\r"
     ]
    },
    {
     "name": "stdout",
     "output_type": "stream",
     "text": [
      "2406\r"
     ]
    },
    {
     "name": "stdout",
     "output_type": "stream",
     "text": [
      "2407\r"
     ]
    },
    {
     "name": "stdout",
     "output_type": "stream",
     "text": [
      "2408\r"
     ]
    },
    {
     "name": "stdout",
     "output_type": "stream",
     "text": [
      "2409\r"
     ]
    },
    {
     "name": "stdout",
     "output_type": "stream",
     "text": [
      "2410\r"
     ]
    },
    {
     "name": "stdout",
     "output_type": "stream",
     "text": [
      "2411\r"
     ]
    },
    {
     "name": "stdout",
     "output_type": "stream",
     "text": [
      "2412\r"
     ]
    },
    {
     "name": "stdout",
     "output_type": "stream",
     "text": [
      "2413\r"
     ]
    },
    {
     "name": "stdout",
     "output_type": "stream",
     "text": [
      "2414\r"
     ]
    },
    {
     "name": "stdout",
     "output_type": "stream",
     "text": [
      "2415\r"
     ]
    },
    {
     "name": "stdout",
     "output_type": "stream",
     "text": [
      "2416\r"
     ]
    },
    {
     "name": "stdout",
     "output_type": "stream",
     "text": [
      "2417\r"
     ]
    },
    {
     "name": "stdout",
     "output_type": "stream",
     "text": [
      "2418\r"
     ]
    },
    {
     "name": "stdout",
     "output_type": "stream",
     "text": [
      "2419\r"
     ]
    },
    {
     "name": "stdout",
     "output_type": "stream",
     "text": [
      "2420\r"
     ]
    },
    {
     "name": "stdout",
     "output_type": "stream",
     "text": [
      "2421\r"
     ]
    },
    {
     "name": "stdout",
     "output_type": "stream",
     "text": [
      "2422\r"
     ]
    },
    {
     "name": "stdout",
     "output_type": "stream",
     "text": [
      "2423\r"
     ]
    },
    {
     "name": "stdout",
     "output_type": "stream",
     "text": [
      "2424\r"
     ]
    },
    {
     "name": "stdout",
     "output_type": "stream",
     "text": [
      "2425\r"
     ]
    },
    {
     "name": "stdout",
     "output_type": "stream",
     "text": [
      "2426\r"
     ]
    },
    {
     "name": "stdout",
     "output_type": "stream",
     "text": [
      "2427\r"
     ]
    },
    {
     "name": "stdout",
     "output_type": "stream",
     "text": [
      "2428\r"
     ]
    },
    {
     "name": "stdout",
     "output_type": "stream",
     "text": [
      "2429\r"
     ]
    },
    {
     "name": "stdout",
     "output_type": "stream",
     "text": [
      "2430\r"
     ]
    },
    {
     "name": "stdout",
     "output_type": "stream",
     "text": [
      "2431\r"
     ]
    },
    {
     "name": "stdout",
     "output_type": "stream",
     "text": [
      "2432\r"
     ]
    },
    {
     "name": "stdout",
     "output_type": "stream",
     "text": [
      "2433\r"
     ]
    },
    {
     "name": "stdout",
     "output_type": "stream",
     "text": [
      "2434\r"
     ]
    },
    {
     "name": "stdout",
     "output_type": "stream",
     "text": [
      "2435\r"
     ]
    },
    {
     "name": "stdout",
     "output_type": "stream",
     "text": [
      "2436\r"
     ]
    },
    {
     "name": "stdout",
     "output_type": "stream",
     "text": [
      "2437\r"
     ]
    },
    {
     "name": "stdout",
     "output_type": "stream",
     "text": [
      "2438\r"
     ]
    },
    {
     "name": "stdout",
     "output_type": "stream",
     "text": [
      "2439\r"
     ]
    },
    {
     "name": "stdout",
     "output_type": "stream",
     "text": [
      "2440\r"
     ]
    },
    {
     "name": "stdout",
     "output_type": "stream",
     "text": [
      "2441\r"
     ]
    },
    {
     "name": "stdout",
     "output_type": "stream",
     "text": [
      "2442\r"
     ]
    },
    {
     "name": "stdout",
     "output_type": "stream",
     "text": [
      "2443\r"
     ]
    },
    {
     "name": "stdout",
     "output_type": "stream",
     "text": [
      "2444\r"
     ]
    },
    {
     "name": "stdout",
     "output_type": "stream",
     "text": [
      "2445\r"
     ]
    },
    {
     "name": "stdout",
     "output_type": "stream",
     "text": [
      "2446\r"
     ]
    },
    {
     "name": "stdout",
     "output_type": "stream",
     "text": [
      "2447\r"
     ]
    },
    {
     "name": "stdout",
     "output_type": "stream",
     "text": [
      "2448\r"
     ]
    },
    {
     "name": "stdout",
     "output_type": "stream",
     "text": [
      "2449\r"
     ]
    },
    {
     "name": "stdout",
     "output_type": "stream",
     "text": [
      "2450\r"
     ]
    },
    {
     "name": "stdout",
     "output_type": "stream",
     "text": [
      "2451\r"
     ]
    },
    {
     "name": "stdout",
     "output_type": "stream",
     "text": [
      "2452\r"
     ]
    },
    {
     "name": "stdout",
     "output_type": "stream",
     "text": [
      "2453\r"
     ]
    },
    {
     "name": "stdout",
     "output_type": "stream",
     "text": [
      "2454\r"
     ]
    },
    {
     "name": "stdout",
     "output_type": "stream",
     "text": [
      "2455\r"
     ]
    },
    {
     "name": "stdout",
     "output_type": "stream",
     "text": [
      "2456\r"
     ]
    },
    {
     "name": "stdout",
     "output_type": "stream",
     "text": [
      "2457\r"
     ]
    },
    {
     "name": "stdout",
     "output_type": "stream",
     "text": [
      "2458\r"
     ]
    },
    {
     "name": "stdout",
     "output_type": "stream",
     "text": [
      "2459\r"
     ]
    },
    {
     "name": "stdout",
     "output_type": "stream",
     "text": [
      "2460\r"
     ]
    },
    {
     "name": "stdout",
     "output_type": "stream",
     "text": [
      "2461\r"
     ]
    },
    {
     "name": "stdout",
     "output_type": "stream",
     "text": [
      "2462\r"
     ]
    },
    {
     "name": "stdout",
     "output_type": "stream",
     "text": [
      "2463\r"
     ]
    },
    {
     "name": "stdout",
     "output_type": "stream",
     "text": [
      "2464\r"
     ]
    },
    {
     "name": "stdout",
     "output_type": "stream",
     "text": [
      "2465\r"
     ]
    },
    {
     "name": "stdout",
     "output_type": "stream",
     "text": [
      "2466\r"
     ]
    },
    {
     "name": "stdout",
     "output_type": "stream",
     "text": [
      "2467\r"
     ]
    },
    {
     "name": "stdout",
     "output_type": "stream",
     "text": [
      "2468\r"
     ]
    },
    {
     "name": "stdout",
     "output_type": "stream",
     "text": [
      "2469\r"
     ]
    },
    {
     "name": "stdout",
     "output_type": "stream",
     "text": [
      "2470\r"
     ]
    },
    {
     "name": "stdout",
     "output_type": "stream",
     "text": [
      "2471\r"
     ]
    },
    {
     "name": "stdout",
     "output_type": "stream",
     "text": [
      "2472\r"
     ]
    },
    {
     "name": "stdout",
     "output_type": "stream",
     "text": [
      "2473\r"
     ]
    },
    {
     "name": "stdout",
     "output_type": "stream",
     "text": [
      "2474\r"
     ]
    },
    {
     "name": "stdout",
     "output_type": "stream",
     "text": [
      "2475\r"
     ]
    },
    {
     "name": "stdout",
     "output_type": "stream",
     "text": [
      "2476\r"
     ]
    },
    {
     "name": "stdout",
     "output_type": "stream",
     "text": [
      "2477\r"
     ]
    },
    {
     "name": "stdout",
     "output_type": "stream",
     "text": [
      "2478\r"
     ]
    },
    {
     "name": "stdout",
     "output_type": "stream",
     "text": [
      "2479\r"
     ]
    },
    {
     "name": "stdout",
     "output_type": "stream",
     "text": [
      "2480\r"
     ]
    },
    {
     "name": "stdout",
     "output_type": "stream",
     "text": [
      "2481\r"
     ]
    },
    {
     "name": "stdout",
     "output_type": "stream",
     "text": [
      "2482\r"
     ]
    },
    {
     "name": "stdout",
     "output_type": "stream",
     "text": [
      "2483\r"
     ]
    },
    {
     "name": "stdout",
     "output_type": "stream",
     "text": [
      "2484\r"
     ]
    },
    {
     "name": "stdout",
     "output_type": "stream",
     "text": [
      "2485\r"
     ]
    },
    {
     "name": "stdout",
     "output_type": "stream",
     "text": [
      "2486\r"
     ]
    },
    {
     "name": "stdout",
     "output_type": "stream",
     "text": [
      "2487\r"
     ]
    },
    {
     "name": "stdout",
     "output_type": "stream",
     "text": [
      "2488\r"
     ]
    },
    {
     "name": "stdout",
     "output_type": "stream",
     "text": [
      "2489\r"
     ]
    },
    {
     "name": "stdout",
     "output_type": "stream",
     "text": [
      "2490\r"
     ]
    },
    {
     "name": "stdout",
     "output_type": "stream",
     "text": [
      "2491\r"
     ]
    },
    {
     "name": "stdout",
     "output_type": "stream",
     "text": [
      "2492\r"
     ]
    },
    {
     "name": "stdout",
     "output_type": "stream",
     "text": [
      "2493\r"
     ]
    },
    {
     "name": "stdout",
     "output_type": "stream",
     "text": [
      "2494\r"
     ]
    },
    {
     "name": "stdout",
     "output_type": "stream",
     "text": [
      "2495\r"
     ]
    },
    {
     "name": "stdout",
     "output_type": "stream",
     "text": [
      "2496\r"
     ]
    },
    {
     "name": "stdout",
     "output_type": "stream",
     "text": [
      "2497\r"
     ]
    },
    {
     "name": "stdout",
     "output_type": "stream",
     "text": [
      "2498\r"
     ]
    },
    {
     "name": "stdout",
     "output_type": "stream",
     "text": [
      "2499\r"
     ]
    },
    {
     "name": "stdout",
     "output_type": "stream",
     "text": [
      "2500\r"
     ]
    },
    {
     "name": "stdout",
     "output_type": "stream",
     "text": [
      "2501\r"
     ]
    },
    {
     "name": "stdout",
     "output_type": "stream",
     "text": [
      "2502\r"
     ]
    },
    {
     "name": "stdout",
     "output_type": "stream",
     "text": [
      "2503\r"
     ]
    },
    {
     "name": "stdout",
     "output_type": "stream",
     "text": [
      "2504\r"
     ]
    },
    {
     "name": "stdout",
     "output_type": "stream",
     "text": [
      "2505\r"
     ]
    },
    {
     "name": "stdout",
     "output_type": "stream",
     "text": [
      "2506\r"
     ]
    },
    {
     "name": "stdout",
     "output_type": "stream",
     "text": [
      "2507\r"
     ]
    },
    {
     "name": "stdout",
     "output_type": "stream",
     "text": [
      "2508\r"
     ]
    },
    {
     "name": "stdout",
     "output_type": "stream",
     "text": [
      "2509\r"
     ]
    },
    {
     "name": "stdout",
     "output_type": "stream",
     "text": [
      "2510\r"
     ]
    },
    {
     "name": "stdout",
     "output_type": "stream",
     "text": [
      "2511\r"
     ]
    },
    {
     "name": "stdout",
     "output_type": "stream",
     "text": [
      "2512\r"
     ]
    },
    {
     "name": "stdout",
     "output_type": "stream",
     "text": [
      "2513\r"
     ]
    },
    {
     "name": "stdout",
     "output_type": "stream",
     "text": [
      "2514\r"
     ]
    },
    {
     "name": "stdout",
     "output_type": "stream",
     "text": [
      "2515\r"
     ]
    },
    {
     "name": "stdout",
     "output_type": "stream",
     "text": [
      "2516\r"
     ]
    },
    {
     "name": "stdout",
     "output_type": "stream",
     "text": [
      "2517\r"
     ]
    },
    {
     "name": "stdout",
     "output_type": "stream",
     "text": [
      "2518\r"
     ]
    },
    {
     "name": "stdout",
     "output_type": "stream",
     "text": [
      "2519\r"
     ]
    },
    {
     "name": "stdout",
     "output_type": "stream",
     "text": [
      "2520\r"
     ]
    },
    {
     "name": "stdout",
     "output_type": "stream",
     "text": [
      "2521\r"
     ]
    },
    {
     "name": "stdout",
     "output_type": "stream",
     "text": [
      "2522\r"
     ]
    },
    {
     "name": "stdout",
     "output_type": "stream",
     "text": [
      "2523\r"
     ]
    },
    {
     "name": "stdout",
     "output_type": "stream",
     "text": [
      "2524\r"
     ]
    },
    {
     "name": "stdout",
     "output_type": "stream",
     "text": [
      "2525\r"
     ]
    },
    {
     "name": "stdout",
     "output_type": "stream",
     "text": [
      "2526\r"
     ]
    },
    {
     "name": "stdout",
     "output_type": "stream",
     "text": [
      "2527\r"
     ]
    },
    {
     "name": "stdout",
     "output_type": "stream",
     "text": [
      "2528\r"
     ]
    },
    {
     "name": "stdout",
     "output_type": "stream",
     "text": [
      "2529\r"
     ]
    },
    {
     "name": "stdout",
     "output_type": "stream",
     "text": [
      "2530\r"
     ]
    },
    {
     "name": "stdout",
     "output_type": "stream",
     "text": [
      "2531\r"
     ]
    },
    {
     "name": "stdout",
     "output_type": "stream",
     "text": [
      "2532\r"
     ]
    },
    {
     "name": "stdout",
     "output_type": "stream",
     "text": [
      "2533\r"
     ]
    },
    {
     "name": "stdout",
     "output_type": "stream",
     "text": [
      "2534\r"
     ]
    },
    {
     "name": "stdout",
     "output_type": "stream",
     "text": [
      "2535\r"
     ]
    },
    {
     "name": "stdout",
     "output_type": "stream",
     "text": [
      "2536\r"
     ]
    },
    {
     "name": "stdout",
     "output_type": "stream",
     "text": [
      "2537\r"
     ]
    },
    {
     "name": "stdout",
     "output_type": "stream",
     "text": [
      "2538\r"
     ]
    },
    {
     "name": "stdout",
     "output_type": "stream",
     "text": [
      "2539\r"
     ]
    },
    {
     "name": "stdout",
     "output_type": "stream",
     "text": [
      "2540\r"
     ]
    },
    {
     "name": "stdout",
     "output_type": "stream",
     "text": [
      "2541\r"
     ]
    },
    {
     "name": "stdout",
     "output_type": "stream",
     "text": [
      "2542\r"
     ]
    },
    {
     "name": "stdout",
     "output_type": "stream",
     "text": [
      "2543\r"
     ]
    },
    {
     "name": "stdout",
     "output_type": "stream",
     "text": [
      "2544\r"
     ]
    },
    {
     "name": "stdout",
     "output_type": "stream",
     "text": [
      "2545\r"
     ]
    },
    {
     "name": "stdout",
     "output_type": "stream",
     "text": [
      "2546\r"
     ]
    },
    {
     "name": "stdout",
     "output_type": "stream",
     "text": [
      "2547\r"
     ]
    },
    {
     "name": "stdout",
     "output_type": "stream",
     "text": [
      "2548\r"
     ]
    },
    {
     "name": "stdout",
     "output_type": "stream",
     "text": [
      "2549\r"
     ]
    },
    {
     "name": "stdout",
     "output_type": "stream",
     "text": [
      "2550\r"
     ]
    },
    {
     "name": "stdout",
     "output_type": "stream",
     "text": [
      "2551\r"
     ]
    },
    {
     "name": "stdout",
     "output_type": "stream",
     "text": [
      "2552\r"
     ]
    },
    {
     "name": "stdout",
     "output_type": "stream",
     "text": [
      "2553\r"
     ]
    },
    {
     "name": "stdout",
     "output_type": "stream",
     "text": [
      "2554\r"
     ]
    },
    {
     "name": "stdout",
     "output_type": "stream",
     "text": [
      "2555\r"
     ]
    },
    {
     "name": "stdout",
     "output_type": "stream",
     "text": [
      "2556\r"
     ]
    },
    {
     "name": "stdout",
     "output_type": "stream",
     "text": [
      "2557\r"
     ]
    },
    {
     "name": "stdout",
     "output_type": "stream",
     "text": [
      "2558\r"
     ]
    },
    {
     "name": "stdout",
     "output_type": "stream",
     "text": [
      "2559\r"
     ]
    },
    {
     "name": "stdout",
     "output_type": "stream",
     "text": [
      "2560\r"
     ]
    },
    {
     "name": "stdout",
     "output_type": "stream",
     "text": [
      "2561\r"
     ]
    },
    {
     "name": "stdout",
     "output_type": "stream",
     "text": [
      "2562\r"
     ]
    },
    {
     "name": "stdout",
     "output_type": "stream",
     "text": [
      "2563\r"
     ]
    },
    {
     "name": "stdout",
     "output_type": "stream",
     "text": [
      "2564\r"
     ]
    },
    {
     "name": "stdout",
     "output_type": "stream",
     "text": [
      "2565\r"
     ]
    },
    {
     "name": "stdout",
     "output_type": "stream",
     "text": [
      "2566\r"
     ]
    },
    {
     "name": "stdout",
     "output_type": "stream",
     "text": [
      "2567\r"
     ]
    },
    {
     "name": "stdout",
     "output_type": "stream",
     "text": [
      "2568\r"
     ]
    },
    {
     "name": "stdout",
     "output_type": "stream",
     "text": [
      "2569\r"
     ]
    },
    {
     "name": "stdout",
     "output_type": "stream",
     "text": [
      "2570\r"
     ]
    },
    {
     "name": "stdout",
     "output_type": "stream",
     "text": [
      "2571\r"
     ]
    },
    {
     "name": "stdout",
     "output_type": "stream",
     "text": [
      "2572\r"
     ]
    },
    {
     "name": "stdout",
     "output_type": "stream",
     "text": [
      "2573\r"
     ]
    },
    {
     "name": "stdout",
     "output_type": "stream",
     "text": [
      "2574\r"
     ]
    },
    {
     "name": "stdout",
     "output_type": "stream",
     "text": [
      "2575\r"
     ]
    },
    {
     "name": "stdout",
     "output_type": "stream",
     "text": [
      "2576\r"
     ]
    },
    {
     "name": "stdout",
     "output_type": "stream",
     "text": [
      "2577\r"
     ]
    },
    {
     "name": "stdout",
     "output_type": "stream",
     "text": [
      "2578\r"
     ]
    },
    {
     "name": "stdout",
     "output_type": "stream",
     "text": [
      "2579\r"
     ]
    },
    {
     "name": "stdout",
     "output_type": "stream",
     "text": [
      "2580\r"
     ]
    },
    {
     "name": "stdout",
     "output_type": "stream",
     "text": [
      "2581\r"
     ]
    },
    {
     "name": "stdout",
     "output_type": "stream",
     "text": [
      "2582\r"
     ]
    },
    {
     "name": "stdout",
     "output_type": "stream",
     "text": [
      "2583\r"
     ]
    },
    {
     "name": "stdout",
     "output_type": "stream",
     "text": [
      "2584\r"
     ]
    },
    {
     "name": "stdout",
     "output_type": "stream",
     "text": [
      "2585\r"
     ]
    },
    {
     "name": "stdout",
     "output_type": "stream",
     "text": [
      "2586\r"
     ]
    },
    {
     "name": "stdout",
     "output_type": "stream",
     "text": [
      "2587\r"
     ]
    },
    {
     "name": "stdout",
     "output_type": "stream",
     "text": [
      "2588\r"
     ]
    },
    {
     "name": "stdout",
     "output_type": "stream",
     "text": [
      "2589\r"
     ]
    },
    {
     "name": "stdout",
     "output_type": "stream",
     "text": [
      "2590\r"
     ]
    },
    {
     "name": "stdout",
     "output_type": "stream",
     "text": [
      "2591\r"
     ]
    },
    {
     "name": "stdout",
     "output_type": "stream",
     "text": [
      "2592\r"
     ]
    },
    {
     "name": "stdout",
     "output_type": "stream",
     "text": [
      "2593\r"
     ]
    },
    {
     "name": "stdout",
     "output_type": "stream",
     "text": [
      "2594\r"
     ]
    },
    {
     "name": "stdout",
     "output_type": "stream",
     "text": [
      "2595\r"
     ]
    },
    {
     "name": "stdout",
     "output_type": "stream",
     "text": [
      "2596\r"
     ]
    },
    {
     "name": "stdout",
     "output_type": "stream",
     "text": [
      "2597\r"
     ]
    },
    {
     "name": "stdout",
     "output_type": "stream",
     "text": [
      "2598\r"
     ]
    },
    {
     "name": "stdout",
     "output_type": "stream",
     "text": [
      "2599\r"
     ]
    },
    {
     "name": "stdout",
     "output_type": "stream",
     "text": [
      "2600\r"
     ]
    },
    {
     "name": "stdout",
     "output_type": "stream",
     "text": [
      "2601\r"
     ]
    },
    {
     "name": "stdout",
     "output_type": "stream",
     "text": [
      "2602\r"
     ]
    },
    {
     "name": "stdout",
     "output_type": "stream",
     "text": [
      "2603\r"
     ]
    },
    {
     "name": "stdout",
     "output_type": "stream",
     "text": [
      "2604\r"
     ]
    },
    {
     "name": "stdout",
     "output_type": "stream",
     "text": [
      "2605\r"
     ]
    },
    {
     "name": "stdout",
     "output_type": "stream",
     "text": [
      "2606\r"
     ]
    },
    {
     "name": "stdout",
     "output_type": "stream",
     "text": [
      "2607\r"
     ]
    },
    {
     "name": "stdout",
     "output_type": "stream",
     "text": [
      "2608\r"
     ]
    },
    {
     "name": "stdout",
     "output_type": "stream",
     "text": [
      "2609\r"
     ]
    },
    {
     "name": "stdout",
     "output_type": "stream",
     "text": [
      "2610\r"
     ]
    },
    {
     "name": "stdout",
     "output_type": "stream",
     "text": [
      "2611\r"
     ]
    },
    {
     "name": "stdout",
     "output_type": "stream",
     "text": [
      "2612\r"
     ]
    },
    {
     "name": "stdout",
     "output_type": "stream",
     "text": [
      "2613\r"
     ]
    },
    {
     "name": "stdout",
     "output_type": "stream",
     "text": [
      "2614\r"
     ]
    },
    {
     "name": "stdout",
     "output_type": "stream",
     "text": [
      "2615\r"
     ]
    },
    {
     "name": "stdout",
     "output_type": "stream",
     "text": [
      "2616\r"
     ]
    },
    {
     "name": "stdout",
     "output_type": "stream",
     "text": [
      "2617\r"
     ]
    },
    {
     "name": "stdout",
     "output_type": "stream",
     "text": [
      "2618\r"
     ]
    },
    {
     "name": "stdout",
     "output_type": "stream",
     "text": [
      "2619\r"
     ]
    },
    {
     "name": "stdout",
     "output_type": "stream",
     "text": [
      "2620\r"
     ]
    },
    {
     "name": "stdout",
     "output_type": "stream",
     "text": [
      "2621\r"
     ]
    },
    {
     "name": "stdout",
     "output_type": "stream",
     "text": [
      "2622\r"
     ]
    },
    {
     "name": "stdout",
     "output_type": "stream",
     "text": [
      "2623\r"
     ]
    },
    {
     "name": "stdout",
     "output_type": "stream",
     "text": [
      "2624\r"
     ]
    },
    {
     "name": "stdout",
     "output_type": "stream",
     "text": [
      "2625\r"
     ]
    },
    {
     "name": "stdout",
     "output_type": "stream",
     "text": [
      "2626\r"
     ]
    },
    {
     "name": "stdout",
     "output_type": "stream",
     "text": [
      "2627\r"
     ]
    },
    {
     "name": "stdout",
     "output_type": "stream",
     "text": [
      "2628\r"
     ]
    },
    {
     "name": "stdout",
     "output_type": "stream",
     "text": [
      "2629\r"
     ]
    },
    {
     "name": "stdout",
     "output_type": "stream",
     "text": [
      "2630\r"
     ]
    },
    {
     "name": "stdout",
     "output_type": "stream",
     "text": [
      "2631\r"
     ]
    },
    {
     "name": "stdout",
     "output_type": "stream",
     "text": [
      "2632\r"
     ]
    },
    {
     "name": "stdout",
     "output_type": "stream",
     "text": [
      "2633\r"
     ]
    },
    {
     "name": "stdout",
     "output_type": "stream",
     "text": [
      "2634\r"
     ]
    },
    {
     "name": "stdout",
     "output_type": "stream",
     "text": [
      "2635\r"
     ]
    },
    {
     "name": "stdout",
     "output_type": "stream",
     "text": [
      "2636\r"
     ]
    },
    {
     "name": "stdout",
     "output_type": "stream",
     "text": [
      "2637\r"
     ]
    },
    {
     "name": "stdout",
     "output_type": "stream",
     "text": [
      "2638\r"
     ]
    },
    {
     "name": "stdout",
     "output_type": "stream",
     "text": [
      "2639\r"
     ]
    },
    {
     "name": "stdout",
     "output_type": "stream",
     "text": [
      "2640\r"
     ]
    },
    {
     "name": "stdout",
     "output_type": "stream",
     "text": [
      "2641\r"
     ]
    },
    {
     "name": "stdout",
     "output_type": "stream",
     "text": [
      "2642\r"
     ]
    },
    {
     "name": "stdout",
     "output_type": "stream",
     "text": [
      "2643\r"
     ]
    },
    {
     "name": "stdout",
     "output_type": "stream",
     "text": [
      "2644\r"
     ]
    },
    {
     "name": "stdout",
     "output_type": "stream",
     "text": [
      "2645\r"
     ]
    },
    {
     "name": "stdout",
     "output_type": "stream",
     "text": [
      "2646\r"
     ]
    },
    {
     "name": "stdout",
     "output_type": "stream",
     "text": [
      "2647\r"
     ]
    },
    {
     "name": "stdout",
     "output_type": "stream",
     "text": [
      "2648\r"
     ]
    },
    {
     "name": "stdout",
     "output_type": "stream",
     "text": [
      "2649\r"
     ]
    },
    {
     "name": "stdout",
     "output_type": "stream",
     "text": [
      "2650\r"
     ]
    },
    {
     "name": "stdout",
     "output_type": "stream",
     "text": [
      "2651\r"
     ]
    },
    {
     "name": "stdout",
     "output_type": "stream",
     "text": [
      "2652\r"
     ]
    },
    {
     "name": "stdout",
     "output_type": "stream",
     "text": [
      "2653\r"
     ]
    },
    {
     "name": "stdout",
     "output_type": "stream",
     "text": [
      "2654\r"
     ]
    },
    {
     "name": "stdout",
     "output_type": "stream",
     "text": [
      "2655\r"
     ]
    },
    {
     "name": "stdout",
     "output_type": "stream",
     "text": [
      "2656\r"
     ]
    },
    {
     "name": "stdout",
     "output_type": "stream",
     "text": [
      "2657\r"
     ]
    },
    {
     "name": "stdout",
     "output_type": "stream",
     "text": [
      "2658\r"
     ]
    },
    {
     "name": "stdout",
     "output_type": "stream",
     "text": [
      "2659\r"
     ]
    },
    {
     "name": "stdout",
     "output_type": "stream",
     "text": [
      "2660\r"
     ]
    },
    {
     "name": "stdout",
     "output_type": "stream",
     "text": [
      "2661\r"
     ]
    },
    {
     "name": "stdout",
     "output_type": "stream",
     "text": [
      "2662\r"
     ]
    },
    {
     "name": "stdout",
     "output_type": "stream",
     "text": [
      "2663\r"
     ]
    },
    {
     "name": "stdout",
     "output_type": "stream",
     "text": [
      "2664\r"
     ]
    },
    {
     "name": "stdout",
     "output_type": "stream",
     "text": [
      "2665\r"
     ]
    },
    {
     "name": "stdout",
     "output_type": "stream",
     "text": [
      "2666\r"
     ]
    },
    {
     "name": "stdout",
     "output_type": "stream",
     "text": [
      "2667\r"
     ]
    },
    {
     "name": "stdout",
     "output_type": "stream",
     "text": [
      "2668\r"
     ]
    },
    {
     "name": "stdout",
     "output_type": "stream",
     "text": [
      "2669\r"
     ]
    },
    {
     "name": "stdout",
     "output_type": "stream",
     "text": [
      "2670\r"
     ]
    },
    {
     "name": "stdout",
     "output_type": "stream",
     "text": [
      "2671\r"
     ]
    },
    {
     "name": "stdout",
     "output_type": "stream",
     "text": [
      "2672\r"
     ]
    },
    {
     "name": "stdout",
     "output_type": "stream",
     "text": [
      "2673\r"
     ]
    },
    {
     "name": "stdout",
     "output_type": "stream",
     "text": [
      "2674\r"
     ]
    },
    {
     "name": "stdout",
     "output_type": "stream",
     "text": [
      "2675\r"
     ]
    },
    {
     "name": "stdout",
     "output_type": "stream",
     "text": [
      "2676\r"
     ]
    },
    {
     "name": "stdout",
     "output_type": "stream",
     "text": [
      "2677\r"
     ]
    },
    {
     "name": "stdout",
     "output_type": "stream",
     "text": [
      "2678\r"
     ]
    },
    {
     "name": "stdout",
     "output_type": "stream",
     "text": [
      "2679\r"
     ]
    },
    {
     "name": "stdout",
     "output_type": "stream",
     "text": [
      "2680\r"
     ]
    },
    {
     "name": "stdout",
     "output_type": "stream",
     "text": [
      "2681\r"
     ]
    },
    {
     "name": "stdout",
     "output_type": "stream",
     "text": [
      "2682\r"
     ]
    },
    {
     "name": "stdout",
     "output_type": "stream",
     "text": [
      "2683\r"
     ]
    },
    {
     "name": "stdout",
     "output_type": "stream",
     "text": [
      "2684\r"
     ]
    },
    {
     "name": "stdout",
     "output_type": "stream",
     "text": [
      "2685\r"
     ]
    },
    {
     "name": "stdout",
     "output_type": "stream",
     "text": [
      "2686\r"
     ]
    },
    {
     "name": "stdout",
     "output_type": "stream",
     "text": [
      "2687\r"
     ]
    },
    {
     "name": "stdout",
     "output_type": "stream",
     "text": [
      "2688\r"
     ]
    },
    {
     "name": "stdout",
     "output_type": "stream",
     "text": [
      "2689\r"
     ]
    },
    {
     "name": "stdout",
     "output_type": "stream",
     "text": [
      "2690\r"
     ]
    },
    {
     "name": "stdout",
     "output_type": "stream",
     "text": [
      "2691\r"
     ]
    },
    {
     "name": "stdout",
     "output_type": "stream",
     "text": [
      "2692\r"
     ]
    },
    {
     "name": "stdout",
     "output_type": "stream",
     "text": [
      "2693\r"
     ]
    },
    {
     "name": "stdout",
     "output_type": "stream",
     "text": [
      "2694\r"
     ]
    },
    {
     "name": "stdout",
     "output_type": "stream",
     "text": [
      "2695\r"
     ]
    },
    {
     "name": "stdout",
     "output_type": "stream",
     "text": [
      "2696\r"
     ]
    },
    {
     "name": "stdout",
     "output_type": "stream",
     "text": [
      "2697\r"
     ]
    },
    {
     "name": "stdout",
     "output_type": "stream",
     "text": [
      "2698\r"
     ]
    },
    {
     "name": "stdout",
     "output_type": "stream",
     "text": [
      "2699\r"
     ]
    },
    {
     "name": "stdout",
     "output_type": "stream",
     "text": [
      "2700\r"
     ]
    },
    {
     "name": "stdout",
     "output_type": "stream",
     "text": [
      "2701\r"
     ]
    },
    {
     "name": "stdout",
     "output_type": "stream",
     "text": [
      "2702\r"
     ]
    },
    {
     "name": "stdout",
     "output_type": "stream",
     "text": [
      "2703\r"
     ]
    },
    {
     "name": "stdout",
     "output_type": "stream",
     "text": [
      "2704\r"
     ]
    },
    {
     "name": "stdout",
     "output_type": "stream",
     "text": [
      "2705\r"
     ]
    },
    {
     "name": "stdout",
     "output_type": "stream",
     "text": [
      "2706\r"
     ]
    },
    {
     "name": "stdout",
     "output_type": "stream",
     "text": [
      "2707\r"
     ]
    },
    {
     "name": "stdout",
     "output_type": "stream",
     "text": [
      "2708\r"
     ]
    },
    {
     "name": "stdout",
     "output_type": "stream",
     "text": [
      "2709\r"
     ]
    },
    {
     "name": "stdout",
     "output_type": "stream",
     "text": [
      "2710\r"
     ]
    },
    {
     "name": "stdout",
     "output_type": "stream",
     "text": [
      "2711\r"
     ]
    },
    {
     "name": "stdout",
     "output_type": "stream",
     "text": [
      "2712\r"
     ]
    },
    {
     "name": "stdout",
     "output_type": "stream",
     "text": [
      "2713\r"
     ]
    },
    {
     "name": "stdout",
     "output_type": "stream",
     "text": [
      "2714\r"
     ]
    },
    {
     "name": "stdout",
     "output_type": "stream",
     "text": [
      "2715\r"
     ]
    },
    {
     "name": "stdout",
     "output_type": "stream",
     "text": [
      "2716\r"
     ]
    },
    {
     "name": "stdout",
     "output_type": "stream",
     "text": [
      "2717\r"
     ]
    },
    {
     "name": "stdout",
     "output_type": "stream",
     "text": [
      "2718\r"
     ]
    },
    {
     "name": "stdout",
     "output_type": "stream",
     "text": [
      "2719\r"
     ]
    },
    {
     "name": "stdout",
     "output_type": "stream",
     "text": [
      "2720\r"
     ]
    },
    {
     "name": "stdout",
     "output_type": "stream",
     "text": [
      "2721\r"
     ]
    },
    {
     "name": "stdout",
     "output_type": "stream",
     "text": [
      "2722\r"
     ]
    },
    {
     "name": "stdout",
     "output_type": "stream",
     "text": [
      "2723\r"
     ]
    },
    {
     "name": "stdout",
     "output_type": "stream",
     "text": [
      "2724\r"
     ]
    },
    {
     "name": "stdout",
     "output_type": "stream",
     "text": [
      "2725\r"
     ]
    },
    {
     "name": "stdout",
     "output_type": "stream",
     "text": [
      "2726\r"
     ]
    },
    {
     "name": "stdout",
     "output_type": "stream",
     "text": [
      "2727\r"
     ]
    },
    {
     "name": "stdout",
     "output_type": "stream",
     "text": [
      "2728\r"
     ]
    },
    {
     "name": "stdout",
     "output_type": "stream",
     "text": [
      "2729\r"
     ]
    },
    {
     "name": "stdout",
     "output_type": "stream",
     "text": [
      "2730\r"
     ]
    },
    {
     "name": "stdout",
     "output_type": "stream",
     "text": [
      "2731\r"
     ]
    },
    {
     "name": "stdout",
     "output_type": "stream",
     "text": [
      "2732\r"
     ]
    },
    {
     "name": "stdout",
     "output_type": "stream",
     "text": [
      "2733\r"
     ]
    },
    {
     "name": "stdout",
     "output_type": "stream",
     "text": [
      "2734\r"
     ]
    },
    {
     "name": "stdout",
     "output_type": "stream",
     "text": [
      "2735\r"
     ]
    },
    {
     "name": "stdout",
     "output_type": "stream",
     "text": [
      "2736\r"
     ]
    },
    {
     "name": "stdout",
     "output_type": "stream",
     "text": [
      "2737\r"
     ]
    },
    {
     "name": "stdout",
     "output_type": "stream",
     "text": [
      "2738\r"
     ]
    },
    {
     "name": "stdout",
     "output_type": "stream",
     "text": [
      "2739\r"
     ]
    },
    {
     "name": "stdout",
     "output_type": "stream",
     "text": [
      "2740\r"
     ]
    },
    {
     "name": "stdout",
     "output_type": "stream",
     "text": [
      "2741\r"
     ]
    },
    {
     "name": "stdout",
     "output_type": "stream",
     "text": [
      "2742\r"
     ]
    },
    {
     "name": "stdout",
     "output_type": "stream",
     "text": [
      "2743\r"
     ]
    },
    {
     "name": "stdout",
     "output_type": "stream",
     "text": [
      "2744\r"
     ]
    },
    {
     "name": "stdout",
     "output_type": "stream",
     "text": [
      "2745\r"
     ]
    },
    {
     "name": "stdout",
     "output_type": "stream",
     "text": [
      "2746\r"
     ]
    },
    {
     "name": "stdout",
     "output_type": "stream",
     "text": [
      "2747\r"
     ]
    },
    {
     "name": "stdout",
     "output_type": "stream",
     "text": [
      "2748\r"
     ]
    },
    {
     "name": "stdout",
     "output_type": "stream",
     "text": [
      "2749\r"
     ]
    },
    {
     "name": "stdout",
     "output_type": "stream",
     "text": [
      "2750\r"
     ]
    },
    {
     "name": "stdout",
     "output_type": "stream",
     "text": [
      "2751\r"
     ]
    },
    {
     "name": "stdout",
     "output_type": "stream",
     "text": [
      "2752\r"
     ]
    },
    {
     "name": "stdout",
     "output_type": "stream",
     "text": [
      "2753\r"
     ]
    },
    {
     "name": "stdout",
     "output_type": "stream",
     "text": [
      "2754\r"
     ]
    },
    {
     "name": "stdout",
     "output_type": "stream",
     "text": [
      "2755\r"
     ]
    },
    {
     "name": "stdout",
     "output_type": "stream",
     "text": [
      "2756\r"
     ]
    },
    {
     "name": "stdout",
     "output_type": "stream",
     "text": [
      "2757\r"
     ]
    },
    {
     "name": "stdout",
     "output_type": "stream",
     "text": [
      "2758\r"
     ]
    },
    {
     "name": "stdout",
     "output_type": "stream",
     "text": [
      "2759\r"
     ]
    },
    {
     "name": "stdout",
     "output_type": "stream",
     "text": [
      "2760\r"
     ]
    },
    {
     "name": "stdout",
     "output_type": "stream",
     "text": [
      "2761\r"
     ]
    },
    {
     "name": "stdout",
     "output_type": "stream",
     "text": [
      "2762\r"
     ]
    },
    {
     "name": "stdout",
     "output_type": "stream",
     "text": [
      "2763\r"
     ]
    },
    {
     "name": "stdout",
     "output_type": "stream",
     "text": [
      "2764\r"
     ]
    },
    {
     "name": "stdout",
     "output_type": "stream",
     "text": [
      "2765\r"
     ]
    },
    {
     "name": "stdout",
     "output_type": "stream",
     "text": [
      "2766\r"
     ]
    },
    {
     "name": "stdout",
     "output_type": "stream",
     "text": [
      "2767\r"
     ]
    },
    {
     "name": "stdout",
     "output_type": "stream",
     "text": [
      "2768\r"
     ]
    },
    {
     "name": "stdout",
     "output_type": "stream",
     "text": [
      "2769\r"
     ]
    },
    {
     "name": "stdout",
     "output_type": "stream",
     "text": [
      "2770\r"
     ]
    },
    {
     "name": "stdout",
     "output_type": "stream",
     "text": [
      "2771\r"
     ]
    },
    {
     "name": "stdout",
     "output_type": "stream",
     "text": [
      "2772\r"
     ]
    },
    {
     "name": "stdout",
     "output_type": "stream",
     "text": [
      "2773\r"
     ]
    },
    {
     "name": "stdout",
     "output_type": "stream",
     "text": [
      "2774\r"
     ]
    },
    {
     "name": "stdout",
     "output_type": "stream",
     "text": [
      "2775\r"
     ]
    },
    {
     "name": "stdout",
     "output_type": "stream",
     "text": [
      "2776\r"
     ]
    },
    {
     "name": "stdout",
     "output_type": "stream",
     "text": [
      "2777\r"
     ]
    },
    {
     "name": "stdout",
     "output_type": "stream",
     "text": [
      "2778\r"
     ]
    },
    {
     "name": "stdout",
     "output_type": "stream",
     "text": [
      "2779\r"
     ]
    },
    {
     "name": "stdout",
     "output_type": "stream",
     "text": [
      "2780\r"
     ]
    },
    {
     "name": "stdout",
     "output_type": "stream",
     "text": [
      "2781\r"
     ]
    },
    {
     "name": "stdout",
     "output_type": "stream",
     "text": [
      "2782\r"
     ]
    },
    {
     "name": "stdout",
     "output_type": "stream",
     "text": [
      "2783\r"
     ]
    },
    {
     "name": "stdout",
     "output_type": "stream",
     "text": [
      "2784\r"
     ]
    },
    {
     "name": "stdout",
     "output_type": "stream",
     "text": [
      "2785\r"
     ]
    },
    {
     "name": "stdout",
     "output_type": "stream",
     "text": [
      "2786\r"
     ]
    },
    {
     "name": "stdout",
     "output_type": "stream",
     "text": [
      "2787\r"
     ]
    },
    {
     "name": "stdout",
     "output_type": "stream",
     "text": [
      "2788\r"
     ]
    },
    {
     "name": "stdout",
     "output_type": "stream",
     "text": [
      "2789\r"
     ]
    },
    {
     "name": "stdout",
     "output_type": "stream",
     "text": [
      "2790\r"
     ]
    },
    {
     "name": "stdout",
     "output_type": "stream",
     "text": [
      "2791\r"
     ]
    },
    {
     "name": "stdout",
     "output_type": "stream",
     "text": [
      "2792\r"
     ]
    },
    {
     "name": "stdout",
     "output_type": "stream",
     "text": [
      "2793\r"
     ]
    },
    {
     "name": "stdout",
     "output_type": "stream",
     "text": [
      "2794\r"
     ]
    },
    {
     "name": "stdout",
     "output_type": "stream",
     "text": [
      "2795\r"
     ]
    },
    {
     "name": "stdout",
     "output_type": "stream",
     "text": [
      "2796\r"
     ]
    },
    {
     "name": "stdout",
     "output_type": "stream",
     "text": [
      "2797\r"
     ]
    },
    {
     "name": "stdout",
     "output_type": "stream",
     "text": [
      "2798\r"
     ]
    },
    {
     "name": "stdout",
     "output_type": "stream",
     "text": [
      "2799\r"
     ]
    },
    {
     "name": "stdout",
     "output_type": "stream",
     "text": [
      "2800\r"
     ]
    },
    {
     "name": "stdout",
     "output_type": "stream",
     "text": [
      "2801\r"
     ]
    },
    {
     "name": "stdout",
     "output_type": "stream",
     "text": [
      "2802\r"
     ]
    },
    {
     "name": "stdout",
     "output_type": "stream",
     "text": [
      "2803\r"
     ]
    },
    {
     "name": "stdout",
     "output_type": "stream",
     "text": [
      "2804\r"
     ]
    },
    {
     "name": "stdout",
     "output_type": "stream",
     "text": [
      "2805\r"
     ]
    },
    {
     "name": "stdout",
     "output_type": "stream",
     "text": [
      "2806\r"
     ]
    },
    {
     "name": "stdout",
     "output_type": "stream",
     "text": [
      "2807\r"
     ]
    },
    {
     "name": "stdout",
     "output_type": "stream",
     "text": [
      "2808\r"
     ]
    },
    {
     "name": "stdout",
     "output_type": "stream",
     "text": [
      "2809\r"
     ]
    },
    {
     "name": "stdout",
     "output_type": "stream",
     "text": [
      "2810\r"
     ]
    },
    {
     "name": "stdout",
     "output_type": "stream",
     "text": [
      "2811\r"
     ]
    },
    {
     "name": "stdout",
     "output_type": "stream",
     "text": [
      "2812\r"
     ]
    },
    {
     "name": "stdout",
     "output_type": "stream",
     "text": [
      "2813\r"
     ]
    },
    {
     "name": "stdout",
     "output_type": "stream",
     "text": [
      "2814\r"
     ]
    },
    {
     "name": "stdout",
     "output_type": "stream",
     "text": [
      "2815\r"
     ]
    },
    {
     "name": "stdout",
     "output_type": "stream",
     "text": [
      "2816\r"
     ]
    },
    {
     "name": "stdout",
     "output_type": "stream",
     "text": [
      "2817\r"
     ]
    },
    {
     "name": "stdout",
     "output_type": "stream",
     "text": [
      "2818\r"
     ]
    },
    {
     "name": "stdout",
     "output_type": "stream",
     "text": [
      "2819\r"
     ]
    },
    {
     "name": "stdout",
     "output_type": "stream",
     "text": [
      "2820\r"
     ]
    },
    {
     "name": "stdout",
     "output_type": "stream",
     "text": [
      "2821\r"
     ]
    },
    {
     "name": "stdout",
     "output_type": "stream",
     "text": [
      "2822\r"
     ]
    },
    {
     "name": "stdout",
     "output_type": "stream",
     "text": [
      "2823\r"
     ]
    },
    {
     "name": "stdout",
     "output_type": "stream",
     "text": [
      "2824\r"
     ]
    },
    {
     "name": "stdout",
     "output_type": "stream",
     "text": [
      "2825\r"
     ]
    },
    {
     "name": "stdout",
     "output_type": "stream",
     "text": [
      "2826\r"
     ]
    },
    {
     "name": "stdout",
     "output_type": "stream",
     "text": [
      "2827\r"
     ]
    },
    {
     "name": "stdout",
     "output_type": "stream",
     "text": [
      "2828\r"
     ]
    },
    {
     "name": "stdout",
     "output_type": "stream",
     "text": [
      "2829\r"
     ]
    },
    {
     "name": "stdout",
     "output_type": "stream",
     "text": [
      "2830\r"
     ]
    },
    {
     "name": "stdout",
     "output_type": "stream",
     "text": [
      "2831\r"
     ]
    },
    {
     "name": "stdout",
     "output_type": "stream",
     "text": [
      "2832\r"
     ]
    },
    {
     "name": "stdout",
     "output_type": "stream",
     "text": [
      "2833\r"
     ]
    },
    {
     "name": "stdout",
     "output_type": "stream",
     "text": [
      "2834\r"
     ]
    },
    {
     "name": "stdout",
     "output_type": "stream",
     "text": [
      "2835\r"
     ]
    },
    {
     "name": "stdout",
     "output_type": "stream",
     "text": [
      "2836\r"
     ]
    },
    {
     "name": "stdout",
     "output_type": "stream",
     "text": [
      "2837\r"
     ]
    },
    {
     "name": "stdout",
     "output_type": "stream",
     "text": [
      "2838\r"
     ]
    },
    {
     "name": "stdout",
     "output_type": "stream",
     "text": [
      "2839\r"
     ]
    },
    {
     "name": "stdout",
     "output_type": "stream",
     "text": [
      "2840\r"
     ]
    },
    {
     "name": "stdout",
     "output_type": "stream",
     "text": [
      "2841\r"
     ]
    },
    {
     "name": "stdout",
     "output_type": "stream",
     "text": [
      "2842\r"
     ]
    },
    {
     "name": "stdout",
     "output_type": "stream",
     "text": [
      "2843\r"
     ]
    },
    {
     "name": "stdout",
     "output_type": "stream",
     "text": [
      "2844\r"
     ]
    },
    {
     "name": "stdout",
     "output_type": "stream",
     "text": [
      "2845\r"
     ]
    },
    {
     "name": "stdout",
     "output_type": "stream",
     "text": [
      "2846\r"
     ]
    },
    {
     "name": "stdout",
     "output_type": "stream",
     "text": [
      "2847\r"
     ]
    },
    {
     "name": "stdout",
     "output_type": "stream",
     "text": [
      "2848\r"
     ]
    },
    {
     "name": "stdout",
     "output_type": "stream",
     "text": [
      "2849\r"
     ]
    },
    {
     "name": "stdout",
     "output_type": "stream",
     "text": [
      "2850\r"
     ]
    },
    {
     "name": "stdout",
     "output_type": "stream",
     "text": [
      "2851\r"
     ]
    },
    {
     "name": "stdout",
     "output_type": "stream",
     "text": [
      "2852\r"
     ]
    },
    {
     "name": "stdout",
     "output_type": "stream",
     "text": [
      "2853\r"
     ]
    },
    {
     "name": "stdout",
     "output_type": "stream",
     "text": [
      "2854\r"
     ]
    },
    {
     "name": "stdout",
     "output_type": "stream",
     "text": [
      "2855\r"
     ]
    },
    {
     "name": "stdout",
     "output_type": "stream",
     "text": [
      "2856\r"
     ]
    },
    {
     "name": "stdout",
     "output_type": "stream",
     "text": [
      "2857\r"
     ]
    },
    {
     "name": "stdout",
     "output_type": "stream",
     "text": [
      "2858\r"
     ]
    },
    {
     "name": "stdout",
     "output_type": "stream",
     "text": [
      "2859\r"
     ]
    },
    {
     "name": "stdout",
     "output_type": "stream",
     "text": [
      "2860\r"
     ]
    },
    {
     "name": "stdout",
     "output_type": "stream",
     "text": [
      "2861\r"
     ]
    },
    {
     "name": "stdout",
     "output_type": "stream",
     "text": [
      "2862\r"
     ]
    },
    {
     "name": "stdout",
     "output_type": "stream",
     "text": [
      "2863\r"
     ]
    },
    {
     "name": "stdout",
     "output_type": "stream",
     "text": [
      "2864\r"
     ]
    },
    {
     "name": "stdout",
     "output_type": "stream",
     "text": [
      "2865\r"
     ]
    },
    {
     "name": "stdout",
     "output_type": "stream",
     "text": [
      "2866\r"
     ]
    },
    {
     "name": "stdout",
     "output_type": "stream",
     "text": [
      "2867\r"
     ]
    },
    {
     "name": "stdout",
     "output_type": "stream",
     "text": [
      "2868\r"
     ]
    },
    {
     "name": "stdout",
     "output_type": "stream",
     "text": [
      "2869\r"
     ]
    },
    {
     "name": "stdout",
     "output_type": "stream",
     "text": [
      "2870\r"
     ]
    },
    {
     "name": "stdout",
     "output_type": "stream",
     "text": [
      "2871\r"
     ]
    },
    {
     "name": "stdout",
     "output_type": "stream",
     "text": [
      "2872\r"
     ]
    },
    {
     "name": "stdout",
     "output_type": "stream",
     "text": [
      "2873\r"
     ]
    },
    {
     "name": "stdout",
     "output_type": "stream",
     "text": [
      "2874\r"
     ]
    },
    {
     "name": "stdout",
     "output_type": "stream",
     "text": [
      "2875\r"
     ]
    },
    {
     "name": "stdout",
     "output_type": "stream",
     "text": [
      "2876\r"
     ]
    },
    {
     "name": "stdout",
     "output_type": "stream",
     "text": [
      "2877\r"
     ]
    },
    {
     "name": "stdout",
     "output_type": "stream",
     "text": [
      "2878\r"
     ]
    },
    {
     "name": "stdout",
     "output_type": "stream",
     "text": [
      "2879\r"
     ]
    },
    {
     "name": "stdout",
     "output_type": "stream",
     "text": [
      "2880\r"
     ]
    },
    {
     "name": "stdout",
     "output_type": "stream",
     "text": [
      "2881\r"
     ]
    },
    {
     "name": "stdout",
     "output_type": "stream",
     "text": [
      "2882\r"
     ]
    },
    {
     "name": "stdout",
     "output_type": "stream",
     "text": [
      "2883\r"
     ]
    },
    {
     "name": "stdout",
     "output_type": "stream",
     "text": [
      "2884\r"
     ]
    },
    {
     "name": "stdout",
     "output_type": "stream",
     "text": [
      "2885\r"
     ]
    },
    {
     "name": "stdout",
     "output_type": "stream",
     "text": [
      "2886\r"
     ]
    },
    {
     "name": "stdout",
     "output_type": "stream",
     "text": [
      "2887\r"
     ]
    },
    {
     "name": "stdout",
     "output_type": "stream",
     "text": [
      "2888\r"
     ]
    },
    {
     "name": "stdout",
     "output_type": "stream",
     "text": [
      "2889\r"
     ]
    },
    {
     "name": "stdout",
     "output_type": "stream",
     "text": [
      "2890\r"
     ]
    },
    {
     "name": "stdout",
     "output_type": "stream",
     "text": [
      "2891\r"
     ]
    },
    {
     "name": "stdout",
     "output_type": "stream",
     "text": [
      "2892\r"
     ]
    },
    {
     "name": "stdout",
     "output_type": "stream",
     "text": [
      "2893\r"
     ]
    },
    {
     "name": "stdout",
     "output_type": "stream",
     "text": [
      "2894\r"
     ]
    },
    {
     "name": "stdout",
     "output_type": "stream",
     "text": [
      "2895\r"
     ]
    },
    {
     "name": "stdout",
     "output_type": "stream",
     "text": [
      "2896\r"
     ]
    },
    {
     "name": "stdout",
     "output_type": "stream",
     "text": [
      "2897\r"
     ]
    },
    {
     "name": "stdout",
     "output_type": "stream",
     "text": [
      "2898\r"
     ]
    },
    {
     "name": "stdout",
     "output_type": "stream",
     "text": [
      "2899\r"
     ]
    },
    {
     "name": "stdout",
     "output_type": "stream",
     "text": [
      "2900\r"
     ]
    },
    {
     "name": "stdout",
     "output_type": "stream",
     "text": [
      "2901\r"
     ]
    },
    {
     "name": "stdout",
     "output_type": "stream",
     "text": [
      "2902\r"
     ]
    },
    {
     "name": "stdout",
     "output_type": "stream",
     "text": [
      "2903\r"
     ]
    },
    {
     "name": "stdout",
     "output_type": "stream",
     "text": [
      "2904\r"
     ]
    },
    {
     "name": "stdout",
     "output_type": "stream",
     "text": [
      "2905\r"
     ]
    },
    {
     "name": "stdout",
     "output_type": "stream",
     "text": [
      "2906\r"
     ]
    },
    {
     "name": "stdout",
     "output_type": "stream",
     "text": [
      "2907\r"
     ]
    },
    {
     "name": "stdout",
     "output_type": "stream",
     "text": [
      "2908\r"
     ]
    },
    {
     "name": "stdout",
     "output_type": "stream",
     "text": [
      "2909\r"
     ]
    },
    {
     "name": "stdout",
     "output_type": "stream",
     "text": [
      "2910\r"
     ]
    },
    {
     "name": "stdout",
     "output_type": "stream",
     "text": [
      "2911\r"
     ]
    },
    {
     "name": "stdout",
     "output_type": "stream",
     "text": [
      "2912\r"
     ]
    },
    {
     "name": "stdout",
     "output_type": "stream",
     "text": [
      "2913\r"
     ]
    },
    {
     "name": "stdout",
     "output_type": "stream",
     "text": [
      "2914\r"
     ]
    },
    {
     "name": "stdout",
     "output_type": "stream",
     "text": [
      "2915\r"
     ]
    },
    {
     "name": "stdout",
     "output_type": "stream",
     "text": [
      "2916\r"
     ]
    },
    {
     "name": "stdout",
     "output_type": "stream",
     "text": [
      "2917\r"
     ]
    },
    {
     "name": "stdout",
     "output_type": "stream",
     "text": [
      "2918\r"
     ]
    },
    {
     "name": "stdout",
     "output_type": "stream",
     "text": [
      "2919\r"
     ]
    },
    {
     "name": "stdout",
     "output_type": "stream",
     "text": [
      "2920\r"
     ]
    },
    {
     "name": "stdout",
     "output_type": "stream",
     "text": [
      "2921\r"
     ]
    },
    {
     "name": "stdout",
     "output_type": "stream",
     "text": [
      "2922\r"
     ]
    },
    {
     "name": "stdout",
     "output_type": "stream",
     "text": [
      "2923\r"
     ]
    },
    {
     "name": "stdout",
     "output_type": "stream",
     "text": [
      "2924\r"
     ]
    },
    {
     "name": "stdout",
     "output_type": "stream",
     "text": [
      "2925\r"
     ]
    },
    {
     "name": "stdout",
     "output_type": "stream",
     "text": [
      "2926\r"
     ]
    },
    {
     "name": "stdout",
     "output_type": "stream",
     "text": [
      "2927\r"
     ]
    },
    {
     "name": "stdout",
     "output_type": "stream",
     "text": [
      "2928\r"
     ]
    },
    {
     "name": "stdout",
     "output_type": "stream",
     "text": [
      "2929\r"
     ]
    },
    {
     "name": "stdout",
     "output_type": "stream",
     "text": [
      "2930\r"
     ]
    },
    {
     "name": "stdout",
     "output_type": "stream",
     "text": [
      "2931\r"
     ]
    },
    {
     "name": "stdout",
     "output_type": "stream",
     "text": [
      "2932\r"
     ]
    },
    {
     "name": "stdout",
     "output_type": "stream",
     "text": [
      "2933\r"
     ]
    },
    {
     "name": "stdout",
     "output_type": "stream",
     "text": [
      "2934\r"
     ]
    },
    {
     "name": "stdout",
     "output_type": "stream",
     "text": [
      "2935\r"
     ]
    },
    {
     "name": "stdout",
     "output_type": "stream",
     "text": [
      "2936\r"
     ]
    },
    {
     "name": "stdout",
     "output_type": "stream",
     "text": [
      "2937\r"
     ]
    },
    {
     "name": "stdout",
     "output_type": "stream",
     "text": [
      "2938\r"
     ]
    },
    {
     "name": "stdout",
     "output_type": "stream",
     "text": [
      "2939\r"
     ]
    },
    {
     "name": "stdout",
     "output_type": "stream",
     "text": [
      "2940\r"
     ]
    },
    {
     "name": "stdout",
     "output_type": "stream",
     "text": [
      "2941\r"
     ]
    },
    {
     "name": "stdout",
     "output_type": "stream",
     "text": [
      "2942\r"
     ]
    },
    {
     "name": "stdout",
     "output_type": "stream",
     "text": [
      "2943\r"
     ]
    },
    {
     "name": "stdout",
     "output_type": "stream",
     "text": [
      "2944\r"
     ]
    },
    {
     "name": "stdout",
     "output_type": "stream",
     "text": [
      "2945\r"
     ]
    },
    {
     "name": "stdout",
     "output_type": "stream",
     "text": [
      "2946\r"
     ]
    },
    {
     "name": "stdout",
     "output_type": "stream",
     "text": [
      "2947\r"
     ]
    },
    {
     "name": "stdout",
     "output_type": "stream",
     "text": [
      "2948\r"
     ]
    },
    {
     "name": "stdout",
     "output_type": "stream",
     "text": [
      "2949\r"
     ]
    },
    {
     "name": "stdout",
     "output_type": "stream",
     "text": [
      "2950\r"
     ]
    },
    {
     "name": "stdout",
     "output_type": "stream",
     "text": [
      "2951\r"
     ]
    },
    {
     "name": "stdout",
     "output_type": "stream",
     "text": [
      "2952\r"
     ]
    },
    {
     "name": "stdout",
     "output_type": "stream",
     "text": [
      "2953\r"
     ]
    },
    {
     "name": "stdout",
     "output_type": "stream",
     "text": [
      "2954\r"
     ]
    },
    {
     "name": "stdout",
     "output_type": "stream",
     "text": [
      "2955\r"
     ]
    },
    {
     "name": "stdout",
     "output_type": "stream",
     "text": [
      "2956\r"
     ]
    },
    {
     "name": "stdout",
     "output_type": "stream",
     "text": [
      "2957\r"
     ]
    },
    {
     "name": "stdout",
     "output_type": "stream",
     "text": [
      "2958\r"
     ]
    },
    {
     "name": "stdout",
     "output_type": "stream",
     "text": [
      "2959\r"
     ]
    },
    {
     "name": "stdout",
     "output_type": "stream",
     "text": [
      "2960\r"
     ]
    },
    {
     "name": "stdout",
     "output_type": "stream",
     "text": [
      "2961\r"
     ]
    },
    {
     "name": "stdout",
     "output_type": "stream",
     "text": [
      "2962\r"
     ]
    },
    {
     "name": "stdout",
     "output_type": "stream",
     "text": [
      "2963\r"
     ]
    },
    {
     "name": "stdout",
     "output_type": "stream",
     "text": [
      "2964\r"
     ]
    },
    {
     "name": "stdout",
     "output_type": "stream",
     "text": [
      "2965\r"
     ]
    },
    {
     "name": "stdout",
     "output_type": "stream",
     "text": [
      "2966\r"
     ]
    },
    {
     "name": "stdout",
     "output_type": "stream",
     "text": [
      "2967\r"
     ]
    },
    {
     "name": "stdout",
     "output_type": "stream",
     "text": [
      "2968\r"
     ]
    },
    {
     "name": "stdout",
     "output_type": "stream",
     "text": [
      "2969\r"
     ]
    },
    {
     "name": "stdout",
     "output_type": "stream",
     "text": [
      "2970\r"
     ]
    },
    {
     "name": "stdout",
     "output_type": "stream",
     "text": [
      "2971\r"
     ]
    },
    {
     "name": "stdout",
     "output_type": "stream",
     "text": [
      "2972\r"
     ]
    },
    {
     "name": "stdout",
     "output_type": "stream",
     "text": [
      "2973\r"
     ]
    },
    {
     "name": "stdout",
     "output_type": "stream",
     "text": [
      "2974\r"
     ]
    },
    {
     "name": "stdout",
     "output_type": "stream",
     "text": [
      "2975\r"
     ]
    },
    {
     "name": "stdout",
     "output_type": "stream",
     "text": [
      "2976\r"
     ]
    },
    {
     "name": "stdout",
     "output_type": "stream",
     "text": [
      "2977\r"
     ]
    },
    {
     "name": "stdout",
     "output_type": "stream",
     "text": [
      "2978\r"
     ]
    },
    {
     "name": "stdout",
     "output_type": "stream",
     "text": [
      "2979\r"
     ]
    },
    {
     "name": "stdout",
     "output_type": "stream",
     "text": [
      "2980\r"
     ]
    },
    {
     "name": "stdout",
     "output_type": "stream",
     "text": [
      "2981\r"
     ]
    },
    {
     "name": "stdout",
     "output_type": "stream",
     "text": [
      "2982\r"
     ]
    },
    {
     "name": "stdout",
     "output_type": "stream",
     "text": [
      "2983\r"
     ]
    },
    {
     "name": "stdout",
     "output_type": "stream",
     "text": [
      "2984\r"
     ]
    },
    {
     "name": "stdout",
     "output_type": "stream",
     "text": [
      "2985\r"
     ]
    },
    {
     "name": "stdout",
     "output_type": "stream",
     "text": [
      "2986\r"
     ]
    },
    {
     "name": "stdout",
     "output_type": "stream",
     "text": [
      "2987\r"
     ]
    },
    {
     "name": "stdout",
     "output_type": "stream",
     "text": [
      "2988\r"
     ]
    },
    {
     "name": "stdout",
     "output_type": "stream",
     "text": [
      "2989\r"
     ]
    },
    {
     "name": "stdout",
     "output_type": "stream",
     "text": [
      "2990\r"
     ]
    },
    {
     "name": "stdout",
     "output_type": "stream",
     "text": [
      "2991\r"
     ]
    },
    {
     "name": "stdout",
     "output_type": "stream",
     "text": [
      "2992\r"
     ]
    },
    {
     "name": "stdout",
     "output_type": "stream",
     "text": [
      "2993\r"
     ]
    },
    {
     "name": "stdout",
     "output_type": "stream",
     "text": [
      "2994\r"
     ]
    },
    {
     "name": "stdout",
     "output_type": "stream",
     "text": [
      "2995\r"
     ]
    },
    {
     "name": "stdout",
     "output_type": "stream",
     "text": [
      "2996\r"
     ]
    },
    {
     "name": "stdout",
     "output_type": "stream",
     "text": [
      "2997\r"
     ]
    },
    {
     "name": "stdout",
     "output_type": "stream",
     "text": [
      "2998\r"
     ]
    },
    {
     "name": "stdout",
     "output_type": "stream",
     "text": [
      "2999\r"
     ]
    },
    {
     "name": "stdout",
     "output_type": "stream",
     "text": [
      "3000\r"
     ]
    },
    {
     "name": "stdout",
     "output_type": "stream",
     "text": [
      "3001\r"
     ]
    },
    {
     "name": "stdout",
     "output_type": "stream",
     "text": [
      "3002\r"
     ]
    },
    {
     "name": "stdout",
     "output_type": "stream",
     "text": [
      "3003\r"
     ]
    },
    {
     "name": "stdout",
     "output_type": "stream",
     "text": [
      "3004\r"
     ]
    },
    {
     "name": "stdout",
     "output_type": "stream",
     "text": [
      "3005\r"
     ]
    },
    {
     "name": "stdout",
     "output_type": "stream",
     "text": [
      "3006\r"
     ]
    },
    {
     "name": "stdout",
     "output_type": "stream",
     "text": [
      "3007\r"
     ]
    },
    {
     "name": "stdout",
     "output_type": "stream",
     "text": [
      "3008\r"
     ]
    },
    {
     "name": "stdout",
     "output_type": "stream",
     "text": [
      "3009\r"
     ]
    },
    {
     "name": "stdout",
     "output_type": "stream",
     "text": [
      "3010\r"
     ]
    },
    {
     "name": "stdout",
     "output_type": "stream",
     "text": [
      "3011\r"
     ]
    },
    {
     "name": "stdout",
     "output_type": "stream",
     "text": [
      "3012\r"
     ]
    },
    {
     "name": "stdout",
     "output_type": "stream",
     "text": [
      "3013\r"
     ]
    },
    {
     "name": "stdout",
     "output_type": "stream",
     "text": [
      "3014\r"
     ]
    },
    {
     "name": "stdout",
     "output_type": "stream",
     "text": [
      "3015\r"
     ]
    },
    {
     "name": "stdout",
     "output_type": "stream",
     "text": [
      "3016\r"
     ]
    },
    {
     "name": "stdout",
     "output_type": "stream",
     "text": [
      "3017\r"
     ]
    },
    {
     "name": "stdout",
     "output_type": "stream",
     "text": [
      "3018\r"
     ]
    },
    {
     "name": "stdout",
     "output_type": "stream",
     "text": [
      "3019\r"
     ]
    },
    {
     "name": "stdout",
     "output_type": "stream",
     "text": [
      "3020\r"
     ]
    },
    {
     "name": "stdout",
     "output_type": "stream",
     "text": [
      "3021\r"
     ]
    },
    {
     "name": "stdout",
     "output_type": "stream",
     "text": [
      "3022\r"
     ]
    },
    {
     "name": "stdout",
     "output_type": "stream",
     "text": [
      "3023\r"
     ]
    },
    {
     "name": "stdout",
     "output_type": "stream",
     "text": [
      "3024\r"
     ]
    },
    {
     "name": "stdout",
     "output_type": "stream",
     "text": [
      "3025\r"
     ]
    },
    {
     "name": "stdout",
     "output_type": "stream",
     "text": [
      "3026\r"
     ]
    },
    {
     "name": "stdout",
     "output_type": "stream",
     "text": [
      "3027\r"
     ]
    },
    {
     "name": "stdout",
     "output_type": "stream",
     "text": [
      "3028\r"
     ]
    },
    {
     "name": "stdout",
     "output_type": "stream",
     "text": [
      "3029\r"
     ]
    },
    {
     "name": "stdout",
     "output_type": "stream",
     "text": [
      "3030\r"
     ]
    },
    {
     "name": "stdout",
     "output_type": "stream",
     "text": [
      "3031\r"
     ]
    },
    {
     "name": "stdout",
     "output_type": "stream",
     "text": [
      "3032\r"
     ]
    },
    {
     "name": "stdout",
     "output_type": "stream",
     "text": [
      "3033\r"
     ]
    },
    {
     "name": "stdout",
     "output_type": "stream",
     "text": [
      "3034\r"
     ]
    },
    {
     "name": "stdout",
     "output_type": "stream",
     "text": [
      "3035\r"
     ]
    },
    {
     "name": "stdout",
     "output_type": "stream",
     "text": [
      "3036\r"
     ]
    },
    {
     "name": "stdout",
     "output_type": "stream",
     "text": [
      "3037\r"
     ]
    },
    {
     "name": "stdout",
     "output_type": "stream",
     "text": [
      "3038\r"
     ]
    },
    {
     "name": "stdout",
     "output_type": "stream",
     "text": [
      "3039\r"
     ]
    },
    {
     "name": "stdout",
     "output_type": "stream",
     "text": [
      "3040\r"
     ]
    },
    {
     "name": "stdout",
     "output_type": "stream",
     "text": [
      "3041\r"
     ]
    },
    {
     "name": "stdout",
     "output_type": "stream",
     "text": [
      "3042\r"
     ]
    },
    {
     "name": "stdout",
     "output_type": "stream",
     "text": [
      "3043\r"
     ]
    },
    {
     "name": "stdout",
     "output_type": "stream",
     "text": [
      "3044\r"
     ]
    },
    {
     "name": "stdout",
     "output_type": "stream",
     "text": [
      "3045\r"
     ]
    },
    {
     "name": "stdout",
     "output_type": "stream",
     "text": [
      "3046\r"
     ]
    },
    {
     "name": "stdout",
     "output_type": "stream",
     "text": [
      "3047\r"
     ]
    },
    {
     "name": "stdout",
     "output_type": "stream",
     "text": [
      "3048\r"
     ]
    },
    {
     "name": "stdout",
     "output_type": "stream",
     "text": [
      "3049\r"
     ]
    },
    {
     "name": "stdout",
     "output_type": "stream",
     "text": [
      "3050\r"
     ]
    },
    {
     "name": "stdout",
     "output_type": "stream",
     "text": [
      "3051\r"
     ]
    },
    {
     "name": "stdout",
     "output_type": "stream",
     "text": [
      "3052\r"
     ]
    },
    {
     "name": "stdout",
     "output_type": "stream",
     "text": [
      "3053\r"
     ]
    },
    {
     "name": "stdout",
     "output_type": "stream",
     "text": [
      "3054\r"
     ]
    },
    {
     "name": "stdout",
     "output_type": "stream",
     "text": [
      "3055\r"
     ]
    },
    {
     "name": "stdout",
     "output_type": "stream",
     "text": [
      "3056\r"
     ]
    },
    {
     "name": "stdout",
     "output_type": "stream",
     "text": [
      "3057\r"
     ]
    },
    {
     "name": "stdout",
     "output_type": "stream",
     "text": [
      "3058\r"
     ]
    },
    {
     "name": "stdout",
     "output_type": "stream",
     "text": [
      "3059\r"
     ]
    },
    {
     "name": "stdout",
     "output_type": "stream",
     "text": [
      "3060\r"
     ]
    },
    {
     "name": "stdout",
     "output_type": "stream",
     "text": [
      "3061\r"
     ]
    },
    {
     "name": "stdout",
     "output_type": "stream",
     "text": [
      "3062\r"
     ]
    },
    {
     "name": "stdout",
     "output_type": "stream",
     "text": [
      "3063\r"
     ]
    },
    {
     "name": "stdout",
     "output_type": "stream",
     "text": [
      "3064\r"
     ]
    },
    {
     "name": "stdout",
     "output_type": "stream",
     "text": [
      "3065\r"
     ]
    },
    {
     "name": "stdout",
     "output_type": "stream",
     "text": [
      "3066\r"
     ]
    },
    {
     "name": "stdout",
     "output_type": "stream",
     "text": [
      "3067\r"
     ]
    },
    {
     "name": "stdout",
     "output_type": "stream",
     "text": [
      "3068\r"
     ]
    },
    {
     "name": "stdout",
     "output_type": "stream",
     "text": [
      "3069\r"
     ]
    },
    {
     "name": "stdout",
     "output_type": "stream",
     "text": [
      "3070\r"
     ]
    },
    {
     "name": "stdout",
     "output_type": "stream",
     "text": [
      "3071\r"
     ]
    },
    {
     "name": "stdout",
     "output_type": "stream",
     "text": [
      "3072\r"
     ]
    },
    {
     "name": "stdout",
     "output_type": "stream",
     "text": [
      "3073\r"
     ]
    },
    {
     "name": "stdout",
     "output_type": "stream",
     "text": [
      "3074\r"
     ]
    },
    {
     "name": "stdout",
     "output_type": "stream",
     "text": [
      "3075\r"
     ]
    },
    {
     "name": "stdout",
     "output_type": "stream",
     "text": [
      "3076\r"
     ]
    },
    {
     "name": "stdout",
     "output_type": "stream",
     "text": [
      "3077\r"
     ]
    },
    {
     "name": "stdout",
     "output_type": "stream",
     "text": [
      "3078\r"
     ]
    },
    {
     "name": "stdout",
     "output_type": "stream",
     "text": [
      "3079\r"
     ]
    },
    {
     "name": "stdout",
     "output_type": "stream",
     "text": [
      "3080\r"
     ]
    },
    {
     "name": "stdout",
     "output_type": "stream",
     "text": [
      "3081\r"
     ]
    },
    {
     "name": "stdout",
     "output_type": "stream",
     "text": [
      "3082\r"
     ]
    },
    {
     "name": "stdout",
     "output_type": "stream",
     "text": [
      "3083\r"
     ]
    },
    {
     "name": "stdout",
     "output_type": "stream",
     "text": [
      "3084\r"
     ]
    },
    {
     "name": "stdout",
     "output_type": "stream",
     "text": [
      "3085\r"
     ]
    },
    {
     "name": "stdout",
     "output_type": "stream",
     "text": [
      "3086\r"
     ]
    },
    {
     "name": "stdout",
     "output_type": "stream",
     "text": [
      "3087\r"
     ]
    },
    {
     "name": "stdout",
     "output_type": "stream",
     "text": [
      "3088\r"
     ]
    },
    {
     "name": "stdout",
     "output_type": "stream",
     "text": [
      "3089\r"
     ]
    },
    {
     "name": "stdout",
     "output_type": "stream",
     "text": [
      "3090\r"
     ]
    },
    {
     "name": "stdout",
     "output_type": "stream",
     "text": [
      "3091\r"
     ]
    },
    {
     "name": "stdout",
     "output_type": "stream",
     "text": [
      "3092\r"
     ]
    },
    {
     "name": "stdout",
     "output_type": "stream",
     "text": [
      "3093\r"
     ]
    },
    {
     "name": "stdout",
     "output_type": "stream",
     "text": [
      "3094\r"
     ]
    },
    {
     "name": "stdout",
     "output_type": "stream",
     "text": [
      "3095\r"
     ]
    },
    {
     "name": "stdout",
     "output_type": "stream",
     "text": [
      "3096\r"
     ]
    },
    {
     "name": "stdout",
     "output_type": "stream",
     "text": [
      "3097\r"
     ]
    },
    {
     "name": "stdout",
     "output_type": "stream",
     "text": [
      "3098\r"
     ]
    },
    {
     "name": "stdout",
     "output_type": "stream",
     "text": [
      "3099\r"
     ]
    },
    {
     "name": "stdout",
     "output_type": "stream",
     "text": [
      "3100\r"
     ]
    },
    {
     "name": "stdout",
     "output_type": "stream",
     "text": [
      "3101\r"
     ]
    },
    {
     "name": "stdout",
     "output_type": "stream",
     "text": [
      "3102\r"
     ]
    },
    {
     "name": "stdout",
     "output_type": "stream",
     "text": [
      "3103\r"
     ]
    },
    {
     "name": "stdout",
     "output_type": "stream",
     "text": [
      "3104\r"
     ]
    },
    {
     "name": "stdout",
     "output_type": "stream",
     "text": [
      "3105\r"
     ]
    },
    {
     "name": "stdout",
     "output_type": "stream",
     "text": [
      "3106\r"
     ]
    },
    {
     "name": "stdout",
     "output_type": "stream",
     "text": [
      "3107\r"
     ]
    },
    {
     "name": "stdout",
     "output_type": "stream",
     "text": [
      "3108\r"
     ]
    },
    {
     "name": "stdout",
     "output_type": "stream",
     "text": [
      "3109\r"
     ]
    },
    {
     "name": "stdout",
     "output_type": "stream",
     "text": [
      "3110\r"
     ]
    },
    {
     "name": "stdout",
     "output_type": "stream",
     "text": [
      "3111\r"
     ]
    },
    {
     "name": "stdout",
     "output_type": "stream",
     "text": [
      "3112\r"
     ]
    },
    {
     "name": "stdout",
     "output_type": "stream",
     "text": [
      "3113\r"
     ]
    },
    {
     "name": "stdout",
     "output_type": "stream",
     "text": [
      "3114\r"
     ]
    },
    {
     "name": "stdout",
     "output_type": "stream",
     "text": [
      "3115\r"
     ]
    },
    {
     "name": "stdout",
     "output_type": "stream",
     "text": [
      "3116\r"
     ]
    },
    {
     "name": "stdout",
     "output_type": "stream",
     "text": [
      "3117\r"
     ]
    },
    {
     "name": "stdout",
     "output_type": "stream",
     "text": [
      "3118\r"
     ]
    },
    {
     "name": "stdout",
     "output_type": "stream",
     "text": [
      "3119\r"
     ]
    },
    {
     "name": "stdout",
     "output_type": "stream",
     "text": [
      "3120\r"
     ]
    },
    {
     "name": "stdout",
     "output_type": "stream",
     "text": [
      "3121\r"
     ]
    },
    {
     "name": "stdout",
     "output_type": "stream",
     "text": [
      "3122\r"
     ]
    },
    {
     "name": "stdout",
     "output_type": "stream",
     "text": [
      "3123\r"
     ]
    },
    {
     "name": "stdout",
     "output_type": "stream",
     "text": [
      "3124\r"
     ]
    },
    {
     "name": "stdout",
     "output_type": "stream",
     "text": [
      "3125\r"
     ]
    },
    {
     "name": "stdout",
     "output_type": "stream",
     "text": [
      "3126\r"
     ]
    },
    {
     "name": "stdout",
     "output_type": "stream",
     "text": [
      "3127\r"
     ]
    },
    {
     "name": "stdout",
     "output_type": "stream",
     "text": [
      "3128\r"
     ]
    },
    {
     "name": "stdout",
     "output_type": "stream",
     "text": [
      "3129\r"
     ]
    },
    {
     "name": "stdout",
     "output_type": "stream",
     "text": [
      "3130\r"
     ]
    },
    {
     "name": "stdout",
     "output_type": "stream",
     "text": [
      "3131\r"
     ]
    },
    {
     "name": "stdout",
     "output_type": "stream",
     "text": [
      "3132\r"
     ]
    },
    {
     "name": "stdout",
     "output_type": "stream",
     "text": [
      "3133\r"
     ]
    },
    {
     "name": "stdout",
     "output_type": "stream",
     "text": [
      "3134\r"
     ]
    },
    {
     "name": "stdout",
     "output_type": "stream",
     "text": [
      "3135\r"
     ]
    },
    {
     "name": "stdout",
     "output_type": "stream",
     "text": [
      "3136\r"
     ]
    },
    {
     "name": "stdout",
     "output_type": "stream",
     "text": [
      "3137\r"
     ]
    },
    {
     "name": "stdout",
     "output_type": "stream",
     "text": [
      "3138\r"
     ]
    },
    {
     "name": "stdout",
     "output_type": "stream",
     "text": [
      "3139\r"
     ]
    },
    {
     "name": "stdout",
     "output_type": "stream",
     "text": [
      "3140\r"
     ]
    },
    {
     "name": "stdout",
     "output_type": "stream",
     "text": [
      "3141\r"
     ]
    },
    {
     "name": "stdout",
     "output_type": "stream",
     "text": [
      "3142\r"
     ]
    },
    {
     "name": "stdout",
     "output_type": "stream",
     "text": [
      "3143\r"
     ]
    },
    {
     "name": "stdout",
     "output_type": "stream",
     "text": [
      "3144\r"
     ]
    },
    {
     "name": "stdout",
     "output_type": "stream",
     "text": [
      "3145\r"
     ]
    },
    {
     "name": "stdout",
     "output_type": "stream",
     "text": [
      "3146\r"
     ]
    },
    {
     "name": "stdout",
     "output_type": "stream",
     "text": [
      "3147\r"
     ]
    },
    {
     "name": "stdout",
     "output_type": "stream",
     "text": [
      "3148\r"
     ]
    },
    {
     "name": "stdout",
     "output_type": "stream",
     "text": [
      "3149\r"
     ]
    },
    {
     "name": "stdout",
     "output_type": "stream",
     "text": [
      "3150\r"
     ]
    },
    {
     "name": "stdout",
     "output_type": "stream",
     "text": [
      "3151\r"
     ]
    },
    {
     "name": "stdout",
     "output_type": "stream",
     "text": [
      "3152\r"
     ]
    },
    {
     "name": "stdout",
     "output_type": "stream",
     "text": [
      "3153\r"
     ]
    },
    {
     "name": "stdout",
     "output_type": "stream",
     "text": [
      "3154\r"
     ]
    },
    {
     "name": "stdout",
     "output_type": "stream",
     "text": [
      "3155\r"
     ]
    },
    {
     "name": "stdout",
     "output_type": "stream",
     "text": [
      "3156\r"
     ]
    },
    {
     "name": "stdout",
     "output_type": "stream",
     "text": [
      "3157\r"
     ]
    },
    {
     "name": "stdout",
     "output_type": "stream",
     "text": [
      "3158\r"
     ]
    },
    {
     "name": "stdout",
     "output_type": "stream",
     "text": [
      "3159\r"
     ]
    },
    {
     "name": "stdout",
     "output_type": "stream",
     "text": [
      "3160\r"
     ]
    },
    {
     "name": "stdout",
     "output_type": "stream",
     "text": [
      "3161\r"
     ]
    },
    {
     "name": "stdout",
     "output_type": "stream",
     "text": [
      "3162\r"
     ]
    },
    {
     "name": "stdout",
     "output_type": "stream",
     "text": [
      "3163\r"
     ]
    },
    {
     "name": "stdout",
     "output_type": "stream",
     "text": [
      "3164\r"
     ]
    },
    {
     "name": "stdout",
     "output_type": "stream",
     "text": [
      "3165\r"
     ]
    },
    {
     "name": "stdout",
     "output_type": "stream",
     "text": [
      "3166\r"
     ]
    },
    {
     "name": "stdout",
     "output_type": "stream",
     "text": [
      "3167\r"
     ]
    },
    {
     "name": "stdout",
     "output_type": "stream",
     "text": [
      "3168\r"
     ]
    },
    {
     "name": "stdout",
     "output_type": "stream",
     "text": [
      "3169\r"
     ]
    },
    {
     "name": "stdout",
     "output_type": "stream",
     "text": [
      "3170\r"
     ]
    },
    {
     "name": "stdout",
     "output_type": "stream",
     "text": [
      "3171\r"
     ]
    },
    {
     "name": "stdout",
     "output_type": "stream",
     "text": [
      "3172\r"
     ]
    },
    {
     "name": "stdout",
     "output_type": "stream",
     "text": [
      "3173\r"
     ]
    },
    {
     "name": "stdout",
     "output_type": "stream",
     "text": [
      "3174\r"
     ]
    },
    {
     "name": "stdout",
     "output_type": "stream",
     "text": [
      "3175\r"
     ]
    },
    {
     "name": "stdout",
     "output_type": "stream",
     "text": [
      "3176\r"
     ]
    },
    {
     "name": "stdout",
     "output_type": "stream",
     "text": [
      "3177\r"
     ]
    },
    {
     "name": "stdout",
     "output_type": "stream",
     "text": [
      "3178\r"
     ]
    },
    {
     "name": "stdout",
     "output_type": "stream",
     "text": [
      "3179\r"
     ]
    },
    {
     "name": "stdout",
     "output_type": "stream",
     "text": [
      "3180\r"
     ]
    },
    {
     "name": "stdout",
     "output_type": "stream",
     "text": [
      "3181\r"
     ]
    },
    {
     "name": "stdout",
     "output_type": "stream",
     "text": [
      "3182\r"
     ]
    },
    {
     "name": "stdout",
     "output_type": "stream",
     "text": [
      "3183\r"
     ]
    },
    {
     "name": "stdout",
     "output_type": "stream",
     "text": [
      "3184\r"
     ]
    },
    {
     "name": "stdout",
     "output_type": "stream",
     "text": [
      "3185\r"
     ]
    },
    {
     "name": "stdout",
     "output_type": "stream",
     "text": [
      "3186\r"
     ]
    },
    {
     "name": "stdout",
     "output_type": "stream",
     "text": [
      "3187\r"
     ]
    },
    {
     "name": "stdout",
     "output_type": "stream",
     "text": [
      "3188\r"
     ]
    },
    {
     "name": "stdout",
     "output_type": "stream",
     "text": [
      "3189\r"
     ]
    },
    {
     "name": "stdout",
     "output_type": "stream",
     "text": [
      "3190\r"
     ]
    },
    {
     "name": "stdout",
     "output_type": "stream",
     "text": [
      "3191\r"
     ]
    },
    {
     "name": "stdout",
     "output_type": "stream",
     "text": [
      "3192\r"
     ]
    },
    {
     "name": "stdout",
     "output_type": "stream",
     "text": [
      "3193\r"
     ]
    },
    {
     "name": "stdout",
     "output_type": "stream",
     "text": [
      "3194\r"
     ]
    },
    {
     "name": "stdout",
     "output_type": "stream",
     "text": [
      "3195\r"
     ]
    },
    {
     "name": "stdout",
     "output_type": "stream",
     "text": [
      "3196\r"
     ]
    },
    {
     "name": "stdout",
     "output_type": "stream",
     "text": [
      "3197\r"
     ]
    },
    {
     "name": "stdout",
     "output_type": "stream",
     "text": [
      "3198\r"
     ]
    },
    {
     "name": "stdout",
     "output_type": "stream",
     "text": [
      "3199\r"
     ]
    },
    {
     "name": "stdout",
     "output_type": "stream",
     "text": [
      "3200\r"
     ]
    },
    {
     "name": "stdout",
     "output_type": "stream",
     "text": [
      "3201\r"
     ]
    },
    {
     "name": "stdout",
     "output_type": "stream",
     "text": [
      "3202\r"
     ]
    },
    {
     "name": "stdout",
     "output_type": "stream",
     "text": [
      "3203\r"
     ]
    },
    {
     "name": "stdout",
     "output_type": "stream",
     "text": [
      "3204\r"
     ]
    },
    {
     "name": "stdout",
     "output_type": "stream",
     "text": [
      "3205\r"
     ]
    },
    {
     "name": "stdout",
     "output_type": "stream",
     "text": [
      "3206\r"
     ]
    },
    {
     "name": "stdout",
     "output_type": "stream",
     "text": [
      "3207\r"
     ]
    },
    {
     "name": "stdout",
     "output_type": "stream",
     "text": [
      "3208\r"
     ]
    },
    {
     "name": "stdout",
     "output_type": "stream",
     "text": [
      "3209\r"
     ]
    },
    {
     "name": "stdout",
     "output_type": "stream",
     "text": [
      "3210\r"
     ]
    },
    {
     "name": "stdout",
     "output_type": "stream",
     "text": [
      "3211\r"
     ]
    },
    {
     "name": "stdout",
     "output_type": "stream",
     "text": [
      "3212\r"
     ]
    },
    {
     "name": "stdout",
     "output_type": "stream",
     "text": [
      "3213\r"
     ]
    },
    {
     "name": "stdout",
     "output_type": "stream",
     "text": [
      "3214\r"
     ]
    },
    {
     "name": "stdout",
     "output_type": "stream",
     "text": [
      "3215\r"
     ]
    },
    {
     "name": "stdout",
     "output_type": "stream",
     "text": [
      "3216\r"
     ]
    },
    {
     "name": "stdout",
     "output_type": "stream",
     "text": [
      "3217\r"
     ]
    },
    {
     "name": "stdout",
     "output_type": "stream",
     "text": [
      "3218\r"
     ]
    },
    {
     "name": "stdout",
     "output_type": "stream",
     "text": [
      "3219\r"
     ]
    },
    {
     "name": "stdout",
     "output_type": "stream",
     "text": [
      "3220\r"
     ]
    },
    {
     "name": "stdout",
     "output_type": "stream",
     "text": [
      "3221\r"
     ]
    },
    {
     "name": "stdout",
     "output_type": "stream",
     "text": [
      "3222\r"
     ]
    },
    {
     "name": "stdout",
     "output_type": "stream",
     "text": [
      "3223\r"
     ]
    },
    {
     "name": "stdout",
     "output_type": "stream",
     "text": [
      "3224\r"
     ]
    },
    {
     "name": "stdout",
     "output_type": "stream",
     "text": [
      "3225\r"
     ]
    },
    {
     "name": "stdout",
     "output_type": "stream",
     "text": [
      "3226\r"
     ]
    },
    {
     "name": "stdout",
     "output_type": "stream",
     "text": [
      "3227\r"
     ]
    },
    {
     "name": "stdout",
     "output_type": "stream",
     "text": [
      "3228\r"
     ]
    },
    {
     "name": "stdout",
     "output_type": "stream",
     "text": [
      "3229\r"
     ]
    },
    {
     "name": "stdout",
     "output_type": "stream",
     "text": [
      "3230\r"
     ]
    },
    {
     "name": "stdout",
     "output_type": "stream",
     "text": [
      "3231\r"
     ]
    },
    {
     "name": "stdout",
     "output_type": "stream",
     "text": [
      "3232\r"
     ]
    },
    {
     "name": "stdout",
     "output_type": "stream",
     "text": [
      "3233\r"
     ]
    },
    {
     "name": "stdout",
     "output_type": "stream",
     "text": [
      "3234\r"
     ]
    },
    {
     "name": "stdout",
     "output_type": "stream",
     "text": [
      "3235\r"
     ]
    },
    {
     "name": "stdout",
     "output_type": "stream",
     "text": [
      "3236\r"
     ]
    },
    {
     "name": "stdout",
     "output_type": "stream",
     "text": [
      "3237\r"
     ]
    },
    {
     "name": "stdout",
     "output_type": "stream",
     "text": [
      "3238\r"
     ]
    },
    {
     "name": "stdout",
     "output_type": "stream",
     "text": [
      "3239\r"
     ]
    },
    {
     "name": "stdout",
     "output_type": "stream",
     "text": [
      "3240\r"
     ]
    },
    {
     "name": "stdout",
     "output_type": "stream",
     "text": [
      "3241\r"
     ]
    },
    {
     "name": "stdout",
     "output_type": "stream",
     "text": [
      "3242\r"
     ]
    },
    {
     "name": "stdout",
     "output_type": "stream",
     "text": [
      "3243\r"
     ]
    },
    {
     "name": "stdout",
     "output_type": "stream",
     "text": [
      "3244\r"
     ]
    },
    {
     "name": "stdout",
     "output_type": "stream",
     "text": [
      "3245\r"
     ]
    },
    {
     "name": "stdout",
     "output_type": "stream",
     "text": [
      "3246\r"
     ]
    },
    {
     "name": "stdout",
     "output_type": "stream",
     "text": [
      "3247\r"
     ]
    },
    {
     "name": "stdout",
     "output_type": "stream",
     "text": [
      "3248\r"
     ]
    },
    {
     "name": "stdout",
     "output_type": "stream",
     "text": [
      "3249\r"
     ]
    },
    {
     "name": "stdout",
     "output_type": "stream",
     "text": [
      "3250\r"
     ]
    },
    {
     "name": "stdout",
     "output_type": "stream",
     "text": [
      "3251\r"
     ]
    },
    {
     "name": "stdout",
     "output_type": "stream",
     "text": [
      "3252\r"
     ]
    },
    {
     "name": "stdout",
     "output_type": "stream",
     "text": [
      "3253\r"
     ]
    },
    {
     "name": "stdout",
     "output_type": "stream",
     "text": [
      "3254\r"
     ]
    },
    {
     "name": "stdout",
     "output_type": "stream",
     "text": [
      "3255\r"
     ]
    },
    {
     "name": "stdout",
     "output_type": "stream",
     "text": [
      "3256\r"
     ]
    },
    {
     "name": "stdout",
     "output_type": "stream",
     "text": [
      "3257\r"
     ]
    },
    {
     "name": "stdout",
     "output_type": "stream",
     "text": [
      "3258\r"
     ]
    },
    {
     "name": "stdout",
     "output_type": "stream",
     "text": [
      "3259\r"
     ]
    },
    {
     "name": "stdout",
     "output_type": "stream",
     "text": [
      "3260\r"
     ]
    },
    {
     "name": "stdout",
     "output_type": "stream",
     "text": [
      "3261\r"
     ]
    },
    {
     "name": "stdout",
     "output_type": "stream",
     "text": [
      "3262\r"
     ]
    },
    {
     "name": "stdout",
     "output_type": "stream",
     "text": [
      "3263\r"
     ]
    },
    {
     "name": "stdout",
     "output_type": "stream",
     "text": [
      "3264\r"
     ]
    },
    {
     "name": "stdout",
     "output_type": "stream",
     "text": [
      "3265\r"
     ]
    },
    {
     "name": "stdout",
     "output_type": "stream",
     "text": [
      "3266\r"
     ]
    },
    {
     "name": "stdout",
     "output_type": "stream",
     "text": [
      "3267\r"
     ]
    },
    {
     "name": "stdout",
     "output_type": "stream",
     "text": [
      "3268\r"
     ]
    },
    {
     "name": "stdout",
     "output_type": "stream",
     "text": [
      "3269\r"
     ]
    },
    {
     "name": "stdout",
     "output_type": "stream",
     "text": [
      "3270\r"
     ]
    },
    {
     "name": "stdout",
     "output_type": "stream",
     "text": [
      "3271\r"
     ]
    },
    {
     "name": "stdout",
     "output_type": "stream",
     "text": [
      "3272\r"
     ]
    },
    {
     "name": "stdout",
     "output_type": "stream",
     "text": [
      "3273\r"
     ]
    },
    {
     "name": "stdout",
     "output_type": "stream",
     "text": [
      "3274\r"
     ]
    },
    {
     "name": "stdout",
     "output_type": "stream",
     "text": [
      "3275\r"
     ]
    },
    {
     "name": "stdout",
     "output_type": "stream",
     "text": [
      "3276\r"
     ]
    },
    {
     "name": "stdout",
     "output_type": "stream",
     "text": [
      "3277\r"
     ]
    },
    {
     "name": "stdout",
     "output_type": "stream",
     "text": [
      "3278\r"
     ]
    },
    {
     "name": "stdout",
     "output_type": "stream",
     "text": [
      "3279\r"
     ]
    },
    {
     "name": "stdout",
     "output_type": "stream",
     "text": [
      "3280\r"
     ]
    },
    {
     "name": "stdout",
     "output_type": "stream",
     "text": [
      "3281\r"
     ]
    },
    {
     "name": "stdout",
     "output_type": "stream",
     "text": [
      "3282\r"
     ]
    },
    {
     "name": "stdout",
     "output_type": "stream",
     "text": [
      "3283\r"
     ]
    },
    {
     "name": "stdout",
     "output_type": "stream",
     "text": [
      "3284\r"
     ]
    },
    {
     "name": "stdout",
     "output_type": "stream",
     "text": [
      "3285\r"
     ]
    },
    {
     "name": "stdout",
     "output_type": "stream",
     "text": [
      "3286\r"
     ]
    },
    {
     "name": "stdout",
     "output_type": "stream",
     "text": [
      "3287\r"
     ]
    },
    {
     "name": "stdout",
     "output_type": "stream",
     "text": [
      "3288\r"
     ]
    },
    {
     "name": "stdout",
     "output_type": "stream",
     "text": [
      "3289\r"
     ]
    },
    {
     "name": "stdout",
     "output_type": "stream",
     "text": [
      "3290\r"
     ]
    },
    {
     "name": "stdout",
     "output_type": "stream",
     "text": [
      "3291\r"
     ]
    },
    {
     "name": "stdout",
     "output_type": "stream",
     "text": [
      "3292\r"
     ]
    },
    {
     "name": "stdout",
     "output_type": "stream",
     "text": [
      "3293\r"
     ]
    },
    {
     "name": "stdout",
     "output_type": "stream",
     "text": [
      "3294\r"
     ]
    },
    {
     "name": "stdout",
     "output_type": "stream",
     "text": [
      "3295\r"
     ]
    },
    {
     "name": "stdout",
     "output_type": "stream",
     "text": [
      "3296\r"
     ]
    },
    {
     "name": "stdout",
     "output_type": "stream",
     "text": [
      "3297\r"
     ]
    },
    {
     "name": "stdout",
     "output_type": "stream",
     "text": [
      "3298\r"
     ]
    },
    {
     "name": "stdout",
     "output_type": "stream",
     "text": [
      "3299\r"
     ]
    },
    {
     "name": "stdout",
     "output_type": "stream",
     "text": [
      "3300\r"
     ]
    },
    {
     "name": "stdout",
     "output_type": "stream",
     "text": [
      "3301\r"
     ]
    },
    {
     "name": "stdout",
     "output_type": "stream",
     "text": [
      "3302\r"
     ]
    },
    {
     "name": "stdout",
     "output_type": "stream",
     "text": [
      "3303\r"
     ]
    },
    {
     "name": "stdout",
     "output_type": "stream",
     "text": [
      "3304\r"
     ]
    },
    {
     "name": "stdout",
     "output_type": "stream",
     "text": [
      "3305\r"
     ]
    },
    {
     "name": "stdout",
     "output_type": "stream",
     "text": [
      "3306\r"
     ]
    },
    {
     "name": "stdout",
     "output_type": "stream",
     "text": [
      "3307\r"
     ]
    },
    {
     "name": "stdout",
     "output_type": "stream",
     "text": [
      "3308\r"
     ]
    },
    {
     "name": "stdout",
     "output_type": "stream",
     "text": [
      "3309\r"
     ]
    },
    {
     "name": "stdout",
     "output_type": "stream",
     "text": [
      "3310\r"
     ]
    },
    {
     "name": "stdout",
     "output_type": "stream",
     "text": [
      "3311\r"
     ]
    },
    {
     "name": "stdout",
     "output_type": "stream",
     "text": [
      "3312\r"
     ]
    },
    {
     "name": "stdout",
     "output_type": "stream",
     "text": [
      "3313\r"
     ]
    },
    {
     "name": "stdout",
     "output_type": "stream",
     "text": [
      "3314\r"
     ]
    },
    {
     "name": "stdout",
     "output_type": "stream",
     "text": [
      "3315\r"
     ]
    },
    {
     "name": "stdout",
     "output_type": "stream",
     "text": [
      "3316\r"
     ]
    },
    {
     "name": "stdout",
     "output_type": "stream",
     "text": [
      "3317\r"
     ]
    },
    {
     "name": "stdout",
     "output_type": "stream",
     "text": [
      "3318\r"
     ]
    },
    {
     "name": "stdout",
     "output_type": "stream",
     "text": [
      "3319\r"
     ]
    },
    {
     "name": "stdout",
     "output_type": "stream",
     "text": [
      "3320\r"
     ]
    },
    {
     "name": "stdout",
     "output_type": "stream",
     "text": [
      "3321\r"
     ]
    },
    {
     "name": "stdout",
     "output_type": "stream",
     "text": [
      "3322\r"
     ]
    },
    {
     "name": "stdout",
     "output_type": "stream",
     "text": [
      "3323\r"
     ]
    },
    {
     "name": "stdout",
     "output_type": "stream",
     "text": [
      "3324\r"
     ]
    },
    {
     "name": "stdout",
     "output_type": "stream",
     "text": [
      "3325\r"
     ]
    },
    {
     "name": "stdout",
     "output_type": "stream",
     "text": [
      "3326\r"
     ]
    },
    {
     "name": "stdout",
     "output_type": "stream",
     "text": [
      "3327\r"
     ]
    },
    {
     "name": "stdout",
     "output_type": "stream",
     "text": [
      "3328\r"
     ]
    },
    {
     "name": "stdout",
     "output_type": "stream",
     "text": [
      "3329\r"
     ]
    },
    {
     "name": "stdout",
     "output_type": "stream",
     "text": [
      "3330\r"
     ]
    },
    {
     "name": "stdout",
     "output_type": "stream",
     "text": [
      "3331\r"
     ]
    }
   ],
   "source": [
    "RANGE = int(len(tt)/3-1)\n",
    "print(RANGE)\n",
    "\n",
    "first_part  = np.array([(ZE * ((EE-np.roll(EE,1))/dt)),\\\n",
    "                        (ZI * ((II-np.roll(II,1)))/dt)])\n",
    "second_part = np.zeros((2,len(tt)))\n",
    "norm        = np.zeros((2,len(tt)))\n",
    "\n",
    "for t in range(RANGE):\n",
    "\n",
    "    integral_of_convolution = np.zeros((2,2*RANGE))\n",
    "    \n",
    "    for s in np.arange(1,t):      \n",
    "        convolution = [(ZE[t:s+t] * (((wee * F(synEE[t:s+t]) * (1 - F(synEE[t:s+t]))) * ((EE[t-s:t]-EE[t-s-1:t-1])/dt)) + ((-wei * F(synII[t:s+t]) * (1 - F(synII[t:s+t]))) * ((II[t-s:t]-II[t-s-1:t-1])/dt)))),\\\n",
    "                       (ZI[t:s+t] * (((wie * F(synEE[t:s+t]) * (1 - F(synEE[t:s+t]))) * ((EE[t-s:t]-EE[t-s-1:t-1])/dt)) + ((-wii * F(synII[t:s+t]) * (1 - F(synII[t:s+t]))) * ((II[t-s:t]-II[t-s-1:t-1])/dt))))]\n",
    "\n",
    "        inner_integral = np.sum(convolution, axis = 1) * dt\n",
    "        integral_of_convolution[:,s] = gaussian(s*dt, tau, sig) * inner_integral\n",
    "\n",
    "    second_part[:,t] = np.sum(integral_of_convolution, axis=1) * dt\n",
    "\n",
    "    norm[:,t] = first_part[:,t] + second_part[:,t]\n",
    "    print(t, end = '\\r')\n",
    "\n",
    "norm_EE = norm[0,:]\n",
    "norm_II = norm[1,:]\n",
    "\n",
    "first_part_EE = first_part[0,:]\n",
    "first_part_II = first_part[1,:]\n",
    "\n",
    "second_part_EE = second_part[0,:]\n",
    "second_part_II = second_part[1,:]"
   ]
  },
  {
   "cell_type": "code",
   "execution_count": 4,
   "metadata": {
    "execution": {
     "iopub.execute_input": "2025-03-28T04:33:01.706783Z",
     "iopub.status.busy": "2025-03-28T04:33:01.706513Z",
     "iopub.status.idle": "2025-03-28T04:33:01.966143Z",
     "shell.execute_reply": "2025-03-28T04:33:01.965518Z"
    }
   },
   "outputs": [
    {
     "name": "stdout",
     "output_type": "stream",
     "text": [
      "Normalization constant = -2.291\n"
     ]
    },
    {
     "data": {
      "image/png": "[encoded data removed]",
      "text/plain": [
       "<Figure size 1000x400 with 1 Axes>"
      ]
     },
     "metadata": {},
     "output_type": "display_data"
    }
   ],
   "source": [
    "apply_plot_settings()\n",
    "\n",
    "Norm = norm_EE + norm_II\n",
    "first_part = first_part_EE + first_part_II\n",
    "second_part = second_part_EE + second_part_II\n",
    "\n",
    "# select part without transients\n",
    "bottom = int(2/dt)\n",
    "top = int(16/dt)\n",
    "\n",
    "time = tt[bottom:top]\n",
    "Norm = Norm[bottom:top]\n",
    "first_part = first_part[bottom:top]\n",
    "second_part = second_part[bottom:top]\n",
    "\n",
    "Norm_constant = np.mean(Norm[:])\n",
    "print('Normalization constant =', '{0:.3f}'.format(Norm_constant))\n",
    "\n",
    "fig, ax = plt.subplots(figsize=(10, 4)) \n",
    "\n",
    "ax.plot(time, first_part, linewidth=3, label = 'First term', color = \"#66B5F4\")\n",
    "ax.plot(time, second_part, linewidth=3, label = 'Second term', color = \"#E2254B\")\n",
    "ax.plot(time, Norm, linewidth=2, label='Normalization', color = \"black\")\n",
    "ax.set_xlabel('Time $[ms]$')\n",
    "ax.set_ylabel('Phaseshift')\n",
    "ax.set_title('Normalization')\n",
    "plt.ylim(-5,5)\n",
    "ax.legend()\n",
    "\n",
    "plt.show()"
   ]
  },
  {
   "cell_type": "code",
   "execution_count": 5,
   "metadata": {
    "execution": {
     "iopub.execute_input": "2025-03-28T04:33:01.968229Z",
     "iopub.status.busy": "2025-03-28T04:33:01.967869Z",
     "iopub.status.idle": "2025-03-28T04:33:02.013258Z",
     "shell.execute_reply": "2025-03-28T04:33:02.012641Z"
    }
   },
   "outputs": [
    {
     "name": "stdout",
     "output_type": "stream",
     "text": [
      "✅ Data saved to ../data/Normalized_PRC_GAUSSIAN_delay_itr=20000_dt=0.005_tau=1_sig=0.12_wee=20_wei=21_wie=16_wii=6_ie=1.5_ii=-0.5_ZE1=-5_ZI1=1.npy\n"
     ]
    }
   ],
   "source": [
    "params = get_params_for_filename(param_keys, globals())\n",
    "filename = get_filename(\"gaussian\", \"PRC\", **params)\n",
    "savefile = os.path.join(output_dir, filename)\n",
    "data = np.load(savefile, allow_pickle=True)      \n",
    "tt, synEE, synII, ZE, ZI = data[:,0], data[:,1], data[:,2], data[:,3], data[:,4]\n",
    "\n",
    "ZE_normalized = ZE / Norm_constant\n",
    "ZI_normalized = ZI / Norm_constant\n",
    "\n",
    "data = np.column_stack((tt, ZE_normalized, ZI_normalized))\n",
    "\n",
    "params = get_params_for_filename(param_keys, globals())\n",
    "filename = get_filename(\"gaussian\", \"Normalized_PRC\", **params)\n",
    "savefile = os.path.join(output_dir, filename)\n",
    "np.save(savefile, data, allow_pickle=True)\n",
    "\n",
    "print(f\"✅ Data saved to {savefile}\")"
   ]
  },
  {
   "cell_type": "code",
   "execution_count": null,
   "metadata": {},
   "outputs": [],
   "source": []
  }
 ],
 "metadata": {
  "kernelspec": {
   "display_name": "Python 3 (ipykernel)",
   "language": "python",
   "name": "python3"
  },
  "language_info": {
   "codemirror_mode": {
    "name": "ipython",
    "version": 3
   },
   "file_extension": ".py",
   "mimetype": "text/x-python",
   "name": "python",
   "nbconvert_exporter": "python",
   "pygments_lexer": "ipython3",
   "version": "3.10.16"
  }
 },
 "nbformat": 4,
 "nbformat_minor": 4
}
