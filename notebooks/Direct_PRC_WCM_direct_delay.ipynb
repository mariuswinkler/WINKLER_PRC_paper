{
 "cells": [
  {
   "cell_type": "code",
   "execution_count": 1,
   "metadata": {
    "execution": {
     "iopub.execute_input": "2025-03-27T23:06:41.675454Z",
     "iopub.status.busy": "2025-03-27T23:06:41.675036Z",
     "iopub.status.idle": "2025-03-27T23:06:45.776915Z",
     "shell.execute_reply": "2025-03-27T23:06:45.776225Z"
    }
   },
   "outputs": [
    {
     "name": "stdout",
     "output_type": "stream",
     "text": [
      "\n",
      "📢 Using parameters: C=0.01, sig=0.1, itr=20000\n"
     ]
    }
   ],
   "source": [
    "import sys\n",
    "sys.path.append(\"..\")  # Ensure project root is found\n",
    "\n",
    "# Import configurations\n",
    "from configs.plot_config import apply_plot_settings\n",
    "from configs.math_functions import F\n",
    "from configs.parameters import *\n",
    "from configs.filenames import *\n",
    "\n",
    "import matplotlib.pyplot as plt\n",
    "import numpy as np\n",
    "import os\n",
    "\n",
    "C = float(os.getenv(\"C\", C))\n",
    "sig = float(os.getenv(\"sig\", sig))\n",
    "itr = int(os.getenv(\"itr\", itr))\n",
    "\n",
    "print(f\"\\n📢 Using parameters: C={C}, sig={sig}, itr={itr}\")"
   ]
  },
  {
   "cell_type": "code",
   "execution_count": 2,
   "metadata": {
    "execution": {
     "iopub.execute_input": "2025-03-27T23:06:45.811969Z",
     "iopub.status.busy": "2025-03-27T23:06:45.811295Z",
     "iopub.status.idle": "2025-03-27T23:06:45.818367Z",
     "shell.execute_reply": "2025-03-27T23:06:45.817781Z"
    }
   },
   "outputs": [
    {
     "name": "stdout",
     "output_type": "stream",
     "text": [
      "✅ Opened ../data/WCM_DISCRETE_delay_itr=20000_dt=0.005_tau=1_wee=20_wei=21_wie=16_wii=6_ie=1.5_ii=-0.5_E0=0_I0=0.npy\n"
     ]
    }
   ],
   "source": [
    "output_dir = \"../data/\"\n",
    "\n",
    "params = get_params_for_filename(param_keys, globals())\n",
    "filename = get_filename(\"discrete\", \"WCM\", **params)\n",
    "savefile = os.path.join(output_dir, filename)\n",
    "print(f\"✅ Opened {savefile}\")\n",
    "\n",
    "data = np.load(savefile, allow_pickle=True)      \n",
    "t, EE, II = data[:,0], data[:,1], data[:,2]"
   ]
  },
  {
   "cell_type": "markdown",
   "metadata": {},
   "source": [
    "# Phase shift by disturbance"
   ]
  },
  {
   "cell_type": "code",
   "execution_count": 3,
   "metadata": {
    "execution": {
     "iopub.execute_input": "2025-03-27T23:06:45.820481Z",
     "iopub.status.busy": "2025-03-27T23:06:45.820143Z",
     "iopub.status.idle": "2025-03-27T23:07:59.100463Z",
     "shell.execute_reply": "2025-03-27T23:07:59.099747Z"
    }
   },
   "outputs": [
    {
     "name": "stdout",
     "output_type": "stream",
     "text": [
      "0\r"
     ]
    },
    {
     "name": "stdout",
     "output_type": "stream",
     "text": [
      "1\r"
     ]
    },
    {
     "name": "stdout",
     "output_type": "stream",
     "text": [
      "2\r"
     ]
    },
    {
     "name": "stdout",
     "output_type": "stream",
     "text": [
      "3\r"
     ]
    },
    {
     "name": "stdout",
     "output_type": "stream",
     "text": [
      "4\r"
     ]
    },
    {
     "name": "stdout",
     "output_type": "stream",
     "text": [
      "5\r"
     ]
    },
    {
     "name": "stdout",
     "output_type": "stream",
     "text": [
      "6\r"
     ]
    },
    {
     "name": "stdout",
     "output_type": "stream",
     "text": [
      "7\r"
     ]
    },
    {
     "name": "stdout",
     "output_type": "stream",
     "text": [
      "8\r"
     ]
    },
    {
     "name": "stdout",
     "output_type": "stream",
     "text": [
      "9\r"
     ]
    },
    {
     "name": "stdout",
     "output_type": "stream",
     "text": [
      "10\r"
     ]
    },
    {
     "name": "stdout",
     "output_type": "stream",
     "text": [
      "11\r"
     ]
    },
    {
     "name": "stdout",
     "output_type": "stream",
     "text": [
      "12\r"
     ]
    },
    {
     "name": "stdout",
     "output_type": "stream",
     "text": [
      "13\r"
     ]
    },
    {
     "name": "stdout",
     "output_type": "stream",
     "text": [
      "14\r"
     ]
    },
    {
     "name": "stdout",
     "output_type": "stream",
     "text": [
      "15\r"
     ]
    },
    {
     "name": "stdout",
     "output_type": "stream",
     "text": [
      "16\r"
     ]
    },
    {
     "name": "stdout",
     "output_type": "stream",
     "text": [
      "17\r"
     ]
    },
    {
     "name": "stdout",
     "output_type": "stream",
     "text": [
      "18\r"
     ]
    },
    {
     "name": "stdout",
     "output_type": "stream",
     "text": [
      "19\r"
     ]
    },
    {
     "name": "stdout",
     "output_type": "stream",
     "text": [
      "20\r"
     ]
    },
    {
     "name": "stdout",
     "output_type": "stream",
     "text": [
      "21\r"
     ]
    },
    {
     "name": "stdout",
     "output_type": "stream",
     "text": [
      "22\r"
     ]
    },
    {
     "name": "stdout",
     "output_type": "stream",
     "text": [
      "23\r"
     ]
    },
    {
     "name": "stdout",
     "output_type": "stream",
     "text": [
      "24\r"
     ]
    },
    {
     "name": "stdout",
     "output_type": "stream",
     "text": [
      "25\r"
     ]
    },
    {
     "name": "stdout",
     "output_type": "stream",
     "text": [
      "26\r"
     ]
    },
    {
     "name": "stdout",
     "output_type": "stream",
     "text": [
      "27\r"
     ]
    },
    {
     "name": "stdout",
     "output_type": "stream",
     "text": [
      "28\r"
     ]
    },
    {
     "name": "stdout",
     "output_type": "stream",
     "text": [
      "29\r"
     ]
    },
    {
     "name": "stdout",
     "output_type": "stream",
     "text": [
      "30\r"
     ]
    },
    {
     "name": "stdout",
     "output_type": "stream",
     "text": [
      "31\r"
     ]
    },
    {
     "name": "stdout",
     "output_type": "stream",
     "text": [
      "32\r"
     ]
    },
    {
     "name": "stdout",
     "output_type": "stream",
     "text": [
      "33\r"
     ]
    },
    {
     "name": "stdout",
     "output_type": "stream",
     "text": [
      "34\r"
     ]
    },
    {
     "name": "stdout",
     "output_type": "stream",
     "text": [
      "35\r"
     ]
    },
    {
     "name": "stdout",
     "output_type": "stream",
     "text": [
      "36\r"
     ]
    },
    {
     "name": "stdout",
     "output_type": "stream",
     "text": [
      "37\r"
     ]
    },
    {
     "name": "stdout",
     "output_type": "stream",
     "text": [
      "38\r"
     ]
    },
    {
     "name": "stdout",
     "output_type": "stream",
     "text": [
      "39\r"
     ]
    },
    {
     "name": "stdout",
     "output_type": "stream",
     "text": [
      "40\r"
     ]
    },
    {
     "name": "stdout",
     "output_type": "stream",
     "text": [
      "41\r"
     ]
    },
    {
     "name": "stdout",
     "output_type": "stream",
     "text": [
      "42\r"
     ]
    },
    {
     "name": "stdout",
     "output_type": "stream",
     "text": [
      "43\r"
     ]
    },
    {
     "name": "stdout",
     "output_type": "stream",
     "text": [
      "44\r"
     ]
    },
    {
     "name": "stdout",
     "output_type": "stream",
     "text": [
      "45\r"
     ]
    },
    {
     "name": "stdout",
     "output_type": "stream",
     "text": [
      "46\r"
     ]
    },
    {
     "name": "stdout",
     "output_type": "stream",
     "text": [
      "47\r"
     ]
    },
    {
     "name": "stdout",
     "output_type": "stream",
     "text": [
      "48\r"
     ]
    },
    {
     "name": "stdout",
     "output_type": "stream",
     "text": [
      "49\r"
     ]
    },
    {
     "name": "stdout",
     "output_type": "stream",
     "text": [
      "50\r"
     ]
    },
    {
     "name": "stdout",
     "output_type": "stream",
     "text": [
      "51\r"
     ]
    },
    {
     "name": "stdout",
     "output_type": "stream",
     "text": [
      "52\r"
     ]
    },
    {
     "name": "stdout",
     "output_type": "stream",
     "text": [
      "53\r"
     ]
    },
    {
     "name": "stdout",
     "output_type": "stream",
     "text": [
      "54\r"
     ]
    },
    {
     "name": "stdout",
     "output_type": "stream",
     "text": [
      "55\r"
     ]
    },
    {
     "name": "stdout",
     "output_type": "stream",
     "text": [
      "56\r"
     ]
    },
    {
     "name": "stdout",
     "output_type": "stream",
     "text": [
      "57\r"
     ]
    },
    {
     "name": "stdout",
     "output_type": "stream",
     "text": [
      "58\r"
     ]
    },
    {
     "name": "stdout",
     "output_type": "stream",
     "text": [
      "59\r"
     ]
    },
    {
     "name": "stdout",
     "output_type": "stream",
     "text": [
      "60\r"
     ]
    },
    {
     "name": "stdout",
     "output_type": "stream",
     "text": [
      "61\r"
     ]
    },
    {
     "name": "stdout",
     "output_type": "stream",
     "text": [
      "62\r"
     ]
    },
    {
     "name": "stdout",
     "output_type": "stream",
     "text": [
      "63\r"
     ]
    },
    {
     "name": "stdout",
     "output_type": "stream",
     "text": [
      "64\r"
     ]
    },
    {
     "name": "stdout",
     "output_type": "stream",
     "text": [
      "65\r"
     ]
    },
    {
     "name": "stdout",
     "output_type": "stream",
     "text": [
      "66\r"
     ]
    },
    {
     "name": "stdout",
     "output_type": "stream",
     "text": [
      "67\r"
     ]
    },
    {
     "name": "stdout",
     "output_type": "stream",
     "text": [
      "68\r"
     ]
    },
    {
     "name": "stdout",
     "output_type": "stream",
     "text": [
      "69\r"
     ]
    },
    {
     "name": "stdout",
     "output_type": "stream",
     "text": [
      "70\r"
     ]
    },
    {
     "name": "stdout",
     "output_type": "stream",
     "text": [
      "71\r"
     ]
    },
    {
     "name": "stdout",
     "output_type": "stream",
     "text": [
      "72\r"
     ]
    },
    {
     "name": "stdout",
     "output_type": "stream",
     "text": [
      "73\r"
     ]
    },
    {
     "name": "stdout",
     "output_type": "stream",
     "text": [
      "74\r"
     ]
    },
    {
     "name": "stdout",
     "output_type": "stream",
     "text": [
      "75\r"
     ]
    },
    {
     "name": "stdout",
     "output_type": "stream",
     "text": [
      "76\r"
     ]
    },
    {
     "name": "stdout",
     "output_type": "stream",
     "text": [
      "77\r"
     ]
    },
    {
     "name": "stdout",
     "output_type": "stream",
     "text": [
      "78\r"
     ]
    },
    {
     "name": "stdout",
     "output_type": "stream",
     "text": [
      "79\r"
     ]
    },
    {
     "name": "stdout",
     "output_type": "stream",
     "text": [
      "80\r"
     ]
    },
    {
     "name": "stdout",
     "output_type": "stream",
     "text": [
      "81\r"
     ]
    },
    {
     "name": "stdout",
     "output_type": "stream",
     "text": [
      "82\r"
     ]
    },
    {
     "name": "stdout",
     "output_type": "stream",
     "text": [
      "83\r"
     ]
    },
    {
     "name": "stdout",
     "output_type": "stream",
     "text": [
      "84\r"
     ]
    },
    {
     "name": "stdout",
     "output_type": "stream",
     "text": [
      "85\r"
     ]
    },
    {
     "name": "stdout",
     "output_type": "stream",
     "text": [
      "86\r"
     ]
    },
    {
     "name": "stdout",
     "output_type": "stream",
     "text": [
      "87\r"
     ]
    },
    {
     "name": "stdout",
     "output_type": "stream",
     "text": [
      "88\r"
     ]
    },
    {
     "name": "stdout",
     "output_type": "stream",
     "text": [
      "89\r"
     ]
    },
    {
     "name": "stdout",
     "output_type": "stream",
     "text": [
      "90\r"
     ]
    },
    {
     "name": "stdout",
     "output_type": "stream",
     "text": [
      "91\r"
     ]
    },
    {
     "name": "stdout",
     "output_type": "stream",
     "text": [
      "92\r"
     ]
    },
    {
     "name": "stdout",
     "output_type": "stream",
     "text": [
      "93\r"
     ]
    },
    {
     "name": "stdout",
     "output_type": "stream",
     "text": [
      "94\r"
     ]
    },
    {
     "name": "stdout",
     "output_type": "stream",
     "text": [
      "95\r"
     ]
    },
    {
     "name": "stdout",
     "output_type": "stream",
     "text": [
      "96\r"
     ]
    },
    {
     "name": "stdout",
     "output_type": "stream",
     "text": [
      "97\r"
     ]
    },
    {
     "name": "stdout",
     "output_type": "stream",
     "text": [
      "98\r"
     ]
    },
    {
     "name": "stdout",
     "output_type": "stream",
     "text": [
      "99\r"
     ]
    },
    {
     "name": "stdout",
     "output_type": "stream",
     "text": [
      "100\r"
     ]
    },
    {
     "name": "stdout",
     "output_type": "stream",
     "text": [
      "101\r"
     ]
    },
    {
     "name": "stdout",
     "output_type": "stream",
     "text": [
      "102\r"
     ]
    },
    {
     "name": "stdout",
     "output_type": "stream",
     "text": [
      "103\r"
     ]
    },
    {
     "name": "stdout",
     "output_type": "stream",
     "text": [
      "104\r"
     ]
    },
    {
     "name": "stdout",
     "output_type": "stream",
     "text": [
      "105\r"
     ]
    },
    {
     "name": "stdout",
     "output_type": "stream",
     "text": [
      "106\r"
     ]
    },
    {
     "name": "stdout",
     "output_type": "stream",
     "text": [
      "107\r"
     ]
    },
    {
     "name": "stdout",
     "output_type": "stream",
     "text": [
      "108\r"
     ]
    },
    {
     "name": "stdout",
     "output_type": "stream",
     "text": [
      "109\r"
     ]
    },
    {
     "name": "stdout",
     "output_type": "stream",
     "text": [
      "110\r"
     ]
    },
    {
     "name": "stdout",
     "output_type": "stream",
     "text": [
      "111\r"
     ]
    },
    {
     "name": "stdout",
     "output_type": "stream",
     "text": [
      "112\r"
     ]
    },
    {
     "name": "stdout",
     "output_type": "stream",
     "text": [
      "113\r"
     ]
    },
    {
     "name": "stdout",
     "output_type": "stream",
     "text": [
      "114\r"
     ]
    },
    {
     "name": "stdout",
     "output_type": "stream",
     "text": [
      "115\r"
     ]
    },
    {
     "name": "stdout",
     "output_type": "stream",
     "text": [
      "116\r"
     ]
    },
    {
     "name": "stdout",
     "output_type": "stream",
     "text": [
      "117\r"
     ]
    },
    {
     "name": "stdout",
     "output_type": "stream",
     "text": [
      "118\r"
     ]
    },
    {
     "name": "stdout",
     "output_type": "stream",
     "text": [
      "119\r"
     ]
    },
    {
     "name": "stdout",
     "output_type": "stream",
     "text": [
      "120\r"
     ]
    },
    {
     "name": "stdout",
     "output_type": "stream",
     "text": [
      "121\r"
     ]
    },
    {
     "name": "stdout",
     "output_type": "stream",
     "text": [
      "122\r"
     ]
    },
    {
     "name": "stdout",
     "output_type": "stream",
     "text": [
      "123\r"
     ]
    },
    {
     "name": "stdout",
     "output_type": "stream",
     "text": [
      "124\r"
     ]
    },
    {
     "name": "stdout",
     "output_type": "stream",
     "text": [
      "125\r"
     ]
    },
    {
     "name": "stdout",
     "output_type": "stream",
     "text": [
      "126\r"
     ]
    },
    {
     "name": "stdout",
     "output_type": "stream",
     "text": [
      "127\r"
     ]
    },
    {
     "name": "stdout",
     "output_type": "stream",
     "text": [
      "128\r"
     ]
    },
    {
     "name": "stdout",
     "output_type": "stream",
     "text": [
      "129\r"
     ]
    },
    {
     "name": "stdout",
     "output_type": "stream",
     "text": [
      "130\r"
     ]
    },
    {
     "name": "stdout",
     "output_type": "stream",
     "text": [
      "131\r"
     ]
    },
    {
     "name": "stdout",
     "output_type": "stream",
     "text": [
      "132\r"
     ]
    },
    {
     "name": "stdout",
     "output_type": "stream",
     "text": [
      "133\r"
     ]
    },
    {
     "name": "stdout",
     "output_type": "stream",
     "text": [
      "134\r"
     ]
    },
    {
     "name": "stdout",
     "output_type": "stream",
     "text": [
      "135\r"
     ]
    },
    {
     "name": "stdout",
     "output_type": "stream",
     "text": [
      "136\r"
     ]
    },
    {
     "name": "stdout",
     "output_type": "stream",
     "text": [
      "137\r"
     ]
    },
    {
     "name": "stdout",
     "output_type": "stream",
     "text": [
      "138\r"
     ]
    },
    {
     "name": "stdout",
     "output_type": "stream",
     "text": [
      "139\r"
     ]
    },
    {
     "name": "stdout",
     "output_type": "stream",
     "text": [
      "140\r"
     ]
    },
    {
     "name": "stdout",
     "output_type": "stream",
     "text": [
      "141\r"
     ]
    },
    {
     "name": "stdout",
     "output_type": "stream",
     "text": [
      "142\r"
     ]
    },
    {
     "name": "stdout",
     "output_type": "stream",
     "text": [
      "143\r"
     ]
    },
    {
     "name": "stdout",
     "output_type": "stream",
     "text": [
      "144\r"
     ]
    },
    {
     "name": "stdout",
     "output_type": "stream",
     "text": [
      "145\r"
     ]
    },
    {
     "name": "stdout",
     "output_type": "stream",
     "text": [
      "146\r"
     ]
    },
    {
     "name": "stdout",
     "output_type": "stream",
     "text": [
      "147\r"
     ]
    },
    {
     "name": "stdout",
     "output_type": "stream",
     "text": [
      "148\r"
     ]
    },
    {
     "name": "stdout",
     "output_type": "stream",
     "text": [
      "149\r"
     ]
    },
    {
     "name": "stdout",
     "output_type": "stream",
     "text": [
      "150\r"
     ]
    },
    {
     "name": "stdout",
     "output_type": "stream",
     "text": [
      "151\r"
     ]
    },
    {
     "name": "stdout",
     "output_type": "stream",
     "text": [
      "152\r"
     ]
    },
    {
     "name": "stdout",
     "output_type": "stream",
     "text": [
      "153\r"
     ]
    },
    {
     "name": "stdout",
     "output_type": "stream",
     "text": [
      "154\r"
     ]
    },
    {
     "name": "stdout",
     "output_type": "stream",
     "text": [
      "155\r"
     ]
    },
    {
     "name": "stdout",
     "output_type": "stream",
     "text": [
      "156\r"
     ]
    },
    {
     "name": "stdout",
     "output_type": "stream",
     "text": [
      "157\r"
     ]
    },
    {
     "name": "stdout",
     "output_type": "stream",
     "text": [
      "158\r"
     ]
    },
    {
     "name": "stdout",
     "output_type": "stream",
     "text": [
      "159\r"
     ]
    },
    {
     "name": "stdout",
     "output_type": "stream",
     "text": [
      "160\r"
     ]
    },
    {
     "name": "stdout",
     "output_type": "stream",
     "text": [
      "161\r"
     ]
    },
    {
     "name": "stdout",
     "output_type": "stream",
     "text": [
      "162\r"
     ]
    },
    {
     "name": "stdout",
     "output_type": "stream",
     "text": [
      "163\r"
     ]
    },
    {
     "name": "stdout",
     "output_type": "stream",
     "text": [
      "164\r"
     ]
    },
    {
     "name": "stdout",
     "output_type": "stream",
     "text": [
      "165\r"
     ]
    },
    {
     "name": "stdout",
     "output_type": "stream",
     "text": [
      "166\r"
     ]
    },
    {
     "name": "stdout",
     "output_type": "stream",
     "text": [
      "167\r"
     ]
    },
    {
     "name": "stdout",
     "output_type": "stream",
     "text": [
      "168\r"
     ]
    },
    {
     "name": "stdout",
     "output_type": "stream",
     "text": [
      "169\r"
     ]
    },
    {
     "name": "stdout",
     "output_type": "stream",
     "text": [
      "170\r"
     ]
    },
    {
     "name": "stdout",
     "output_type": "stream",
     "text": [
      "171\r"
     ]
    },
    {
     "name": "stdout",
     "output_type": "stream",
     "text": [
      "172\r"
     ]
    },
    {
     "name": "stdout",
     "output_type": "stream",
     "text": [
      "173\r"
     ]
    },
    {
     "name": "stdout",
     "output_type": "stream",
     "text": [
      "174\r"
     ]
    },
    {
     "name": "stdout",
     "output_type": "stream",
     "text": [
      "175\r"
     ]
    },
    {
     "name": "stdout",
     "output_type": "stream",
     "text": [
      "176\r"
     ]
    },
    {
     "name": "stdout",
     "output_type": "stream",
     "text": [
      "177\r"
     ]
    },
    {
     "name": "stdout",
     "output_type": "stream",
     "text": [
      "178\r"
     ]
    },
    {
     "name": "stdout",
     "output_type": "stream",
     "text": [
      "179\r"
     ]
    },
    {
     "name": "stdout",
     "output_type": "stream",
     "text": [
      "180\r"
     ]
    },
    {
     "name": "stdout",
     "output_type": "stream",
     "text": [
      "181\r"
     ]
    },
    {
     "name": "stdout",
     "output_type": "stream",
     "text": [
      "182\r"
     ]
    },
    {
     "name": "stdout",
     "output_type": "stream",
     "text": [
      "183\r"
     ]
    },
    {
     "name": "stdout",
     "output_type": "stream",
     "text": [
      "184\r"
     ]
    },
    {
     "name": "stdout",
     "output_type": "stream",
     "text": [
      "185\r"
     ]
    },
    {
     "name": "stdout",
     "output_type": "stream",
     "text": [
      "186\r"
     ]
    },
    {
     "name": "stdout",
     "output_type": "stream",
     "text": [
      "187\r"
     ]
    },
    {
     "name": "stdout",
     "output_type": "stream",
     "text": [
      "188\r"
     ]
    },
    {
     "name": "stdout",
     "output_type": "stream",
     "text": [
      "189\r"
     ]
    },
    {
     "name": "stdout",
     "output_type": "stream",
     "text": [
      "190\r"
     ]
    },
    {
     "name": "stdout",
     "output_type": "stream",
     "text": [
      "191\r"
     ]
    },
    {
     "name": "stdout",
     "output_type": "stream",
     "text": [
      "192\r"
     ]
    },
    {
     "name": "stdout",
     "output_type": "stream",
     "text": [
      "193\r"
     ]
    },
    {
     "name": "stdout",
     "output_type": "stream",
     "text": [
      "194\r"
     ]
    },
    {
     "name": "stdout",
     "output_type": "stream",
     "text": [
      "195\r"
     ]
    },
    {
     "name": "stdout",
     "output_type": "stream",
     "text": [
      "196\r"
     ]
    },
    {
     "name": "stdout",
     "output_type": "stream",
     "text": [
      "197\r"
     ]
    },
    {
     "name": "stdout",
     "output_type": "stream",
     "text": [
      "198\r"
     ]
    },
    {
     "name": "stdout",
     "output_type": "stream",
     "text": [
      "199\r"
     ]
    },
    {
     "name": "stdout",
     "output_type": "stream",
     "text": [
      "200\r"
     ]
    },
    {
     "name": "stdout",
     "output_type": "stream",
     "text": [
      "201\r"
     ]
    },
    {
     "name": "stdout",
     "output_type": "stream",
     "text": [
      "202\r"
     ]
    },
    {
     "name": "stdout",
     "output_type": "stream",
     "text": [
      "203\r"
     ]
    },
    {
     "name": "stdout",
     "output_type": "stream",
     "text": [
      "204\r"
     ]
    },
    {
     "name": "stdout",
     "output_type": "stream",
     "text": [
      "205\r"
     ]
    },
    {
     "name": "stdout",
     "output_type": "stream",
     "text": [
      "206\r"
     ]
    },
    {
     "name": "stdout",
     "output_type": "stream",
     "text": [
      "207\r"
     ]
    },
    {
     "name": "stdout",
     "output_type": "stream",
     "text": [
      "208\r"
     ]
    },
    {
     "name": "stdout",
     "output_type": "stream",
     "text": [
      "209\r"
     ]
    },
    {
     "name": "stdout",
     "output_type": "stream",
     "text": [
      "210\r"
     ]
    },
    {
     "name": "stdout",
     "output_type": "stream",
     "text": [
      "211\r"
     ]
    },
    {
     "name": "stdout",
     "output_type": "stream",
     "text": [
      "212\r"
     ]
    },
    {
     "name": "stdout",
     "output_type": "stream",
     "text": [
      "213\r"
     ]
    },
    {
     "name": "stdout",
     "output_type": "stream",
     "text": [
      "214\r"
     ]
    },
    {
     "name": "stdout",
     "output_type": "stream",
     "text": [
      "215\r"
     ]
    },
    {
     "name": "stdout",
     "output_type": "stream",
     "text": [
      "216\r"
     ]
    },
    {
     "name": "stdout",
     "output_type": "stream",
     "text": [
      "217\r"
     ]
    },
    {
     "name": "stdout",
     "output_type": "stream",
     "text": [
      "218\r"
     ]
    },
    {
     "name": "stdout",
     "output_type": "stream",
     "text": [
      "219\r"
     ]
    },
    {
     "name": "stdout",
     "output_type": "stream",
     "text": [
      "220\r"
     ]
    },
    {
     "name": "stdout",
     "output_type": "stream",
     "text": [
      "221\r"
     ]
    },
    {
     "name": "stdout",
     "output_type": "stream",
     "text": [
      "222\r"
     ]
    },
    {
     "name": "stdout",
     "output_type": "stream",
     "text": [
      "223\r"
     ]
    },
    {
     "name": "stdout",
     "output_type": "stream",
     "text": [
      "224\r"
     ]
    },
    {
     "name": "stdout",
     "output_type": "stream",
     "text": [
      "225\r"
     ]
    },
    {
     "name": "stdout",
     "output_type": "stream",
     "text": [
      "226\r"
     ]
    },
    {
     "name": "stdout",
     "output_type": "stream",
     "text": [
      "227\r"
     ]
    },
    {
     "name": "stdout",
     "output_type": "stream",
     "text": [
      "228\r"
     ]
    },
    {
     "name": "stdout",
     "output_type": "stream",
     "text": [
      "229\r"
     ]
    },
    {
     "name": "stdout",
     "output_type": "stream",
     "text": [
      "230\r"
     ]
    },
    {
     "name": "stdout",
     "output_type": "stream",
     "text": [
      "231\r"
     ]
    },
    {
     "name": "stdout",
     "output_type": "stream",
     "text": [
      "232\r"
     ]
    },
    {
     "name": "stdout",
     "output_type": "stream",
     "text": [
      "233\r"
     ]
    },
    {
     "name": "stdout",
     "output_type": "stream",
     "text": [
      "234\r"
     ]
    },
    {
     "name": "stdout",
     "output_type": "stream",
     "text": [
      "235\r"
     ]
    },
    {
     "name": "stdout",
     "output_type": "stream",
     "text": [
      "236\r"
     ]
    },
    {
     "name": "stdout",
     "output_type": "stream",
     "text": [
      "237\r"
     ]
    },
    {
     "name": "stdout",
     "output_type": "stream",
     "text": [
      "238\r"
     ]
    },
    {
     "name": "stdout",
     "output_type": "stream",
     "text": [
      "239\r"
     ]
    },
    {
     "name": "stdout",
     "output_type": "stream",
     "text": [
      "240\r"
     ]
    },
    {
     "name": "stdout",
     "output_type": "stream",
     "text": [
      "241\r"
     ]
    },
    {
     "name": "stdout",
     "output_type": "stream",
     "text": [
      "242\r"
     ]
    },
    {
     "name": "stdout",
     "output_type": "stream",
     "text": [
      "243\r"
     ]
    },
    {
     "name": "stdout",
     "output_type": "stream",
     "text": [
      "244\r"
     ]
    },
    {
     "name": "stdout",
     "output_type": "stream",
     "text": [
      "245\r"
     ]
    },
    {
     "name": "stdout",
     "output_type": "stream",
     "text": [
      "246\r"
     ]
    },
    {
     "name": "stdout",
     "output_type": "stream",
     "text": [
      "247\r"
     ]
    },
    {
     "name": "stdout",
     "output_type": "stream",
     "text": [
      "248\r"
     ]
    },
    {
     "name": "stdout",
     "output_type": "stream",
     "text": [
      "249\r"
     ]
    },
    {
     "name": "stdout",
     "output_type": "stream",
     "text": [
      "✅ Data saved to ../data/Direct_PRC_WCM_DISCRETE_delay_itr=20000_dt=0.005_tau=1_wee=20_wei=21_wie=16_wii=6_ie=1.5_ii=-0.5_stepsize=0.07_impulse_power=0.07_impulse_width=1.npy\n"
     ]
    }
   ],
   "source": [
    "# Define perturbation function\n",
    "def perturbation(impulse_power, impulse_onset, impulse_width, dt, t):\n",
    "    return impulse_power * (np.heaviside(impulse_onset/dt + impulse_width/dt - t, 1) - np.heaviside(impulse_onset/dt - t, 1))\n",
    "\n",
    "# Define function for perturbed calculations\n",
    "def calculate_E_and_I_perturbed(EIp, EIp_delay, dt, t_imp, k):\n",
    "    Ep, Ip = EIp\n",
    "    Ep_delay, Ip_delay = EIp_delay\n",
    "    ie, ii, wee, wei, wie, wii, impulse_power, impulse_onset, impulse_width = k\n",
    "\n",
    "    perturb = perturbation(impulse_power, impulse_onset, impulse_width, dt, t_imp)\n",
    "\n",
    "    sigmoid_Ep = F(Ep_delay)\n",
    "    sigmoid_Ip = F(Ip_delay)\n",
    "\n",
    "    dEp = -Ep + ie + wee * sigmoid_Ep - wei * sigmoid_Ip + perturb\n",
    "    dIp = -Ip + ii + wie * sigmoid_Ep - wii * sigmoid_Ip + perturb\n",
    "\n",
    "    return np.array([dEp, dIp])\n",
    "\n",
    "# Initialize parameters\n",
    "\n",
    "data_per = []\n",
    "\n",
    "# Loop for perturbation analysis\n",
    "for i in range(250):\n",
    "    print(i, end='\\r')\n",
    "    impulse_onset = 20 + i * impulse_stepsize\n",
    "    k = np.array([ie, ii, wee, wei, wie, wii, impulse_power, impulse_onset, impulse_width])\n",
    "\n",
    "    tp = np.linspace(0, (itr + 1) * dt, itr)\n",
    "    EIp = np.zeros((2, itr))\n",
    "\n",
    "    # Vectorized computation loop\n",
    "    for n in range(itr - 1):\n",
    "        EIp[:, n + 1] = EIp[:, n] + dt * calculate_E_and_I_perturbed(EIp[:, n], EIp[:, n - d], dt, n, k)\n",
    "\n",
    "    # Extract Ep and Ip\n",
    "    Ep, Ip = EIp\n",
    "\n",
    "    # Define transient cutoff and index range\n",
    "    transient_cutoff = 75  # 15ms\n",
    "    cutoff = int(transient_cutoff / dt)\n",
    "    start_idx, end_idx = cutoff + 1000, cutoff + 2500\n",
    "\n",
    "    EE_window = EE[start_idx:end_idx]\n",
    "    t_window = t[start_idx:end_idx]\n",
    "    EEp_window = Ep[start_idx:end_idx]\n",
    "    tp_window = tp[start_idx:end_idx]\n",
    "\n",
    "    # Compute min values and their indices\n",
    "    EE_min_idx = np.argmin(EE_window)\n",
    "    EEp_min_idx = np.argmin(EEp_window)\n",
    "\n",
    "    # Compute phase shift\n",
    "    phaseshift = (EEp_min_idx - EE_min_idx) * dt\n",
    "\n",
    "    # Append data\n",
    "    data_per.append([impulse_onset, phaseshift])\n",
    "\n",
    "# Convert list to NumPy array for better performance\n",
    "data_per = np.array(data_per)\n",
    "\n",
    "# Save the data\n",
    "params = get_params_for_filename(param_keys, globals())\n",
    "filename = get_filename(\"discrete\", \"Direct_PRC\", **params)\n",
    "savefile = os.path.join(output_dir, filename)\n",
    "np.save(savefile, data_per, allow_pickle=True)\n",
    "\n",
    "print(f\"✅ Data saved to {savefile}\")"
   ]
  },
  {
   "cell_type": "code",
   "execution_count": 4,
   "metadata": {
    "execution": {
     "iopub.execute_input": "2025-03-27T23:07:59.102814Z",
     "iopub.status.busy": "2025-03-27T23:07:59.102437Z",
     "iopub.status.idle": "2025-03-27T23:07:59.424752Z",
     "shell.execute_reply": "2025-03-27T23:07:59.424152Z"
    }
   },
   "outputs": [
    {
     "data": {
      "image/png": "[encoded data removed]",
      "text/plain": [
       "<Figure size 1000x400 with 1 Axes>"
      ]
     },
     "metadata": {},
     "output_type": "display_data"
    }
   ],
   "source": [
    "params = get_params_for_filename(param_keys, globals())\n",
    "filename = get_filename(\"discrete\", \"PRC\", **params)\n",
    "savefile = os.path.join(output_dir, filename)\n",
    "data      = np.load(savefile, allow_pickle=True)          \n",
    "t, ZE, ZI = data[:,0], data[:,1], data[:,2]\n",
    "Z = np.add(ZE, ZI)\n",
    "\n",
    "params = get_params_for_filename(param_keys, globals())\n",
    "filename = get_filename(\"discrete\", \"Direct_PRC\", **params)\n",
    "savefile = os.path.join(output_dir, filename)\n",
    "data      = np.load(savefile, allow_pickle=True)  \n",
    "impulse_onset, phaseshift = data[:,0], data[:,1]\n",
    "\n",
    "### don't plot all data\n",
    "#######################\n",
    "jump = 6\n",
    "impulse_onset = impulse_onset[::jump]\n",
    "phaseshift = phaseshift[::jump]\n",
    "\n",
    "t = t-0.5\n",
    "Z = Z * 0.025\n",
    "phase_length = 7.2065\n",
    "phase_onset  = 26.8\n",
    "\n",
    "apply_plot_settings()\n",
    "fig, ax = plt.subplots(figsize=(10, 4))  # Explicitly define figure size\n",
    "\n",
    "ax.scatter(impulse_onset, phaseshift, label='PRC $Z$, direct', s=160, facecolors='white', edgecolors= '#014225', linewidths = 4, zorder=2)\n",
    "ax.plot(t, Z, label='PRC $Z$, adjoint', color = '#FD4700', zorder=1, linewidth = 4, alpha = 0.6)\n",
    "ax.set_xlim(phase_onset, phase_onset+phase_length)\n",
    "ax.set_ylim(-0.08, 0.04)\n",
    "ax.set_xlabel(r'Phase $\\theta$')\n",
    "ax.set_ylabel('PRC')\n",
    "ax.legend()\n",
    "\n",
    "plt.show()"
   ]
  },
  {
   "cell_type": "code",
   "execution_count": null,
   "metadata": {},
   "outputs": [],
   "source": []
  }
 ],
 "metadata": {
  "kernelspec": {
   "display_name": "Python 3 (ipykernel)",
   "language": "python",
   "name": "python3"
  },
  "language_info": {
   "codemirror_mode": {
    "name": "ipython",
    "version": 3
   },
   "file_extension": ".py",
   "mimetype": "text/x-python",
   "name": "python",
   "nbconvert_exporter": "python",
   "pygments_lexer": "ipython3",
   "version": "3.10.16"
  }
 },
 "nbformat": 4,
 "nbformat_minor": 4
}
