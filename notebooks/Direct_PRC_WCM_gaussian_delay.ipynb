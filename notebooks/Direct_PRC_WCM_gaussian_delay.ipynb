{
 "cells": [
  {
   "cell_type": "code",
   "execution_count": 1,
   "metadata": {
    "execution": {
     "iopub.execute_input": "2025-03-27T23:08:03.235581Z",
     "iopub.status.busy": "2025-03-27T23:08:03.235267Z",
     "iopub.status.idle": "2025-03-27T23:08:03.793858Z",
     "shell.execute_reply": "2025-03-27T23:08:03.793143Z"
    }
   },
   "outputs": [
    {
     "name": "stdout",
     "output_type": "stream",
     "text": [
      "📢 Using parameters: C=0.01, sig=0.1, itr=20000, E0=0, I0=0\n"
     ]
    }
   ],
   "source": [
    "import sys\n",
    "sys.path.append(\"..\")  # Ensure project root is found\n",
    "\n",
    "# Import configurations\n",
    "from configs.plot_config import apply_plot_settings\n",
    "from configs.math_functions import F, gaussian\n",
    "from configs.parameters import *\n",
    "from configs.filenames import *\n",
    "\n",
    "import matplotlib.pyplot as plt\n",
    "import numpy as np\n",
    "import os\n",
    "\n",
    "C = float(os.getenv(\"C\", C))\n",
    "sig = float(os.getenv(\"sig\", sig))\n",
    "itr = int(os.getenv(\"itr\", itr))\n",
    "E0 = int(os.getenv(\"E0\", E0))\n",
    "I0 = int(os.getenv(\"I0\", I0))\n",
    "\n",
    "print(f\"📢 Using parameters: C={C}, sig={sig}, itr={itr}, E0={E0}, I0={I0}\")"
   ]
  },
  {
   "cell_type": "code",
   "execution_count": 2,
   "metadata": {
    "execution": {
     "iopub.execute_input": "2025-03-27T23:08:03.827715Z",
     "iopub.status.busy": "2025-03-27T23:08:03.827232Z",
     "iopub.status.idle": "2025-03-27T23:08:03.834237Z",
     "shell.execute_reply": "2025-03-27T23:08:03.833610Z"
    }
   },
   "outputs": [
    {
     "name": "stdout",
     "output_type": "stream",
     "text": [
      "✅ Opened ../data/WCM_GAUSSIAN_delay_itr=20000_dt=0.005_tau=1_sig=0.1_wee=20_wei=21_wie=16_wii=6_ie=1.5_ii=-0.5_E0=0_I0=0.npy\n"
     ]
    }
   ],
   "source": [
    "output_dir = \"../data/\"\n",
    "\n",
    "params = get_params_for_filename(param_keys, globals())\n",
    "filename = get_filename(\"gaussian\", \"WCM\", **params)\n",
    "savefile = os.path.join(output_dir, filename)\n",
    "print(f\"✅ Opened {savefile}\")\n",
    "\n",
    "data = np.load(savefile, allow_pickle=True)      \n",
    "t, synEE, synII, EE, II = data[:,0], data[:,1], data[:,2], data[:,3], data[:,4]"
   ]
  },
  {
   "cell_type": "markdown",
   "metadata": {},
   "source": [
    "# Phase shift by disturbance"
   ]
  },
  {
   "cell_type": "code",
   "execution_count": 3,
   "metadata": {
    "execution": {
     "iopub.execute_input": "2025-03-27T23:08:03.836303Z",
     "iopub.status.busy": "2025-03-27T23:08:03.836094Z",
     "iopub.status.idle": "2025-03-27T23:34:58.332891Z",
     "shell.execute_reply": "2025-03-27T23:34:58.332164Z"
    },
    "scrolled": true
   },
   "outputs": [
    {
     "name": "stdout",
     "output_type": "stream",
     "text": [
      "\n",
      "Processing step 1/250\n"
     ]
    },
    {
     "name": "stdout",
     "output_type": "stream",
     "text": [
      "Impulse-Onset: 20.0, Phaseshift: -0.06\n",
      "\n",
      "Processing step 2/250\n"
     ]
    },
    {
     "name": "stdout",
     "output_type": "stream",
     "text": [
      "Impulse-Onset: 20.07, Phaseshift: -0.06\n",
      "\n",
      "Processing step 3/250\n"
     ]
    },
    {
     "name": "stdout",
     "output_type": "stream",
     "text": [
      "Impulse-Onset: 20.14, Phaseshift: -0.055\n",
      "\n",
      "Processing step 4/250\n"
     ]
    },
    {
     "name": "stdout",
     "output_type": "stream",
     "text": [
      "Impulse-Onset: 20.21, Phaseshift: -0.055\n",
      "\n",
      "Processing step 5/250\n"
     ]
    },
    {
     "name": "stdout",
     "output_type": "stream",
     "text": [
      "Impulse-Onset: 20.28, Phaseshift: -0.05\n",
      "\n",
      "Processing step 6/250\n"
     ]
    },
    {
     "name": "stdout",
     "output_type": "stream",
     "text": [
      "Impulse-Onset: 20.35, Phaseshift: -0.05\n",
      "\n",
      "Processing step 7/250\n"
     ]
    },
    {
     "name": "stdout",
     "output_type": "stream",
     "text": [
      "Impulse-Onset: 20.42, Phaseshift: -0.045\n",
      "\n",
      "Processing step 8/250\n"
     ]
    },
    {
     "name": "stdout",
     "output_type": "stream",
     "text": [
      "Impulse-Onset: 20.49, Phaseshift: -0.045\n",
      "\n",
      "Processing step 9/250\n"
     ]
    },
    {
     "name": "stdout",
     "output_type": "stream",
     "text": [
      "Impulse-Onset: 20.56, Phaseshift: -0.04\n",
      "\n",
      "Processing step 10/250\n"
     ]
    },
    {
     "name": "stdout",
     "output_type": "stream",
     "text": [
      "Impulse-Onset: 20.63, Phaseshift: -0.035\n",
      "\n",
      "Processing step 11/250\n"
     ]
    },
    {
     "name": "stdout",
     "output_type": "stream",
     "text": [
      "Impulse-Onset: 20.7, Phaseshift: -0.035\n",
      "\n",
      "Processing step 12/250\n"
     ]
    },
    {
     "name": "stdout",
     "output_type": "stream",
     "text": [
      "Impulse-Onset: 20.77, Phaseshift: -0.03\n",
      "\n",
      "Processing step 13/250\n"
     ]
    },
    {
     "name": "stdout",
     "output_type": "stream",
     "text": [
      "Impulse-Onset: 20.84, Phaseshift: -0.03\n",
      "\n",
      "Processing step 14/250\n"
     ]
    },
    {
     "name": "stdout",
     "output_type": "stream",
     "text": [
      "Impulse-Onset: 20.91, Phaseshift: -0.025\n",
      "\n",
      "Processing step 15/250\n"
     ]
    },
    {
     "name": "stdout",
     "output_type": "stream",
     "text": [
      "Impulse-Onset: 20.98, Phaseshift: -0.025\n",
      "\n",
      "Processing step 16/250\n"
     ]
    },
    {
     "name": "stdout",
     "output_type": "stream",
     "text": [
      "Impulse-Onset: 21.05, Phaseshift: -0.02\n",
      "\n",
      "Processing step 17/250\n"
     ]
    },
    {
     "name": "stdout",
     "output_type": "stream",
     "text": [
      "Impulse-Onset: 21.12, Phaseshift: -0.02\n",
      "\n",
      "Processing step 18/250\n"
     ]
    },
    {
     "name": "stdout",
     "output_type": "stream",
     "text": [
      "Impulse-Onset: 21.19, Phaseshift: -0.015\n",
      "\n",
      "Processing step 19/250\n"
     ]
    },
    {
     "name": "stdout",
     "output_type": "stream",
     "text": [
      "Impulse-Onset: 21.26, Phaseshift: -0.015\n",
      "\n",
      "Processing step 20/250\n"
     ]
    },
    {
     "name": "stdout",
     "output_type": "stream",
     "text": [
      "Impulse-Onset: 21.33, Phaseshift: -0.01\n",
      "\n",
      "Processing step 21/250\n"
     ]
    },
    {
     "name": "stdout",
     "output_type": "stream",
     "text": [
      "Impulse-Onset: 21.4, Phaseshift: -0.01\n",
      "\n",
      "Processing step 22/250\n"
     ]
    },
    {
     "name": "stdout",
     "output_type": "stream",
     "text": [
      "Impulse-Onset: 21.47, Phaseshift: -0.005\n",
      "\n",
      "Processing step 23/250\n"
     ]
    },
    {
     "name": "stdout",
     "output_type": "stream",
     "text": [
      "Impulse-Onset: 21.54, Phaseshift: -0.005\n",
      "\n",
      "Processing step 24/250\n"
     ]
    },
    {
     "name": "stdout",
     "output_type": "stream",
     "text": [
      "Impulse-Onset: 21.61, Phaseshift: -0.005\n",
      "\n",
      "Processing step 25/250\n"
     ]
    },
    {
     "name": "stdout",
     "output_type": "stream",
     "text": [
      "Impulse-Onset: 21.68, Phaseshift: 0.0\n",
      "\n",
      "Processing step 26/250\n"
     ]
    },
    {
     "name": "stdout",
     "output_type": "stream",
     "text": [
      "Impulse-Onset: 21.75, Phaseshift: 0.0\n",
      "\n",
      "Processing step 27/250\n"
     ]
    },
    {
     "name": "stdout",
     "output_type": "stream",
     "text": [
      "Impulse-Onset: 21.82, Phaseshift: 0.005\n",
      "\n",
      "Processing step 28/250\n"
     ]
    },
    {
     "name": "stdout",
     "output_type": "stream",
     "text": [
      "Impulse-Onset: 21.89, Phaseshift: 0.005\n",
      "\n",
      "Processing step 29/250\n"
     ]
    },
    {
     "name": "stdout",
     "output_type": "stream",
     "text": [
      "Impulse-Onset: 21.96, Phaseshift: 0.005\n",
      "\n",
      "Processing step 30/250\n"
     ]
    },
    {
     "name": "stdout",
     "output_type": "stream",
     "text": [
      "Impulse-Onset: 22.03, Phaseshift: 0.01\n",
      "\n",
      "Processing step 31/250\n"
     ]
    },
    {
     "name": "stdout",
     "output_type": "stream",
     "text": [
      "Impulse-Onset: 22.1, Phaseshift: 0.01\n",
      "\n",
      "Processing step 32/250\n"
     ]
    },
    {
     "name": "stdout",
     "output_type": "stream",
     "text": [
      "Impulse-Onset: 22.17, Phaseshift: 0.01\n",
      "\n",
      "Processing step 33/250\n"
     ]
    },
    {
     "name": "stdout",
     "output_type": "stream",
     "text": [
      "Impulse-Onset: 22.240000000000002, Phaseshift: 0.01\n",
      "\n",
      "Processing step 34/250\n"
     ]
    },
    {
     "name": "stdout",
     "output_type": "stream",
     "text": [
      "Impulse-Onset: 22.31, Phaseshift: 0.01\n",
      "\n",
      "Processing step 35/250\n"
     ]
    },
    {
     "name": "stdout",
     "output_type": "stream",
     "text": [
      "Impulse-Onset: 22.38, Phaseshift: 0.01\n",
      "\n",
      "Processing step 36/250\n"
     ]
    },
    {
     "name": "stdout",
     "output_type": "stream",
     "text": [
      "Impulse-Onset: 22.45, Phaseshift: 0.015\n",
      "\n",
      "Processing step 37/250\n"
     ]
    },
    {
     "name": "stdout",
     "output_type": "stream",
     "text": [
      "Impulse-Onset: 22.52, Phaseshift: 0.015\n",
      "\n",
      "Processing step 38/250\n"
     ]
    },
    {
     "name": "stdout",
     "output_type": "stream",
     "text": [
      "Impulse-Onset: 22.59, Phaseshift: 0.015\n",
      "\n",
      "Processing step 39/250\n"
     ]
    },
    {
     "name": "stdout",
     "output_type": "stream",
     "text": [
      "Impulse-Onset: 22.66, Phaseshift: 0.015\n",
      "\n",
      "Processing step 40/250\n"
     ]
    },
    {
     "name": "stdout",
     "output_type": "stream",
     "text": [
      "Impulse-Onset: 22.73, Phaseshift: 0.015\n",
      "\n",
      "Processing step 41/250\n"
     ]
    },
    {
     "name": "stdout",
     "output_type": "stream",
     "text": [
      "Impulse-Onset: 22.8, Phaseshift: 0.015\n",
      "\n",
      "Processing step 42/250\n"
     ]
    },
    {
     "name": "stdout",
     "output_type": "stream",
     "text": [
      "Impulse-Onset: 22.87, Phaseshift: 0.01\n",
      "\n",
      "Processing step 43/250\n"
     ]
    },
    {
     "name": "stdout",
     "output_type": "stream",
     "text": [
      "Impulse-Onset: 22.94, Phaseshift: 0.01\n",
      "\n",
      "Processing step 44/250\n"
     ]
    },
    {
     "name": "stdout",
     "output_type": "stream",
     "text": [
      "Impulse-Onset: 23.01, Phaseshift: 0.01\n",
      "\n",
      "Processing step 45/250\n"
     ]
    },
    {
     "name": "stdout",
     "output_type": "stream",
     "text": [
      "Impulse-Onset: 23.08, Phaseshift: 0.01\n",
      "\n",
      "Processing step 46/250\n"
     ]
    },
    {
     "name": "stdout",
     "output_type": "stream",
     "text": [
      "Impulse-Onset: 23.15, Phaseshift: 0.01\n",
      "\n",
      "Processing step 47/250\n"
     ]
    },
    {
     "name": "stdout",
     "output_type": "stream",
     "text": [
      "Impulse-Onset: 23.22, Phaseshift: 0.01\n",
      "\n",
      "Processing step 48/250\n"
     ]
    },
    {
     "name": "stdout",
     "output_type": "stream",
     "text": [
      "Impulse-Onset: 23.29, Phaseshift: 0.01\n",
      "\n",
      "Processing step 49/250\n"
     ]
    },
    {
     "name": "stdout",
     "output_type": "stream",
     "text": [
      "Impulse-Onset: 23.36, Phaseshift: 0.01\n",
      "\n",
      "Processing step 50/250\n"
     ]
    },
    {
     "name": "stdout",
     "output_type": "stream",
     "text": [
      "Impulse-Onset: 23.43, Phaseshift: 0.01\n",
      "\n",
      "Processing step 51/250\n"
     ]
    },
    {
     "name": "stdout",
     "output_type": "stream",
     "text": [
      "Impulse-Onset: 23.5, Phaseshift: 0.015\n",
      "\n",
      "Processing step 52/250\n"
     ]
    },
    {
     "name": "stdout",
     "output_type": "stream",
     "text": [
      "Impulse-Onset: 23.57, Phaseshift: 0.015\n",
      "\n",
      "Processing step 53/250\n"
     ]
    },
    {
     "name": "stdout",
     "output_type": "stream",
     "text": [
      "Impulse-Onset: 23.64, Phaseshift: 0.015\n",
      "\n",
      "Processing step 54/250\n"
     ]
    },
    {
     "name": "stdout",
     "output_type": "stream",
     "text": [
      "Impulse-Onset: 23.71, Phaseshift: 0.015\n",
      "\n",
      "Processing step 55/250\n"
     ]
    },
    {
     "name": "stdout",
     "output_type": "stream",
     "text": [
      "Impulse-Onset: 23.78, Phaseshift: 0.015\n",
      "\n",
      "Processing step 56/250\n"
     ]
    },
    {
     "name": "stdout",
     "output_type": "stream",
     "text": [
      "Impulse-Onset: 23.85, Phaseshift: 0.015\n",
      "\n",
      "Processing step 57/250\n"
     ]
    },
    {
     "name": "stdout",
     "output_type": "stream",
     "text": [
      "Impulse-Onset: 23.92, Phaseshift: 0.015\n",
      "\n",
      "Processing step 58/250\n"
     ]
    },
    {
     "name": "stdout",
     "output_type": "stream",
     "text": [
      "Impulse-Onset: 23.990000000000002, Phaseshift: 0.02\n",
      "\n",
      "Processing step 59/250\n"
     ]
    },
    {
     "name": "stdout",
     "output_type": "stream",
     "text": [
      "Impulse-Onset: 24.060000000000002, Phaseshift: 0.02\n",
      "\n",
      "Processing step 60/250\n"
     ]
    },
    {
     "name": "stdout",
     "output_type": "stream",
     "text": [
      "Impulse-Onset: 24.130000000000003, Phaseshift: 0.02\n",
      "\n",
      "Processing step 61/250\n"
     ]
    },
    {
     "name": "stdout",
     "output_type": "stream",
     "text": [
      "Impulse-Onset: 24.2, Phaseshift: 0.02\n",
      "\n",
      "Processing step 62/250\n"
     ]
    },
    {
     "name": "stdout",
     "output_type": "stream",
     "text": [
      "Impulse-Onset: 24.27, Phaseshift: 0.02\n",
      "\n",
      "Processing step 63/250\n"
     ]
    },
    {
     "name": "stdout",
     "output_type": "stream",
     "text": [
      "Impulse-Onset: 24.34, Phaseshift: 0.02\n",
      "\n",
      "Processing step 64/250\n"
     ]
    },
    {
     "name": "stdout",
     "output_type": "stream",
     "text": [
      "Impulse-Onset: 24.41, Phaseshift: 0.02\n",
      "\n",
      "Processing step 65/250\n"
     ]
    },
    {
     "name": "stdout",
     "output_type": "stream",
     "text": [
      "Impulse-Onset: 24.48, Phaseshift: 0.02\n",
      "\n",
      "Processing step 66/250\n"
     ]
    },
    {
     "name": "stdout",
     "output_type": "stream",
     "text": [
      "Impulse-Onset: 24.55, Phaseshift: 0.02\n",
      "\n",
      "Processing step 67/250\n"
     ]
    },
    {
     "name": "stdout",
     "output_type": "stream",
     "text": [
      "Impulse-Onset: 24.62, Phaseshift: 0.02\n",
      "\n",
      "Processing step 68/250\n"
     ]
    },
    {
     "name": "stdout",
     "output_type": "stream",
     "text": [
      "Impulse-Onset: 24.69, Phaseshift: 0.015\n",
      "\n",
      "Processing step 69/250\n"
     ]
    },
    {
     "name": "stdout",
     "output_type": "stream",
     "text": [
      "Impulse-Onset: 24.76, Phaseshift: 0.015\n",
      "\n",
      "Processing step 70/250\n"
     ]
    },
    {
     "name": "stdout",
     "output_type": "stream",
     "text": [
      "Impulse-Onset: 24.83, Phaseshift: 0.015\n",
      "\n",
      "Processing step 71/250\n"
     ]
    },
    {
     "name": "stdout",
     "output_type": "stream",
     "text": [
      "Impulse-Onset: 24.9, Phaseshift: 0.015\n",
      "\n",
      "Processing step 72/250\n"
     ]
    },
    {
     "name": "stdout",
     "output_type": "stream",
     "text": [
      "Impulse-Onset: 24.97, Phaseshift: 0.01\n",
      "\n",
      "Processing step 73/250\n"
     ]
    },
    {
     "name": "stdout",
     "output_type": "stream",
     "text": [
      "Impulse-Onset: 25.04, Phaseshift: 0.01\n",
      "\n",
      "Processing step 74/250\n"
     ]
    },
    {
     "name": "stdout",
     "output_type": "stream",
     "text": [
      "Impulse-Onset: 25.11, Phaseshift: 0.005\n",
      "\n",
      "Processing step 75/250\n"
     ]
    },
    {
     "name": "stdout",
     "output_type": "stream",
     "text": [
      "Impulse-Onset: 25.18, Phaseshift: 0.005\n",
      "\n",
      "Processing step 76/250\n"
     ]
    },
    {
     "name": "stdout",
     "output_type": "stream",
     "text": [
      "Impulse-Onset: 25.25, Phaseshift: 0.0\n",
      "\n",
      "Processing step 77/250\n"
     ]
    },
    {
     "name": "stdout",
     "output_type": "stream",
     "text": [
      "Impulse-Onset: 25.32, Phaseshift: 0.0\n",
      "\n",
      "Processing step 78/250\n"
     ]
    },
    {
     "name": "stdout",
     "output_type": "stream",
     "text": [
      "Impulse-Onset: 25.39, Phaseshift: -0.005\n",
      "\n",
      "Processing step 79/250\n"
     ]
    },
    {
     "name": "stdout",
     "output_type": "stream",
     "text": [
      "Impulse-Onset: 25.46, Phaseshift: -0.005\n",
      "\n",
      "Processing step 80/250\n"
     ]
    },
    {
     "name": "stdout",
     "output_type": "stream",
     "text": [
      "Impulse-Onset: 25.53, Phaseshift: -0.01\n",
      "\n",
      "Processing step 81/250\n"
     ]
    },
    {
     "name": "stdout",
     "output_type": "stream",
     "text": [
      "Impulse-Onset: 25.6, Phaseshift: -0.015\n",
      "\n",
      "Processing step 82/250\n"
     ]
    },
    {
     "name": "stdout",
     "output_type": "stream",
     "text": [
      "Impulse-Onset: 25.67, Phaseshift: -0.02\n",
      "\n",
      "Processing step 83/250\n"
     ]
    },
    {
     "name": "stdout",
     "output_type": "stream",
     "text": [
      "Impulse-Onset: 25.740000000000002, Phaseshift: -0.025\n",
      "\n",
      "Processing step 84/250\n"
     ]
    },
    {
     "name": "stdout",
     "output_type": "stream",
     "text": [
      "Impulse-Onset: 25.810000000000002, Phaseshift: -0.025\n",
      "\n",
      "Processing step 85/250\n"
     ]
    },
    {
     "name": "stdout",
     "output_type": "stream",
     "text": [
      "Impulse-Onset: 25.880000000000003, Phaseshift: -0.03\n",
      "\n",
      "Processing step 86/250\n"
     ]
    },
    {
     "name": "stdout",
     "output_type": "stream",
     "text": [
      "Impulse-Onset: 25.95, Phaseshift: -0.035\n",
      "\n",
      "Processing step 87/250\n"
     ]
    },
    {
     "name": "stdout",
     "output_type": "stream",
     "text": [
      "Impulse-Onset: 26.02, Phaseshift: -0.04\n",
      "\n",
      "Processing step 88/250\n"
     ]
    },
    {
     "name": "stdout",
     "output_type": "stream",
     "text": [
      "Impulse-Onset: 26.09, Phaseshift: -0.045\n",
      "\n",
      "Processing step 89/250\n"
     ]
    },
    {
     "name": "stdout",
     "output_type": "stream",
     "text": [
      "Impulse-Onset: 26.16, Phaseshift: -0.05\n",
      "\n",
      "Processing step 90/250\n"
     ]
    },
    {
     "name": "stdout",
     "output_type": "stream",
     "text": [
      "Impulse-Onset: 26.23, Phaseshift: -0.05\n",
      "\n",
      "Processing step 91/250\n"
     ]
    },
    {
     "name": "stdout",
     "output_type": "stream",
     "text": [
      "Impulse-Onset: 26.3, Phaseshift: -0.055\n",
      "\n",
      "Processing step 92/250\n"
     ]
    },
    {
     "name": "stdout",
     "output_type": "stream",
     "text": [
      "Impulse-Onset: 26.37, Phaseshift: -0.06\n",
      "\n",
      "Processing step 93/250\n"
     ]
    },
    {
     "name": "stdout",
     "output_type": "stream",
     "text": [
      "Impulse-Onset: 26.44, Phaseshift: -0.06\n",
      "\n",
      "Processing step 94/250\n"
     ]
    },
    {
     "name": "stdout",
     "output_type": "stream",
     "text": [
      "Impulse-Onset: 26.51, Phaseshift: -0.065\n",
      "\n",
      "Processing step 95/250\n"
     ]
    },
    {
     "name": "stdout",
     "output_type": "stream",
     "text": [
      "Impulse-Onset: 26.580000000000002, Phaseshift: -0.065\n",
      "\n",
      "Processing step 96/250\n"
     ]
    },
    {
     "name": "stdout",
     "output_type": "stream",
     "text": [
      "Impulse-Onset: 26.65, Phaseshift: -0.065\n",
      "\n",
      "Processing step 97/250\n"
     ]
    },
    {
     "name": "stdout",
     "output_type": "stream",
     "text": [
      "Impulse-Onset: 26.72, Phaseshift: -0.065\n",
      "\n",
      "Processing step 98/250\n"
     ]
    },
    {
     "name": "stdout",
     "output_type": "stream",
     "text": [
      "Impulse-Onset: 26.79, Phaseshift: -0.065\n",
      "\n",
      "Processing step 99/250\n"
     ]
    },
    {
     "name": "stdout",
     "output_type": "stream",
     "text": [
      "Impulse-Onset: 26.86, Phaseshift: -0.065\n",
      "\n",
      "Processing step 100/250\n"
     ]
    },
    {
     "name": "stdout",
     "output_type": "stream",
     "text": [
      "Impulse-Onset: 26.93, Phaseshift: -0.065\n",
      "\n",
      "Processing step 101/250\n"
     ]
    },
    {
     "name": "stdout",
     "output_type": "stream",
     "text": [
      "Impulse-Onset: 27.0, Phaseshift: -0.065\n",
      "\n",
      "Processing step 102/250\n"
     ]
    },
    {
     "name": "stdout",
     "output_type": "stream",
     "text": [
      "Impulse-Onset: 27.07, Phaseshift: -0.065\n",
      "\n",
      "Processing step 103/250\n"
     ]
    },
    {
     "name": "stdout",
     "output_type": "stream",
     "text": [
      "Impulse-Onset: 27.14, Phaseshift: -0.06\n",
      "\n",
      "Processing step 104/250\n"
     ]
    },
    {
     "name": "stdout",
     "output_type": "stream",
     "text": [
      "Impulse-Onset: 27.21, Phaseshift: -0.06\n",
      "\n",
      "Processing step 105/250\n"
     ]
    },
    {
     "name": "stdout",
     "output_type": "stream",
     "text": [
      "Impulse-Onset: 27.28, Phaseshift: -0.06\n",
      "\n",
      "Processing step 106/250\n"
     ]
    },
    {
     "name": "stdout",
     "output_type": "stream",
     "text": [
      "Impulse-Onset: 27.35, Phaseshift: -0.055\n",
      "\n",
      "Processing step 107/250\n"
     ]
    },
    {
     "name": "stdout",
     "output_type": "stream",
     "text": [
      "Impulse-Onset: 27.42, Phaseshift: -0.055\n",
      "\n",
      "Processing step 108/250\n"
     ]
    },
    {
     "name": "stdout",
     "output_type": "stream",
     "text": [
      "Impulse-Onset: 27.490000000000002, Phaseshift: -0.05\n",
      "\n",
      "Processing step 109/250\n"
     ]
    },
    {
     "name": "stdout",
     "output_type": "stream",
     "text": [
      "Impulse-Onset: 27.560000000000002, Phaseshift: -0.05\n",
      "\n",
      "Processing step 110/250\n"
     ]
    },
    {
     "name": "stdout",
     "output_type": "stream",
     "text": [
      "Impulse-Onset: 27.630000000000003, Phaseshift: -0.045\n",
      "\n",
      "Processing step 111/250\n"
     ]
    },
    {
     "name": "stdout",
     "output_type": "stream",
     "text": [
      "Impulse-Onset: 27.700000000000003, Phaseshift: -0.04\n",
      "\n",
      "Processing step 112/250\n"
     ]
    },
    {
     "name": "stdout",
     "output_type": "stream",
     "text": [
      "Impulse-Onset: 27.77, Phaseshift: -0.04\n",
      "\n",
      "Processing step 113/250\n"
     ]
    },
    {
     "name": "stdout",
     "output_type": "stream",
     "text": [
      "Impulse-Onset: 27.84, Phaseshift: -0.035\n",
      "\n",
      "Processing step 114/250\n"
     ]
    },
    {
     "name": "stdout",
     "output_type": "stream",
     "text": [
      "Impulse-Onset: 27.91, Phaseshift: -0.035\n",
      "\n",
      "Processing step 115/250\n"
     ]
    },
    {
     "name": "stdout",
     "output_type": "stream",
     "text": [
      "Impulse-Onset: 27.98, Phaseshift: -0.03\n",
      "\n",
      "Processing step 116/250\n"
     ]
    },
    {
     "name": "stdout",
     "output_type": "stream",
     "text": [
      "Impulse-Onset: 28.05, Phaseshift: -0.03\n",
      "\n",
      "Processing step 117/250\n"
     ]
    },
    {
     "name": "stdout",
     "output_type": "stream",
     "text": [
      "Impulse-Onset: 28.12, Phaseshift: -0.025\n",
      "\n",
      "Processing step 118/250\n"
     ]
    },
    {
     "name": "stdout",
     "output_type": "stream",
     "text": [
      "Impulse-Onset: 28.19, Phaseshift: -0.02\n",
      "\n",
      "Processing step 119/250\n"
     ]
    },
    {
     "name": "stdout",
     "output_type": "stream",
     "text": [
      "Impulse-Onset: 28.26, Phaseshift: -0.02\n",
      "\n",
      "Processing step 120/250\n"
     ]
    },
    {
     "name": "stdout",
     "output_type": "stream",
     "text": [
      "Impulse-Onset: 28.33, Phaseshift: -0.02\n",
      "\n",
      "Processing step 121/250\n"
     ]
    },
    {
     "name": "stdout",
     "output_type": "stream",
     "text": [
      "Impulse-Onset: 28.4, Phaseshift: -0.015\n",
      "\n",
      "Processing step 122/250\n"
     ]
    },
    {
     "name": "stdout",
     "output_type": "stream",
     "text": [
      "Impulse-Onset: 28.47, Phaseshift: -0.015\n",
      "\n",
      "Processing step 123/250\n"
     ]
    },
    {
     "name": "stdout",
     "output_type": "stream",
     "text": [
      "Impulse-Onset: 28.54, Phaseshift: -0.01\n",
      "\n",
      "Processing step 124/250\n"
     ]
    },
    {
     "name": "stdout",
     "output_type": "stream",
     "text": [
      "Impulse-Onset: 28.61, Phaseshift: -0.01\n",
      "\n",
      "Processing step 125/250\n"
     ]
    },
    {
     "name": "stdout",
     "output_type": "stream",
     "text": [
      "Impulse-Onset: 28.68, Phaseshift: -0.005\n",
      "\n",
      "Processing step 126/250\n"
     ]
    },
    {
     "name": "stdout",
     "output_type": "stream",
     "text": [
      "Impulse-Onset: 28.75, Phaseshift: -0.005\n",
      "\n",
      "Processing step 127/250\n"
     ]
    },
    {
     "name": "stdout",
     "output_type": "stream",
     "text": [
      "Impulse-Onset: 28.82, Phaseshift: 0.0\n",
      "\n",
      "Processing step 128/250\n"
     ]
    },
    {
     "name": "stdout",
     "output_type": "stream",
     "text": [
      "Impulse-Onset: 28.89, Phaseshift: 0.0\n",
      "\n",
      "Processing step 129/250\n"
     ]
    },
    {
     "name": "stdout",
     "output_type": "stream",
     "text": [
      "Impulse-Onset: 28.96, Phaseshift: 0.0\n",
      "\n",
      "Processing step 130/250\n"
     ]
    },
    {
     "name": "stdout",
     "output_type": "stream",
     "text": [
      "Impulse-Onset: 29.03, Phaseshift: 0.005\n",
      "\n",
      "Processing step 131/250\n"
     ]
    },
    {
     "name": "stdout",
     "output_type": "stream",
     "text": [
      "Impulse-Onset: 29.1, Phaseshift: 0.005\n",
      "\n",
      "Processing step 132/250\n"
     ]
    },
    {
     "name": "stdout",
     "output_type": "stream",
     "text": [
      "Impulse-Onset: 29.17, Phaseshift: 0.005\n",
      "\n",
      "Processing step 133/250\n"
     ]
    },
    {
     "name": "stdout",
     "output_type": "stream",
     "text": [
      "Impulse-Onset: 29.240000000000002, Phaseshift: 0.01\n",
      "\n",
      "Processing step 134/250\n"
     ]
    },
    {
     "name": "stdout",
     "output_type": "stream",
     "text": [
      "Impulse-Onset: 29.310000000000002, Phaseshift: 0.01\n",
      "\n",
      "Processing step 135/250\n"
     ]
    },
    {
     "name": "stdout",
     "output_type": "stream",
     "text": [
      "Impulse-Onset: 29.380000000000003, Phaseshift: 0.01\n",
      "\n",
      "Processing step 136/250\n"
     ]
    },
    {
     "name": "stdout",
     "output_type": "stream",
     "text": [
      "Impulse-Onset: 29.450000000000003, Phaseshift: 0.01\n",
      "\n",
      "Processing step 137/250\n"
     ]
    },
    {
     "name": "stdout",
     "output_type": "stream",
     "text": [
      "Impulse-Onset: 29.520000000000003, Phaseshift: 0.01\n",
      "\n",
      "Processing step 138/250\n"
     ]
    },
    {
     "name": "stdout",
     "output_type": "stream",
     "text": [
      "Impulse-Onset: 29.590000000000003, Phaseshift: 0.01\n",
      "\n",
      "Processing step 139/250\n"
     ]
    },
    {
     "name": "stdout",
     "output_type": "stream",
     "text": [
      "Impulse-Onset: 29.66, Phaseshift: 0.015\n",
      "\n",
      "Processing step 140/250\n"
     ]
    },
    {
     "name": "stdout",
     "output_type": "stream",
     "text": [
      "Impulse-Onset: 29.73, Phaseshift: 0.015\n",
      "\n",
      "Processing step 141/250\n"
     ]
    },
    {
     "name": "stdout",
     "output_type": "stream",
     "text": [
      "Impulse-Onset: 29.8, Phaseshift: 0.015\n",
      "\n",
      "Processing step 142/250\n"
     ]
    },
    {
     "name": "stdout",
     "output_type": "stream",
     "text": [
      "Impulse-Onset: 29.87, Phaseshift: 0.015\n",
      "\n",
      "Processing step 143/250\n"
     ]
    },
    {
     "name": "stdout",
     "output_type": "stream",
     "text": [
      "Impulse-Onset: 29.94, Phaseshift: 0.015\n",
      "\n",
      "Processing step 144/250\n"
     ]
    },
    {
     "name": "stdout",
     "output_type": "stream",
     "text": [
      "Impulse-Onset: 30.01, Phaseshift: 0.015\n",
      "\n",
      "Processing step 145/250\n"
     ]
    },
    {
     "name": "stdout",
     "output_type": "stream",
     "text": [
      "Impulse-Onset: 30.080000000000002, Phaseshift: 0.01\n",
      "\n",
      "Processing step 146/250\n"
     ]
    },
    {
     "name": "stdout",
     "output_type": "stream",
     "text": [
      "Impulse-Onset: 30.15, Phaseshift: 0.01\n",
      "\n",
      "Processing step 147/250\n"
     ]
    },
    {
     "name": "stdout",
     "output_type": "stream",
     "text": [
      "Impulse-Onset: 30.22, Phaseshift: 0.01\n",
      "\n",
      "Processing step 148/250\n"
     ]
    },
    {
     "name": "stdout",
     "output_type": "stream",
     "text": [
      "Impulse-Onset: 30.29, Phaseshift: 0.01\n",
      "\n",
      "Processing step 149/250\n"
     ]
    },
    {
     "name": "stdout",
     "output_type": "stream",
     "text": [
      "Impulse-Onset: 30.36, Phaseshift: 0.01\n",
      "\n",
      "Processing step 150/250\n"
     ]
    },
    {
     "name": "stdout",
     "output_type": "stream",
     "text": [
      "Impulse-Onset: 30.43, Phaseshift: 0.01\n",
      "\n",
      "Processing step 151/250\n"
     ]
    },
    {
     "name": "stdout",
     "output_type": "stream",
     "text": [
      "Impulse-Onset: 30.5, Phaseshift: 0.01\n",
      "\n",
      "Processing step 152/250\n"
     ]
    },
    {
     "name": "stdout",
     "output_type": "stream",
     "text": [
      "Impulse-Onset: 30.57, Phaseshift: 0.01\n",
      "\n",
      "Processing step 153/250\n"
     ]
    },
    {
     "name": "stdout",
     "output_type": "stream",
     "text": [
      "Impulse-Onset: 30.64, Phaseshift: 0.01\n",
      "\n",
      "Processing step 154/250\n"
     ]
    },
    {
     "name": "stdout",
     "output_type": "stream",
     "text": [
      "Impulse-Onset: 30.71, Phaseshift: 0.015\n",
      "\n",
      "Processing step 155/250\n"
     ]
    },
    {
     "name": "stdout",
     "output_type": "stream",
     "text": [
      "Impulse-Onset: 30.78, Phaseshift: 0.015\n",
      "\n",
      "Processing step 156/250\n"
     ]
    },
    {
     "name": "stdout",
     "output_type": "stream",
     "text": [
      "Impulse-Onset: 30.85, Phaseshift: 0.015\n",
      "\n",
      "Processing step 157/250\n"
     ]
    },
    {
     "name": "stdout",
     "output_type": "stream",
     "text": [
      "Impulse-Onset: 30.92, Phaseshift: 0.015\n",
      "\n",
      "Processing step 158/250\n"
     ]
    },
    {
     "name": "stdout",
     "output_type": "stream",
     "text": [
      "Impulse-Onset: 30.990000000000002, Phaseshift: 0.015\n",
      "\n",
      "Processing step 159/250\n"
     ]
    },
    {
     "name": "stdout",
     "output_type": "stream",
     "text": [
      "Impulse-Onset: 31.060000000000002, Phaseshift: 0.015\n",
      "\n",
      "Processing step 160/250\n"
     ]
    },
    {
     "name": "stdout",
     "output_type": "stream",
     "text": [
      "Impulse-Onset: 31.130000000000003, Phaseshift: 0.015\n",
      "\n",
      "Processing step 161/250\n"
     ]
    },
    {
     "name": "stdout",
     "output_type": "stream",
     "text": [
      "Impulse-Onset: 31.200000000000003, Phaseshift: 0.02\n",
      "\n",
      "Processing step 162/250\n"
     ]
    },
    {
     "name": "stdout",
     "output_type": "stream",
     "text": [
      "Impulse-Onset: 31.270000000000003, Phaseshift: 0.02\n",
      "\n",
      "Processing step 163/250\n"
     ]
    },
    {
     "name": "stdout",
     "output_type": "stream",
     "text": [
      "Impulse-Onset: 31.340000000000003, Phaseshift: 0.02\n",
      "\n",
      "Processing step 164/250\n"
     ]
    },
    {
     "name": "stdout",
     "output_type": "stream",
     "text": [
      "Impulse-Onset: 31.410000000000004, Phaseshift: 0.02\n",
      "\n",
      "Processing step 165/250\n"
     ]
    },
    {
     "name": "stdout",
     "output_type": "stream",
     "text": [
      "Impulse-Onset: 31.48, Phaseshift: 0.02\n",
      "\n",
      "Processing step 166/250\n"
     ]
    },
    {
     "name": "stdout",
     "output_type": "stream",
     "text": [
      "Impulse-Onset: 31.55, Phaseshift: 0.02\n",
      "\n",
      "Processing step 167/250\n"
     ]
    },
    {
     "name": "stdout",
     "output_type": "stream",
     "text": [
      "Impulse-Onset: 31.62, Phaseshift: 0.02\n",
      "\n",
      "Processing step 168/250\n"
     ]
    },
    {
     "name": "stdout",
     "output_type": "stream",
     "text": [
      "Impulse-Onset: 31.69, Phaseshift: 0.02\n",
      "\n",
      "Processing step 169/250\n"
     ]
    },
    {
     "name": "stdout",
     "output_type": "stream",
     "text": [
      "Impulse-Onset: 31.76, Phaseshift: 0.02\n",
      "\n",
      "Processing step 170/250\n"
     ]
    },
    {
     "name": "stdout",
     "output_type": "stream",
     "text": [
      "Impulse-Onset: 31.830000000000002, Phaseshift: 0.02\n",
      "\n",
      "Processing step 171/250\n"
     ]
    },
    {
     "name": "stdout",
     "output_type": "stream",
     "text": [
      "Impulse-Onset: 31.9, Phaseshift: 0.015\n",
      "\n",
      "Processing step 172/250\n"
     ]
    },
    {
     "name": "stdout",
     "output_type": "stream",
     "text": [
      "Impulse-Onset: 31.97, Phaseshift: 0.015\n",
      "\n",
      "Processing step 173/250\n"
     ]
    },
    {
     "name": "stdout",
     "output_type": "stream",
     "text": [
      "Impulse-Onset: 32.04, Phaseshift: 0.015\n",
      "\n",
      "Processing step 174/250\n"
     ]
    },
    {
     "name": "stdout",
     "output_type": "stream",
     "text": [
      "Impulse-Onset: 32.11, Phaseshift: 0.01\n",
      "\n",
      "Processing step 175/250\n"
     ]
    },
    {
     "name": "stdout",
     "output_type": "stream",
     "text": [
      "Impulse-Onset: 32.18, Phaseshift: 0.01\n",
      "\n",
      "Processing step 176/250\n"
     ]
    },
    {
     "name": "stdout",
     "output_type": "stream",
     "text": [
      "Impulse-Onset: 32.25, Phaseshift: 0.01\n",
      "\n",
      "Processing step 177/250\n"
     ]
    },
    {
     "name": "stdout",
     "output_type": "stream",
     "text": [
      "Impulse-Onset: 32.32, Phaseshift: 0.005\n",
      "\n",
      "Processing step 178/250\n"
     ]
    },
    {
     "name": "stdout",
     "output_type": "stream",
     "text": [
      "Impulse-Onset: 32.39, Phaseshift: 0.005\n",
      "\n",
      "Processing step 179/250\n"
     ]
    },
    {
     "name": "stdout",
     "output_type": "stream",
     "text": [
      "Impulse-Onset: 32.46, Phaseshift: 0.0\n",
      "\n",
      "Processing step 180/250\n"
     ]
    },
    {
     "name": "stdout",
     "output_type": "stream",
     "text": [
      "Impulse-Onset: 32.53, Phaseshift: 0.0\n",
      "\n",
      "Processing step 181/250\n"
     ]
    },
    {
     "name": "stdout",
     "output_type": "stream",
     "text": [
      "Impulse-Onset: 32.6, Phaseshift: -0.005\n",
      "\n",
      "Processing step 182/250\n"
     ]
    },
    {
     "name": "stdout",
     "output_type": "stream",
     "text": [
      "Impulse-Onset: 32.67, Phaseshift: -0.01\n",
      "\n",
      "Processing step 183/250\n"
     ]
    },
    {
     "name": "stdout",
     "output_type": "stream",
     "text": [
      "Impulse-Onset: 32.74, Phaseshift: -0.01\n",
      "\n",
      "Processing step 184/250\n"
     ]
    },
    {
     "name": "stdout",
     "output_type": "stream",
     "text": [
      "Impulse-Onset: 32.81, Phaseshift: -0.015\n",
      "\n",
      "Processing step 185/250\n"
     ]
    },
    {
     "name": "stdout",
     "output_type": "stream",
     "text": [
      "Impulse-Onset: 32.88, Phaseshift: -0.02\n",
      "\n",
      "Processing step 186/250\n"
     ]
    },
    {
     "name": "stdout",
     "output_type": "stream",
     "text": [
      "Impulse-Onset: 32.95, Phaseshift: -0.025\n",
      "\n",
      "Processing step 187/250\n"
     ]
    },
    {
     "name": "stdout",
     "output_type": "stream",
     "text": [
      "Impulse-Onset: 33.02, Phaseshift: -0.03\n",
      "\n",
      "Processing step 188/250\n"
     ]
    },
    {
     "name": "stdout",
     "output_type": "stream",
     "text": [
      "Impulse-Onset: 33.09, Phaseshift: -0.035\n",
      "\n",
      "Processing step 189/250\n"
     ]
    },
    {
     "name": "stdout",
     "output_type": "stream",
     "text": [
      "Impulse-Onset: 33.160000000000004, Phaseshift: -0.035\n",
      "\n",
      "Processing step 190/250\n"
     ]
    },
    {
     "name": "stdout",
     "output_type": "stream",
     "text": [
      "Impulse-Onset: 33.230000000000004, Phaseshift: -0.04\n",
      "\n",
      "Processing step 191/250\n"
     ]
    },
    {
     "name": "stdout",
     "output_type": "stream",
     "text": [
      "Impulse-Onset: 33.3, Phaseshift: -0.045\n",
      "\n",
      "Processing step 192/250\n"
     ]
    },
    {
     "name": "stdout",
     "output_type": "stream",
     "text": [
      "Impulse-Onset: 33.370000000000005, Phaseshift: -0.05\n",
      "\n",
      "Processing step 193/250\n"
     ]
    },
    {
     "name": "stdout",
     "output_type": "stream",
     "text": [
      "Impulse-Onset: 33.44, Phaseshift: -0.055\n",
      "\n",
      "Processing step 194/250\n"
     ]
    },
    {
     "name": "stdout",
     "output_type": "stream",
     "text": [
      "Impulse-Onset: 33.510000000000005, Phaseshift: -0.055\n",
      "\n",
      "Processing step 195/250\n"
     ]
    },
    {
     "name": "stdout",
     "output_type": "stream",
     "text": [
      "Impulse-Onset: 33.58, Phaseshift: -0.06\n",
      "\n",
      "Processing step 196/250\n"
     ]
    },
    {
     "name": "stdout",
     "output_type": "stream",
     "text": [
      "Impulse-Onset: 33.650000000000006, Phaseshift: -0.06\n",
      "\n",
      "Processing step 197/250\n"
     ]
    },
    {
     "name": "stdout",
     "output_type": "stream",
     "text": [
      "Impulse-Onset: 33.72, Phaseshift: -0.065\n",
      "\n",
      "Processing step 198/250\n"
     ]
    },
    {
     "name": "stdout",
     "output_type": "stream",
     "text": [
      "Impulse-Onset: 33.79, Phaseshift: -0.065\n",
      "\n",
      "Processing step 199/250\n"
     ]
    },
    {
     "name": "stdout",
     "output_type": "stream",
     "text": [
      "Impulse-Onset: 33.86, Phaseshift: -0.065\n",
      "\n",
      "Processing step 200/250\n"
     ]
    },
    {
     "name": "stdout",
     "output_type": "stream",
     "text": [
      "Impulse-Onset: 33.93, Phaseshift: -0.065\n",
      "\n",
      "Processing step 201/250\n"
     ]
    },
    {
     "name": "stdout",
     "output_type": "stream",
     "text": [
      "Impulse-Onset: 34.0, Phaseshift: -0.065\n",
      "\n",
      "Processing step 202/250\n"
     ]
    },
    {
     "name": "stdout",
     "output_type": "stream",
     "text": [
      "Impulse-Onset: 34.07, Phaseshift: -0.065\n",
      "\n",
      "Processing step 203/250\n"
     ]
    },
    {
     "name": "stdout",
     "output_type": "stream",
     "text": [
      "Impulse-Onset: 34.14, Phaseshift: -0.065\n",
      "\n",
      "Processing step 204/250\n"
     ]
    },
    {
     "name": "stdout",
     "output_type": "stream",
     "text": [
      "Impulse-Onset: 34.21, Phaseshift: -0.065\n",
      "\n",
      "Processing step 205/250\n"
     ]
    },
    {
     "name": "stdout",
     "output_type": "stream",
     "text": [
      "Impulse-Onset: 34.28, Phaseshift: -0.065\n",
      "\n",
      "Processing step 206/250\n"
     ]
    },
    {
     "name": "stdout",
     "output_type": "stream",
     "text": [
      "Impulse-Onset: 34.35, Phaseshift: -0.06\n",
      "\n",
      "Processing step 207/250\n"
     ]
    },
    {
     "name": "stdout",
     "output_type": "stream",
     "text": [
      "Impulse-Onset: 34.42, Phaseshift: -0.06\n",
      "\n",
      "Processing step 208/250\n"
     ]
    },
    {
     "name": "stdout",
     "output_type": "stream",
     "text": [
      "Impulse-Onset: 34.49, Phaseshift: -0.055\n",
      "\n",
      "Processing step 209/250\n"
     ]
    },
    {
     "name": "stdout",
     "output_type": "stream",
     "text": [
      "Impulse-Onset: 34.56, Phaseshift: -0.055\n",
      "\n",
      "Processing step 210/250\n"
     ]
    },
    {
     "name": "stdout",
     "output_type": "stream",
     "text": [
      "Impulse-Onset: 34.63, Phaseshift: -0.05\n",
      "\n",
      "Processing step 211/250\n"
     ]
    },
    {
     "name": "stdout",
     "output_type": "stream",
     "text": [
      "Impulse-Onset: 34.7, Phaseshift: -0.05\n",
      "\n",
      "Processing step 212/250\n"
     ]
    },
    {
     "name": "stdout",
     "output_type": "stream",
     "text": [
      "Impulse-Onset: 34.77, Phaseshift: -0.045\n",
      "\n",
      "Processing step 213/250\n"
     ]
    },
    {
     "name": "stdout",
     "output_type": "stream",
     "text": [
      "Impulse-Onset: 34.84, Phaseshift: -0.045\n",
      "\n",
      "Processing step 214/250\n"
     ]
    },
    {
     "name": "stdout",
     "output_type": "stream",
     "text": [
      "Impulse-Onset: 34.910000000000004, Phaseshift: -0.04\n",
      "\n",
      "Processing step 215/250\n"
     ]
    },
    {
     "name": "stdout",
     "output_type": "stream",
     "text": [
      "Impulse-Onset: 34.980000000000004, Phaseshift: -0.04\n",
      "\n",
      "Processing step 216/250\n"
     ]
    },
    {
     "name": "stdout",
     "output_type": "stream",
     "text": [
      "Impulse-Onset: 35.05, Phaseshift: -0.035\n",
      "\n",
      "Processing step 217/250\n"
     ]
    },
    {
     "name": "stdout",
     "output_type": "stream",
     "text": [
      "Impulse-Onset: 35.120000000000005, Phaseshift: -0.03\n",
      "\n",
      "Processing step 218/250\n"
     ]
    },
    {
     "name": "stdout",
     "output_type": "stream",
     "text": [
      "Impulse-Onset: 35.19, Phaseshift: -0.03\n",
      "\n",
      "Processing step 219/250\n"
     ]
    },
    {
     "name": "stdout",
     "output_type": "stream",
     "text": [
      "Impulse-Onset: 35.260000000000005, Phaseshift: -0.025\n",
      "\n",
      "Processing step 220/250\n"
     ]
    },
    {
     "name": "stdout",
     "output_type": "stream",
     "text": [
      "Impulse-Onset: 35.33, Phaseshift: -0.025\n",
      "\n",
      "Processing step 221/250\n"
     ]
    },
    {
     "name": "stdout",
     "output_type": "stream",
     "text": [
      "Impulse-Onset: 35.400000000000006, Phaseshift: -0.02\n",
      "\n",
      "Processing step 222/250\n"
     ]
    },
    {
     "name": "stdout",
     "output_type": "stream",
     "text": [
      "Impulse-Onset: 35.47, Phaseshift: -0.02\n",
      "\n",
      "Processing step 223/250\n"
     ]
    },
    {
     "name": "stdout",
     "output_type": "stream",
     "text": [
      "Impulse-Onset: 35.54, Phaseshift: -0.015\n",
      "\n",
      "Processing step 224/250\n"
     ]
    },
    {
     "name": "stdout",
     "output_type": "stream",
     "text": [
      "Impulse-Onset: 35.61, Phaseshift: -0.015\n",
      "\n",
      "Processing step 225/250\n"
     ]
    },
    {
     "name": "stdout",
     "output_type": "stream",
     "text": [
      "Impulse-Onset: 35.68, Phaseshift: -0.01\n",
      "\n",
      "Processing step 226/250\n"
     ]
    },
    {
     "name": "stdout",
     "output_type": "stream",
     "text": [
      "Impulse-Onset: 35.75, Phaseshift: -0.01\n",
      "\n",
      "Processing step 227/250\n"
     ]
    },
    {
     "name": "stdout",
     "output_type": "stream",
     "text": [
      "Impulse-Onset: 35.82, Phaseshift: -0.01\n",
      "\n",
      "Processing step 228/250\n"
     ]
    },
    {
     "name": "stdout",
     "output_type": "stream",
     "text": [
      "Impulse-Onset: 35.89, Phaseshift: -0.005\n",
      "\n",
      "Processing step 229/250\n"
     ]
    },
    {
     "name": "stdout",
     "output_type": "stream",
     "text": [
      "Impulse-Onset: 35.96, Phaseshift: -0.005\n",
      "\n",
      "Processing step 230/250\n"
     ]
    },
    {
     "name": "stdout",
     "output_type": "stream",
     "text": [
      "Impulse-Onset: 36.03, Phaseshift: 0.0\n",
      "\n",
      "Processing step 231/250\n"
     ]
    },
    {
     "name": "stdout",
     "output_type": "stream",
     "text": [
      "Impulse-Onset: 36.1, Phaseshift: 0.0\n",
      "\n",
      "Processing step 232/250\n"
     ]
    },
    {
     "name": "stdout",
     "output_type": "stream",
     "text": [
      "Impulse-Onset: 36.17, Phaseshift: 0.0\n",
      "\n",
      "Processing step 233/250\n"
     ]
    },
    {
     "name": "stdout",
     "output_type": "stream",
     "text": [
      "Impulse-Onset: 36.24, Phaseshift: 0.005\n",
      "\n",
      "Processing step 234/250\n"
     ]
    },
    {
     "name": "stdout",
     "output_type": "stream",
     "text": [
      "Impulse-Onset: 36.31, Phaseshift: 0.005\n",
      "\n",
      "Processing step 235/250\n"
     ]
    },
    {
     "name": "stdout",
     "output_type": "stream",
     "text": [
      "Impulse-Onset: 36.38, Phaseshift: 0.005\n",
      "\n",
      "Processing step 236/250\n"
     ]
    },
    {
     "name": "stdout",
     "output_type": "stream",
     "text": [
      "Impulse-Onset: 36.45, Phaseshift: 0.01\n",
      "\n",
      "Processing step 237/250\n"
     ]
    },
    {
     "name": "stdout",
     "output_type": "stream",
     "text": [
      "Impulse-Onset: 36.52, Phaseshift: 0.01\n",
      "\n",
      "Processing step 238/250\n"
     ]
    },
    {
     "name": "stdout",
     "output_type": "stream",
     "text": [
      "Impulse-Onset: 36.59, Phaseshift: 0.01\n",
      "\n",
      "Processing step 239/250\n"
     ]
    },
    {
     "name": "stdout",
     "output_type": "stream",
     "text": [
      "Impulse-Onset: 36.66, Phaseshift: 0.01\n",
      "\n",
      "Processing step 240/250\n"
     ]
    },
    {
     "name": "stdout",
     "output_type": "stream",
     "text": [
      "Impulse-Onset: 36.730000000000004, Phaseshift: 0.01\n",
      "\n",
      "Processing step 241/250\n"
     ]
    },
    {
     "name": "stdout",
     "output_type": "stream",
     "text": [
      "Impulse-Onset: 36.8, Phaseshift: 0.015\n",
      "\n",
      "Processing step 242/250\n"
     ]
    },
    {
     "name": "stdout",
     "output_type": "stream",
     "text": [
      "Impulse-Onset: 36.870000000000005, Phaseshift: 0.015\n",
      "\n",
      "Processing step 243/250\n"
     ]
    },
    {
     "name": "stdout",
     "output_type": "stream",
     "text": [
      "Impulse-Onset: 36.94, Phaseshift: 0.015\n",
      "\n",
      "Processing step 244/250\n"
     ]
    },
    {
     "name": "stdout",
     "output_type": "stream",
     "text": [
      "Impulse-Onset: 37.010000000000005, Phaseshift: 0.015\n",
      "\n",
      "Processing step 245/250\n"
     ]
    },
    {
     "name": "stdout",
     "output_type": "stream",
     "text": [
      "Impulse-Onset: 37.08, Phaseshift: 0.015\n",
      "\n",
      "Processing step 246/250\n"
     ]
    },
    {
     "name": "stdout",
     "output_type": "stream",
     "text": [
      "Impulse-Onset: 37.150000000000006, Phaseshift: 0.015\n",
      "\n",
      "Processing step 247/250\n"
     ]
    },
    {
     "name": "stdout",
     "output_type": "stream",
     "text": [
      "Impulse-Onset: 37.22, Phaseshift: 0.015\n",
      "\n",
      "Processing step 248/250\n"
     ]
    },
    {
     "name": "stdout",
     "output_type": "stream",
     "text": [
      "Impulse-Onset: 37.290000000000006, Phaseshift: 0.01\n",
      "\n",
      "Processing step 249/250\n"
     ]
    },
    {
     "name": "stdout",
     "output_type": "stream",
     "text": [
      "Impulse-Onset: 37.36, Phaseshift: 0.01\n",
      "\n",
      "Processing step 250/250\n"
     ]
    },
    {
     "name": "stdout",
     "output_type": "stream",
     "text": [
      "Impulse-Onset: 37.43000000000001, Phaseshift: 0.01\n",
      "✅ Data saved to ../data/Direct_PRC_WCM_GAUSSIAN_delay_itr=20000_dt=0.005_tau=1_sig=0.1_wee=20_wei=21_wie=16_wii=6_ie=1.5_ii=-0.5_stepsize=0.07_impulse_power=0.07_impulse_width=1.npy\n"
     ]
    }
   ],
   "source": [
    "t, EE, II = t.flatten(), EE.flatten(), II.flatten()\n",
    "\n",
    "# Define perturbation function\n",
    "def perturbation(impulse_power, impulse_onset, impulse_width, dt, t):\n",
    "    return impulse_power * (\n",
    "        np.heaviside(impulse_onset / dt + impulse_width / dt - t, 1) -\n",
    "        np.heaviside(impulse_onset / dt - t, 1)\n",
    "    )\n",
    "    \n",
    "data_per = []\n",
    "\n",
    "for i in range(250):  # or however many impulses you want\n",
    "    print(f\"\\nProcessing step {i+1}/250\")#, end='\\r')\n",
    "\n",
    "    impulse_onset = 20 + i * impulse_stepsize\n",
    "\n",
    "    EIp = np.zeros((2, itr+1))\n",
    "    EIp[0, 0] = E0  # Matching unperturbed init\n",
    "    EIp[1, 0] = I0\n",
    "\n",
    "    synaptic_input = np.zeros((2, itr+1))\n",
    "    tp = np.linspace(0, (itr+1) * dt, itr+1)\n",
    "\n",
    "    for n in range(itr):\n",
    "        s = np.arange(1, n+1)  # Delays from 1 to n\n",
    "        gauss = gaussian(s * dt, tau, sig)\n",
    "        EIp_backwards = np.flip(EIp[:, 1:n+1], axis=1)  # Reverse EI history for delay\n",
    "\n",
    "        integral = gauss * EIp_backwards\n",
    "        synaptic_input[:, n] = np.sum(integral, axis=1) * dt\n",
    "\n",
    "        perturb = perturbation(impulse_power, impulse_onset, impulse_width, dt, n)\n",
    "\n",
    "        EIp[:, n+1] = [\n",
    "            EIp[0, n] + dt * (-EIp[0, n] + wee * F(synaptic_input[0, n]) - wei * F(synaptic_input[1, n]) + ie + perturb),\n",
    "            EIp[1, n] + dt * (-EIp[1, n] + wie * F(synaptic_input[0, n]) - wii * F(synaptic_input[1, n]) + ii + perturb)\n",
    "        ]\n",
    "\n",
    "    Ep, Ip = EIp  # Store outputs\n",
    "\n",
    "    #plt.plot(t, EE, label='not perturbed', color = \"#ff5000\")\n",
    "    #plt.plot(tp, Ep, label='perturbed', color = \"#005096\")\n",
    "    #plt.xlabel('Time')\n",
    "    #plt.ylabel('Voltage')\n",
    "    ##plt.xlim(24,32)\n",
    "    #plt.title('E- and I- Oscillations - perturbed at {0}ms'.format(impulse_onset))\n",
    "    #plt.legend()\n",
    "    #plt.show()\n",
    "\n",
    "    # Define transient cutoff and index range\n",
    "    transient_cutoff = 50  # 15ms\n",
    "    cutoff = int(transient_cutoff / dt)\n",
    "    start_idx, end_idx = cutoff + 3220, cutoff + 4180\n",
    "\n",
    "    EE_window, EEp_window = EE[start_idx:end_idx], Ep[start_idx:end_idx]\n",
    "    t_window, tp_window = t[start_idx:end_idx], tp[start_idx:end_idx]\n",
    "\n",
    "    # Compute phase shift using `np.argmin()`\n",
    "    tt_min = np.argmin(EE_window)\n",
    "    tt_p_min = np.argmin(EEp_window)\n",
    "    \n",
    "    # Compute phase shift\n",
    "    #print('tt_p_min', tt_p_min*dt)\n",
    "    #print('tt_min', tt_min*dt)\n",
    "    phaseshift = (tt_p_min - tt_min) * dt\n",
    "\n",
    "    EE_min = np.amin(EE_window)\n",
    "    EEp_min = np.amin(EEp_window)\n",
    "    #print('\\nImpulse-Onset at:', np.array([impulse_onset]))\n",
    "    phaseshift = (tt_p_min - tt_min) * dt\n",
    "    #print('Phaseshift:', phaseshift)\n",
    "    \n",
    "    #plt.plot(t_window, EE_window)\n",
    "    #plt.plot(tp_window, EEp_window)\n",
    "    #plt.plot(tp_window[tt_p_min], EEp_min, marker='o', markersize=20, color=\"red\")\n",
    "    #plt.plot(t_window[tt_min], EE_min, marker='o', markersize=20, color=\"green\")\n",
    "    #plt.xlabel('Time [ms]')\n",
    "    #plt.ylabel('Voltage')\n",
    "    #plt.title('Perturbed - not perturbed window for minima determination')\n",
    "    #plt.show()\n",
    "    \n",
    "    # Store data\n",
    "    data_per.append([impulse_onset, phaseshift])\n",
    "\n",
    "    print(f\"Impulse-Onset: {impulse_onset}, Phaseshift: {phaseshift}\")\n",
    "\n",
    "# Convert list to NumPy array for better performance\n",
    "data_per = np.array(data_per)\n",
    "\n",
    "# Save the data\n",
    "params = get_params_for_filename(param_keys, globals())\n",
    "filename = get_filename(\"gaussian\", \"Direct_PRC\", **params)\n",
    "savefile = os.path.join(output_dir, filename)\n",
    "np.save(savefile, data_per, allow_pickle=True)\n",
    "\n",
    "print(f\"✅ Data saved to {savefile}\")\n"
   ]
  },
  {
   "cell_type": "code",
   "execution_count": 4,
   "metadata": {
    "execution": {
     "iopub.execute_input": "2025-03-27T23:34:58.335251Z",
     "iopub.status.busy": "2025-03-27T23:34:58.334739Z",
     "iopub.status.idle": "2025-03-27T23:34:58.619211Z",
     "shell.execute_reply": "2025-03-27T23:34:58.618585Z"
    }
   },
   "outputs": [
    {
     "data": {
      "image/png": "[encoded data removed]",
      "text/plain": [
       "<Figure size 1000x400 with 1 Axes>"
      ]
     },
     "metadata": {},
     "output_type": "display_data"
    }
   ],
   "source": [
    "params   = get_params_for_filename(param_keys, globals())\n",
    "filename = get_filename(\"gaussian\", \"PRC\", **params)\n",
    "savefile = os.path.join(output_dir, filename)\n",
    "data     = np.load(savefile, allow_pickle=True)          \n",
    "t, synEE, synII, ZE, ZI = data[:,0], data[:,1], data[:,2], data[:,3], data[:,4]\n",
    "Z = np.add(ZE, ZI)\n",
    "\n",
    "params    = get_params_for_filename(param_keys, globals())\n",
    "filename  = get_filename(\"gaussian\", \"Direct_PRC\", **params)\n",
    "savefile  = os.path.join(output_dir, filename)\n",
    "data      = np.load(savefile, allow_pickle=True)  \n",
    "impulse_onset, phaseshift = data[:,0], data[:,1]\n",
    "\n",
    "### don't plot all data\n",
    "#######################\n",
    "jump = 6\n",
    "impulse_onset = impulse_onset[::jump]\n",
    "phaseshift = phaseshift[::jump] \n",
    "\n",
    "t = t-0.5\n",
    "Z = Z * 0.028\n",
    "phase_length = 7.184\n",
    "phase_onset  = 26.8\n",
    "\n",
    "apply_plot_settings()\n",
    "fig, ax = plt.subplots(figsize=(10, 4))  # Explicitly define figure size\n",
    "\n",
    "ax.scatter(impulse_onset, phaseshift, label='PRC $Z$, direct', s=160, facecolors='white', edgecolors= '#014225', linewidths = 4, zorder=2)\n",
    "ax.plot(t, Z, label='PRC $Z$, adjoint', color = '#FD4700', zorder=1, linewidth = 4, alpha = 0.6)\n",
    "ax.set_xlim(phase_onset, phase_onset+phase_length)\n",
    "ax.set_ylim(-0.08, 0.04)\n",
    "ax.set_xlabel(r'Phase $\\theta$')\n",
    "ax.set_ylabel('PRC')\n",
    "ax.legend()\n",
    "\n",
    "plt.show()"
   ]
  },
  {
   "cell_type": "code",
   "execution_count": null,
   "metadata": {},
   "outputs": [],
   "source": []
  }
 ],
 "metadata": {
  "kernelspec": {
   "display_name": "Python 3 (ipykernel)",
   "language": "python",
   "name": "python3"
  },
  "language_info": {
   "codemirror_mode": {
    "name": "ipython",
    "version": 3
   },
   "file_extension": ".py",
   "mimetype": "text/x-python",
   "name": "python",
   "nbconvert_exporter": "python",
   "pygments_lexer": "ipython3",
   "version": "3.10.16"
  }
 },
 "nbformat": 4,
 "nbformat_minor": 4
}
